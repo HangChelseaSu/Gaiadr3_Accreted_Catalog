{
 "cells": [
  {
   "cell_type": "code",
   "execution_count": 1,
   "id": "eed15ce6",
   "metadata": {},
   "outputs": [
    {
     "name": "stderr",
     "output_type": "stream",
     "text": [
      "/tmp/ipykernel_57883/1817125433.py:10: DeprecationWarning: Importing display from IPython.core.display is deprecated since IPython 7.14, please import from IPython display\n",
      "  from IPython.core.display import display\n"
     ]
    }
   ],
   "source": [
    "import h5py\n",
    "import numpy as np\n",
    "import pandas as pd\n",
    "import os\n",
    "import pandas as pd\n",
    "import seaborn as sn\n",
    "import torch\n",
    "import torchvision.models as models\n",
    "from pytorch_lightning.callbacks.model_checkpoint import ModelCheckpoint\n",
    "from IPython.core.display import display\n",
    "from collections.abc import Mapping\n",
    "from pytorch_lightning import LightningModule, Trainer\n",
    "from pytorch_lightning.callbacks.progress import TQDMProgressBar\n",
    "from pytorch_lightning.loggers import CSVLogger\n",
    "from torch import nn\n",
    "from torch.nn import functional as F\n",
    "from torch.utils.data import DataLoader, random_split, TensorDataset\n",
    "from pytorch_lightning.callbacks.early_stopping import EarlyStopping\n",
    "from pytorch_lightning.loggers import CSVLogger\n",
    "import torchmetrics\n",
    "from torchvision.transforms import ToTensor\n",
    "import astropy.units as u\n",
    "import astropy.coordinates as coord\n",
    "\n",
    "import matplotlib.pyplot as plt\n",
    "plt.style.use('seaborn-colorblind')\n",
    "from scipy import stats"
   ]
  },
  {
   "cell_type": "code",
   "execution_count": 2,
   "id": "237b0885",
   "metadata": {},
   "outputs": [],
   "source": [
    "#User Input\n",
    "sim = 'DR3_lsr012' #input(\"DR2 or DR3: \")\n",
    "dim = '6D_cyl' #input(\"Input how many dimensions are needed: \")\n",
    "galaxy = 'm12f_lsr1' #input(\"Use m12i or m12f data: \")\n",
    "transfer = True #bool(input(\"Transfer learning (True or False): \"))\n",
    "if transfer == True:\n",
    "    transfer_galaxy = 'm12i' #i nput(\"Which galaxy parameters for transfer learning: \")\n",
    "\n",
    "# Training data\n",
    "if dim == '4D':\n",
    "    x_keys = ['ra', 'dec', 'pmra', 'pmdec']\n",
    "elif dim == '5D':\n",
    "    x_keys = ['ra', 'dec', 'pmra', 'pmdec', 'parallax']\n",
    "elif dim == '6D':\n",
    "    x_keys = ['ra', 'dec', 'pmra', 'pmdec', 'parallax', 'radial_velocity']\n",
    "elif dim == '7D':\n",
    "    x_keys = ['ra', 'dec', 'pmra', 'pmdec', 'parallax', 'radial_velocity', 'feh']\n",
    "elif dim == '9D':\n",
    "    x_keys = ['ra', 'dec', 'pmra', 'pmdec', 'parallax', 'radial_velocity', 'Jr', 'Jphi', 'Jz']\n",
    "elif dim == '10D':\n",
    "    x_keys = ['ra', 'dec', 'pmra', 'pmdec', 'parallax', 'radial_velocity', 'Jr', 'Jphi', 'Jz', 'feh']\n",
    "elif dim == '6D_cyl':\n",
    "    x_keys = ['ra', 'dec', 'pmra', 'pmdec', 'parallax', 'radial_velocity']\n",
    "elif dim == '6D_gal':\n",
    "    x_keys = ['ra', 'dec', 'pmra', 'pmdec', 'parallax', 'radial_velocity']\n",
    "    \n",
    "y_key = 'is_accreted'\n",
    "\n",
    "# Directories\n",
    "path = '/ocean/projects/phy210068p/hsu1/Ananke_datasets_training/AnankeDR3_data_reduced_m12f_lsr1.hdf5'\n",
    "# path = '/ocean/projects/phy210068p/hsu1/Ananke_datasets_training/GaiaDR3_data_reduced.hdf5'\n",
    "out_dir = '/ocean/projects/phy210068p/hsu1/Training_results/' + sim + '/' + galaxy + '/' + dim\n",
    "roc_title = sim + '_' + galaxy + '_' + dim\n",
    "\n",
    "# Parameters\n",
    "learning_rate = 1e-3\n",
    "batch_size = 1024\n",
    "roc_path = '/ocean/projects/phy210068p/hsu1/Training_results/' + sim + '/' + galaxy + '/roc_parameters.hdf5'\n",
    "training_score_path = '/ocean/projects/phy210068p/hsu1/Training_results/' + sim + '/' + galaxy + '/' + dim + '/training_score.hdf5'\n",
    "\n",
    "if transfer == True:\n",
    "    transfer_checkpoint = '/ocean/projects/phy210068p/hsu1/Training_results/' + sim +'/'+ transfer_galaxy +'/'+ dim + '/training_logs/version_0/checkpoints/last.ckpt'\n",
    "\n",
    "train_parameter_file = out_dir + '/training_parameters.hdf5'\n",
    "train_log = out_dir + '/training_logs'\n",
    "checkpoint = train_log + '/version_0/checkpoints/last.ckpt'"
   ]
  },
  {
   "cell_type": "code",
   "execution_count": 3,
   "id": "e1ab180b",
   "metadata": {},
   "outputs": [],
   "source": [
    "data = []\n",
    "f = h5py.File(path, 'r')\n",
    "\n",
    "for i in x_keys:\n",
    "    data.append(f[i][:])\n",
    "y = f[y_key][:]\n",
    "\n",
    "# Getting rid of nan values\n",
    "x = []\n",
    "if 'Jr' in x_keys:\n",
    "    Jr = f['Jr'][:]\n",
    "    mask = (~np.isnan(Jr))\n",
    "    for i in range(len(x_keys)):\n",
    "        new = data[i][:][mask]\n",
    "        x.append(new)\n",
    "    y = y[mask]\n",
    "elif 'radial_velocity' in x_keys:\n",
    "    rv = f['radial_velocity'][:]\n",
    "    mask = (~np.isnan(rv))\n",
    "    for i in range(len(x_keys)):\n",
    "        new = data[i][:][mask]\n",
    "        x.append(new)\n",
    "    y = y[mask]\n",
    "else:\n",
    "    x = data\n",
    "\n",
    "ra = x[0] * u.deg\n",
    "dec = x[1] * u.deg\n",
    "pmra = x[2] * u.mas / u.yr\n",
    "pmdec = x[3] * u.mas / u.yr\n",
    "parallax = x[4] * u.mas\n",
    "rv = x[5] * u.km / u.s\n",
    "\n",
    "dist = coord.Distance(parallax=parallax, allow_negative=True)\n",
    "\n",
    "# Coord transformation\n",
    "icrs = coord.ICRS(\n",
    "    ra=ra, dec=dec, distance=dist, pm_ra_cosdec=pmra, pm_dec=pmdec, radial_velocity=rv)\n",
    "icrs.representation_type = 'cylindrical'\n",
    "\n",
    "rho_cyl = icrs.rho.to_value(u.pc)\n",
    "phi_cyl = icrs.phi.to_value(u.deg)\n",
    "z_cyl = icrs.z.to_value(u.pc)\n",
    "vrho_cyl = icrs.d_rho.to_value(u.mas * u.pc / (u.rad * u.yr))\n",
    "vphi_cyl = icrs.d_phi.to_value(u.mas / u.yr)\n",
    "vz_cyl = icrs.d_z.to_value(u.mas * u.pc / (u.rad * u.yr))\n",
    "\n",
    "x = []\n",
    "x.append(rho_cyl)\n",
    "x.append(phi_cyl)\n",
    "x.append(z_cyl)\n",
    "x.append(vrho_cyl)\n",
    "x.append(vphi_cyl)\n",
    "x.append(vz_cyl)\n",
    "\n",
    "x = np.vstack(x).T\n",
    "f.close()\n",
    "\n",
    "with h5py.File(train_parameter_file, 'r') as f:\n",
    "    shuffle = f['shuffle'][:]\n",
    "x_save = x[shuffle]\n",
    "y_save = y[shuffle]\n",
    "\n",
    "x = x[shuffle]\n",
    "y = y[shuffle]\n",
    "\n",
    "n_train = int(0.9 *len(x))\n",
    "n_val = len(x)-n_train\n",
    "train_x, val_x = x[:n_train], x[n_train: n_train+n_val]\n",
    "train_y, val_y = y[:n_train], y[n_train: n_train+n_val]\n",
    "\n",
    "ny1 = np.sum(train_y==1)\n",
    "ny0 = np.sum(train_y==0)\n",
    "ny = ny1 + ny0\n",
    "w1 = ny/ny1\n",
    "w0 = ny/ny0\n",
    "weight = torch.tensor([w0, w1], dtype=torch.float32)\n",
    "mean_train_x = np.mean(train_x, axis = 0)\n",
    "stdv_train_x = np.std(train_x, axis = 0)\n",
    "train_x = (train_x - mean_train_x) / stdv_train_x\n",
    "val_x = (val_x - mean_train_x) / stdv_train_x\n",
    "train_x = torch.tensor(train_x, dtype=torch.float32)\n",
    "train_y = torch.tensor(train_y, dtype=torch.long)\n",
    "val_x = torch.tensor(val_x, dtype=torch.float32)\n",
    "val_y = torch.tensor(val_y, dtype=torch.long)\n",
    "\n",
    "train_dataset = TensorDataset(train_x, train_y)\n",
    "val_dataset = TensorDataset(val_x, val_y)\n",
    "train_loader = DataLoader(train_dataset, batch_size = batch_size)\n",
    "val_loader = DataLoader(val_dataset, batch_size = batch_size)"
   ]
  },
  {
   "cell_type": "code",
   "execution_count": 4,
   "id": "faeca66d",
   "metadata": {},
   "outputs": [],
   "source": [
    "class Model(LightningModule):\n",
    "                \n",
    "    def __init__(self, weight, mean_train_x, stdv_train_x, transfer):\n",
    "        super().__init__()\n",
    "        self.save_hyperparameters()\n",
    "        self.l1 = torch.nn.Linear(len(x_keys), 100) \n",
    "        self.l2 = torch.nn.Linear(100, 50)\n",
    "        self.l3 = torch.nn.Linear(50, 2)\n",
    "        \n",
    "        self.train_acc = torchmetrics.Accuracy()\n",
    "        self.valid_acc = torchmetrics.Accuracy()\n",
    "        self.weight = weight\n",
    "        self.mean_train_x = mean_train_x\n",
    "        self.stdv_train_x = stdv_train_x\n",
    "        if transfer == True:\n",
    "            self.feature_extractor = Model.load_from_checkpoint(transfer_checkpoint, transfer=False)\n",
    "            self.feature_extractor.freeze()\n",
    "    \n",
    "    def forward(self, x):\n",
    "        x_out = self.l1(x)\n",
    "        x_out = torch.relu(x_out)\n",
    "        x_out = self.l2(x_out)\n",
    "        x_out = torch.relu(x_out)\n",
    "        x_out = self.l3(x_out)\n",
    "        return x_out\n",
    "    \n",
    "    def configure_optimizers(self):\n",
    "        return torch.optim.Adam(self.parameters(), lr=learning_rate)\n",
    "    \n",
    "    def training_step(self, batch, batch_nb):\n",
    "        train_x, train_y = batch \n",
    "        preds = self(train_x)\n",
    "        loss = F.cross_entropy(preds, train_y, weight = self.weight.to(self.device))\n",
    "        self.train_acc(preds, train_y)\n",
    "        self.log('train_loss', loss)\n",
    "        self.log('train_acc', self.train_acc, on_step=False, on_epoch=True, prog_bar=True)\n",
    "        return loss\n",
    "    \n",
    "    def validation_step(self, batch, batch_nb):\n",
    "        val_x, val_y = batch\n",
    "        preds = self(val_x)\n",
    "        loss = F.cross_entropy(preds, val_y, weight=self.weight.to(self.device))\n",
    "        self.valid_acc(preds, val_y)\n",
    "        self.log('val_loss', loss)\n",
    "        self.log('valid_acc', self.valid_acc, on_step=False, on_epoch=True, prog_bar=True)\n",
    "        return loss"
   ]
  },
  {
   "cell_type": "code",
   "execution_count": 5,
   "id": "26e6eff9",
   "metadata": {},
   "outputs": [],
   "source": [
    "if transfer == True:\n",
    "    model = Model(weight, mean_train_x, stdv_train_x, transfer=True)\n",
    "else:\n",
    "    model = Model(weight, mean_train_x, stdv_train_x, transfer=False)\n",
    "model = Model.load_from_checkpoint(checkpoint)\n",
    "mean = model.mean_train_x\n",
    "stdv = model.stdv_train_x\n",
    "weight = model.weight\n",
    "\n",
    "n_test = n_val\n",
    "test_x = x[n_train: n_train+n_test]\n",
    "test_y = y[n_train: n_train+n_test]\n",
    "\n",
    "test_x = (test_x - mean) / stdv\n",
    "\n",
    "test_x = torch.tensor(test_x, dtype=torch.float32)\n",
    "test_y = torch.tensor(test_y, dtype=torch.long)\n",
    "\n",
    "test_dataset = list(zip(test_x, test_y))\n",
    "test_loader = DataLoader(test_dataset, batch_size = batch_size)"
   ]
  },
  {
   "cell_type": "code",
   "execution_count": 51,
   "id": "7091bed1",
   "metadata": {},
   "outputs": [],
   "source": [
    "predict = []\n",
    "target = []\n",
    "x_final = []\n",
    "\n",
    "model.eval()\n",
    "with torch.no_grad():\n",
    "    for batch in test_loader:\n",
    "        x, y = batch\n",
    "        yhat = model(x)\n",
    "        predict.append(yhat.cpu().numpy())\n",
    "        target.append(y.cpu().numpy())\n",
    "        x_final.append(x.cpu().numpy())\n",
    "predict = np.concatenate(predict)\n",
    "target = np.concatenate(target)\n",
    "x_final = np.concatenate(x_final)\n",
    "\n",
    "score = np.exp(predict[:,1])/(np.exp(predict[:,0])+np.exp(predict[:,1]))\n",
    "target_true_mask = (target==True)\n",
    "target_false_mask = (target==False)"
   ]
  },
  {
   "cell_type": "code",
   "execution_count": 52,
   "id": "1dcb7b44",
   "metadata": {},
   "outputs": [
    {
     "name": "stdout",
     "output_type": "stream",
     "text": [
      "<bound method MappingHDF5.keys of <HDF5 file \"training_score.hdf5\" (mode r)>>\n"
     ]
    }
   ],
   "source": [
    "score_path = '/ocean/projects/phy210068p/hsu1/Training_results/DR3_lsr012/m12f_lsr1/6D_cyl/training_score.hdf5'\n",
    "with h5py.File(score_path, 'r') as f:\n",
    "    print(f.keys)\n",
    "    x_final = f['x_final'][:]\n",
    "    score = f['score'][:]\n",
    "    target = f['target'][:]"
   ]
  },
  {
   "cell_type": "code",
   "execution_count": 72,
   "id": "05b0f96f",
   "metadata": {},
   "outputs": [
    {
     "data": {
      "text/plain": [
       "array([-0.21016166, -1.1841502 , -1.2101678 , ...,  0.33416253,\n",
       "       -0.12582551, -1.6239827 ], dtype=float32)"
      ]
     },
     "execution_count": 72,
     "metadata": {},
     "output_type": "execute_result"
    }
   ],
   "source": [
    "vrho"
   ]
  },
  {
   "cell_type": "code",
   "execution_count": 53,
   "id": "71f8880e",
   "metadata": {},
   "outputs": [
    {
     "data": {
      "text/plain": [
       "((3137441, 6),)"
      ]
     },
     "execution_count": 53,
     "metadata": {},
     "output_type": "execute_result"
    }
   ],
   "source": [
    "x_final.shape, "
   ]
  },
  {
   "cell_type": "code",
   "execution_count": 54,
   "id": "c34c8e9a",
   "metadata": {},
   "outputs": [
    {
     "data": {
      "text/plain": [
       "((3137441,), (3137441, 2), (3137441,))"
      ]
     },
     "execution_count": 54,
     "metadata": {},
     "output_type": "execute_result"
    }
   ],
   "source": [
    "target.shape, predict.shape, score.shape"
   ]
  },
  {
   "cell_type": "code",
   "execution_count": 55,
   "id": "f47f0977",
   "metadata": {},
   "outputs": [
    {
     "data": {
      "text/plain": [
       "(0.0, 51784.844356259186, 152217.03144097986)"
      ]
     },
     "execution_count": 55,
     "metadata": {},
     "output_type": "execute_result"
    }
   ],
   "source": [
    "np.sum(vrho_true_bin-vrho_pred_bin), np.sum(vphi_true_bin-vphi_pred_bin), np.sum(vz_true_bin-vz_pred_bin)"
   ]
  },
  {
   "cell_type": "code",
   "execution_count": 56,
   "id": "d3935964",
   "metadata": {},
   "outputs": [
    {
     "data": {
      "text/plain": [
       "array([0.99852985, 0.9678006 , 0.983887  , ..., 0.99822557, 0.98868304,\n",
       "       0.96711236], dtype=float32)"
      ]
     },
     "execution_count": 56,
     "metadata": {},
     "output_type": "execute_result"
    }
   ],
   "source": [
    "score"
   ]
  },
  {
   "cell_type": "code",
   "execution_count": 73,
   "id": "8c5da3a9",
   "metadata": {},
   "outputs": [
    {
     "ename": "TypeError",
     "evalue": "unsupported operand type(s) for -: 'tuple' and 'tuple'",
     "output_type": "error",
     "traceback": [
      "\u001b[0;31m---------------------------------------------------------------------------\u001b[0m",
      "\u001b[0;31mTypeError\u001b[0m                                 Traceback (most recent call last)",
      "Input \u001b[0;32mIn [73]\u001b[0m, in \u001b[0;36m<cell line: 10>\u001b[0;34m()\u001b[0m\n\u001b[1;32m     16\u001b[0m vrho_pred \u001b[38;5;241m=\u001b[39m vrho[score_1\u001b[38;5;241m==\u001b[39m\u001b[38;5;28;01mTrue\u001b[39;00m]\n\u001b[1;32m     17\u001b[0m vrho_pred_bin \u001b[38;5;241m=\u001b[39m  np\u001b[38;5;241m.\u001b[39mhistogram(vrho_pred, bins\u001b[38;5;241m=\u001b[39mnum_bin)\n\u001b[0;32m---> 19\u001b[0m vrho_X2 \u001b[38;5;241m=\u001b[39m np\u001b[38;5;241m.\u001b[39msum((\u001b[43mvrho_true_bin\u001b[49m\u001b[43m \u001b[49m\u001b[38;5;241;43m-\u001b[39;49m\u001b[43m \u001b[49m\u001b[43mvrho_pred_bin\u001b[49m)\u001b[38;5;241m*\u001b[39m\u001b[38;5;241m*\u001b[39m\u001b[38;5;241m2\u001b[39m)\n\u001b[1;32m     21\u001b[0m vphi_true \u001b[38;5;241m=\u001b[39m vphi[target\u001b[38;5;241m==\u001b[39m\u001b[38;5;28;01mTrue\u001b[39;00m]\n\u001b[1;32m     22\u001b[0m vphi_true_bin \u001b[38;5;241m=\u001b[39m  np\u001b[38;5;241m.\u001b[39mhistogram(vphi_true, bins\u001b[38;5;241m=\u001b[39mnum_bin)\n",
      "\u001b[0;31mTypeError\u001b[0m: unsupported operand type(s) for -: 'tuple' and 'tuple'"
     ]
    }
   ],
   "source": [
    "vrho = x_final[:, 3]\n",
    "vphi = x_final[:, 4]\n",
    "vz = x_final[:, 5]\n",
    "vrho = (vrho - np.min(vrho)) / (np.max(vrho) - np.min(vrho))\n",
    "vphi = (vphi - np.min(vphi)) / (np.max(vphi) - np.min(vphi))\n",
    "vz = (vz - np.min(vz)) / (np.max(vz) - np.min(vz))\n",
    "num_bin = 100\n",
    "thresholds = np.linspace(0.1, 0.9, num_bin)\n",
    "X2 = []\n",
    "for thres in thresholds:\n",
    "    score_1 = score>thres\n",
    "\n",
    "    vrho_true = vrho[target==True]\n",
    "    vrho_true_bin = np.histogram(vrho_true, bins=num_bin)\n",
    "\n",
    "    vrho_pred = vrho[score_1==True]\n",
    "    vrho_pred_bin =  np.histogram(vrho_pred, bins=num_bin)\n",
    "\n",
    "    vrho_X2 = np.sum((vrho_true_bin - vrho_pred_bin)**2)\n",
    "\n",
    "    vphi_true = vphi[target==True]\n",
    "    vphi_true_bin =  np.histogram(vphi_true, bins=num_bin)\n",
    "\n",
    "    vphi_pred = vphi[score_1==True]\n",
    "    vphi_pred_bin =  np.histogram(vphi_pred, bins=num_bin)\n",
    "\n",
    "    vphi_X2 = np.sum((vphi_true_bin - vphi_pred_bin)**2)\n",
    "\n",
    "    vz_true = vz[target==True]\n",
    "    vz_true_bin = np.histogram(vz_true, bins=num_bin)\n",
    "\n",
    "    vz_pred = vz[score_1==True]\n",
    "    vz_pred_bin = np.histogram(vz_pred, bins=num_bin)\n",
    "\n",
    "    vz_X2 = np.sum((vz_true_bin - vz_pred_bin)**2)\n",
    "\n",
    "    X2.append(vrho_X2 + vphi_X2 + vz_X2)\n",
    "\n"
   ]
  },
  {
   "cell_type": "code",
   "execution_count": 74,
   "id": "1aeb532b",
   "metadata": {},
   "outputs": [
    {
     "ename": "ValueError",
     "evalue": "min() arg is an empty sequence",
     "output_type": "error",
     "traceback": [
      "\u001b[0;31m---------------------------------------------------------------------------\u001b[0m",
      "\u001b[0;31mValueError\u001b[0m                                Traceback (most recent call last)",
      "Input \u001b[0;32mIn [74]\u001b[0m, in \u001b[0;36m<cell line: 1>\u001b[0;34m()\u001b[0m\n\u001b[0;32m----> 1\u001b[0m thresholds[X2\u001b[38;5;241m/\u001b[39m\u001b[38;5;28;43mmin\u001b[39;49m\u001b[43m(\u001b[49m\u001b[43mX2\u001b[49m\u001b[43m)\u001b[49m\u001b[38;5;241m==\u001b[39m\u001b[38;5;28mmax\u001b[39m(X2\u001b[38;5;241m/\u001b[39m\u001b[38;5;28mmin\u001b[39m(X2))]\n",
      "\u001b[0;31mValueError\u001b[0m: min() arg is an empty sequence"
     ]
    }
   ],
   "source": [
    "thresholds[X2/min(X2)==max(X2/min(X2))]"
   ]
  },
  {
   "cell_type": "code",
   "execution_count": 71,
   "id": "53e2dfbf",
   "metadata": {},
   "outputs": [
    {
     "data": {
      "text/plain": [
       "[<matplotlib.lines.Line2D at 0x150d8d83f310>]"
      ]
     },
     "execution_count": 71,
     "metadata": {},
     "output_type": "execute_result"
    },
    {
     "data": {
      "image/png": "[encoded data removed]",
      "text/plain": [
       "<Figure size 432x288 with 1 Axes>"
      ]
     },
     "metadata": {
      "needs_background": "light"
     },
     "output_type": "display_data"
    }
   ],
   "source": [
    "plt.plot(thresholds, X2/min(X2))"
   ]
  },
  {
   "cell_type": "code",
   "execution_count": 12,
   "id": "94552fbb",
   "metadata": {},
   "outputs": [
    {
     "data": {
      "text/plain": [
       "<matplotlib.legend.Legend at 0x15039b106850>"
      ]
     },
     "execution_count": 12,
     "metadata": {},
     "output_type": "execute_result"
    },
    {
     "data": {
      "image/png": "[encoded data removed]",
      "text/plain": [
       "<Figure size 720x720 with 1 Axes>"
      ]
     },
     "metadata": {
      "needs_background": "light"
     },
     "output_type": "display_data"
    }
   ],
   "source": [
    "fig, ax = plt.subplots(1, figsize=(10, 10))\n",
    "\n",
    "ax.hist(score_a, bins=100, density=True, label='accreted')\n",
    "ax.hist(score_i, bins=100, density=True, label='in situ')\n",
    "ax.set_title(roc_title, fontsize=40)\n",
    "ax.set_xlabel('Scores', fontsize=25)\n",
    "ax.set_ylabel('Normalized Counts', fontsize=25)\n",
    "ax.tick_params(axis='both', labelsize=15)\n",
    "plt.xlim([-40,40])\n",
    "plt.yscale('log')\n",
    "# plt.ylim([0,25])\n",
    "ax.legend(loc='upper right', fontsize=15)"
   ]
  },
  {
   "cell_type": "code",
   "execution_count": null,
   "id": "68b4c85b",
   "metadata": {},
   "outputs": [],
   "source": [
    "#    vrho_true = vrho[target==True]\n",
    "#     vrho_true_bin_stat = stats.binned_statistic(np.linspace(np.min(vrho_true), np.max(vrho_true), len(vrho_true)), vrho_true\n",
    "#                                            , 'median', bins=num_bin)\n",
    "#     vrho_true_bin = vrho_true_bin_stat.statistic\n",
    "\n",
    "#     vrho_pred = vrho[score_1==True]\n",
    "#     vrho_pred_bin_stat = stats.binned_statistic(np.linspace(np.min(vrho_pred), np.max(vrho_pred), len(vrho_pred)), vrho_pred\n",
    "#                                            , 'median', bins=num_bin)\n",
    "#     vrho_pred_bin = vrho_true_bin_stat.statistic \n",
    "\n",
    "#     vrho_X2 = np.sum((vrho_true_bin - vrho_pred_bin)**2)\n",
    "\n",
    "#     vphi_true = vphi[target==True]\n",
    "#     vphi_true_bin_stat = stats.binned_statistic(np.linspace(np.min(vphi_true), np.max(vphi_true), len(vphi_true)), vphi_true\n",
    "#                                            , 'median', bins=num_bin)\n",
    "#     vphi_true_bin = vphi_true_bin_stat.statistic \n",
    "\n",
    "#     vphi_pred = vphi[score_1==True]\n",
    "#     vphi_pred_bin_stat = stats.binned_statistic(np.linspace(np.min(vphi_pred), np.max(vphi_pred), len(vphi_pred)), vphi_pred\n",
    "#                                            , 'median', bins=num_bin)\n",
    "#     vphi_pred_bin = vrho_pred_bin_stat.statistic \n",
    "\n",
    "#     vphi_X2 = np.sum((vphi_true_bin - vphi_pred_bin)**2)\n",
    "\n",
    "#     vz_true = vz[target==True]\n",
    "#     vz_true_bin_stat = stats.binned_statistic(np.linspace(np.min(vz_true), np.max(vz_true), len(vz_true)), vz_true\n",
    "#                                            , 'median', bins=num_bin)\n",
    "#     vz_true_bin = vz_true_bin_stat.statistic \n",
    "\n",
    "#     vz_pred = vz[score_1==True]\n",
    "#     vz_pred_bin_stat = stats.binned_statistic(np.linspace(np.min(vz_pred), np.max(vz_pred), len(vz_pred)), vz_pred\n",
    "#                                            , 'median', bins=num_bin)\n",
    "#     vz_pred_bin = vz_pred_bin_stat.statistic \n",
    "\n",
    "#     vz_X2 = np.sum((vz_true_bin - vz_pred_bin)**2)"
   ]
  }
 ],
 "metadata": {
  "kernelspec": {
   "display_name": "Python 3 (ipykernel)",
   "language": "python",
   "name": "python3"
  },
  "language_info": {
   "codemirror_mode": {
    "name": "ipython",
    "version": 3
   },
   "file_extension": ".py",
   "mimetype": "text/x-python",
   "name": "python",
   "nbconvert_exporter": "python",
   "pygments_lexer": "ipython3",
   "version": "3.8.13"
  }
 },
 "nbformat": 4,
 "nbformat_minor": 5
}
