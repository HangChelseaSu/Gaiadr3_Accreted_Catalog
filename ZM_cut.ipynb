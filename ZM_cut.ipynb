{
 "cells": [
  {
   "cell_type": "code",
   "execution_count": 1,
   "metadata": {},
   "outputs": [],
   "source": [
    "import h5py\n",
    "import numpy as np\n",
    "import pandas as pd\n",
    "import matplotlib.pyplot as plt\n",
    "import matplotlib as mpl\n",
    "import astropy.units as u\n",
    "import astropy.coordinates as coord"
   ]
  },
  {
   "cell_type": "code",
   "execution_count": 2,
   "metadata": {},
   "outputs": [
    {
     "name": "stdout",
     "output_type": "stream",
     "text": [
      "['dec', 'feh', 'is_accreted', 'parallax', 'pmdec', 'pmra', 'ra', 'radial_velocity', 'source_id']\n",
      "(29684295,)\n",
      "(29684295,)\n",
      "(29684295,)\n"
     ]
    },
    {
     "data": {
      "text/plain": [
       "(None, None, None)"
      ]
     },
     "execution_count": 2,
     "metadata": {},
     "output_type": "execute_result"
    }
   ],
   "source": [
    "path = '/ocean/projects/phy210068p/hsu1/Ananke_datasets_training/GaiaDR3_data_reduced.hdf5'\n",
    "with h5py.File(path, 'r') as f:\n",
    "    print(list(f.keys()))\n",
    "    is_accreted = f['is_accreted'][:]\n",
    "    feh = f['feh'][:]\n",
    "    ra = f['ra'][:]\n",
    "\n",
    "print(is_accreted.shape),   print(feh.shape),   print(ra.shape)"
   ]
  },
  {
   "cell_type": "code",
   "execution_count": null,
   "metadata": {},
   "outputs": [],
   "source": [
    "with h5py.File(path, 'r') as f:\n",
    "    ra = f['ra'][:]\n",
    "    dec = f['dec'][:]\n",
    "    parallax = f['parallax'][:]\n",
    "    pmra = f['pmra'][:]\n",
    "    pmdec = f['pmdec'][:]\n",
    "    rv = f['radial_velocity'][:]\n",
    "    source_id = f['source_id'][:]\n",
    "    keep_source_id = source_id\n",
    "    feh = f['feh'][:]"
   ]
  },
  {
   "cell_type": "code",
   "execution_count": null,
   "metadata": {},
   "outputs": [],
   "source": [
    "non_null_mask = (~np.isnan(ra))\n",
    "source_id = source_id[non_null_mask]\n",
    "ra = ra[non_null_mask]\n",
    "dec = dec[non_null_mask]\n",
    "parallax = parallax[non_null_mask]\n",
    "pmra = pmra[non_null_mask]\n",
    "pmdec = pmdec[non_null_mask]\n",
    "rv = rv[non_null_mask]\n",
    "feh = feh[non_null_mask]"
   ]
  },
  {
   "cell_type": "code",
   "execution_count": null,
   "metadata": {},
   "outputs": [],
   "source": [
    "ra = ra * u.deg\n",
    "dec = dec * u.deg\n",
    "pmra = pmra * u.mas / u.yr\n",
    "pmdec = pmdec * u.mas / u.yr\n",
    "parallax = parallax * u.mas\n",
    "rv = rv * u.km / u.s\n",
    "\n",
    "dist = coord.Distance(parallax=parallax, allow_negative=True)\n",
    "\n",
    "# Coord transformation\n",
    "icrs = coord.ICRS(\n",
    "    ra=ra, dec=dec, distance=dist, pm_ra_cosdec=pmra, pm_dec=pmdec, radial_velocity=rv)\n",
    "gal = icrs.transform_to(coord.Galactocentric())\n",
    "x_gal = gal.x.to_value(u.kpc)\n",
    "y_gal = gal.y.to_value(u.kpc)\n",
    "z_gal = gal.z.to_value(u.kpc)\n",
    "vx_gal = gal.v_x.to_value(u.km/u.s)\n",
    "vy_gal = gal.v_y.to_value(u.km/u.s)\n",
    "vz_gal = gal.v_z.to_value(u.km/u.s)  "
   ]
  },
  {
   "cell_type": "code",
   "execution_count": null,
   "metadata": {},
   "outputs": [],
   "source": [
    "z_mask = (np.absolute(z_gal) > 1.5)\n",
    "source_id_z = source_id[z_mask]\n",
    "vx_z = vx_gal[z_mask]\n",
    "vy_z = vy_gal[z_mask]\n",
    "vz_z = vz_gal[z_mask]\n",
    "feh_z = feh[z_mask]"
   ]
  },
  {
   "cell_type": "code",
   "execution_count": null,
   "metadata": {},
   "outputs": [],
   "source": [
    "fe_mask = (feh_z < -1.5)\n",
    "source_id_z_fe = source_id_z[fe_mask]\n",
    "vx_z_fe = vx_z[fe_mask]\n",
    "vy_z_fe = vy_z[fe_mask]\n",
    "vz_z_fe = vz_z[fe_mask]\n",
    "feh_z_fe = feh_z[fe_mask]"
   ]
  },
  {
   "cell_type": "code",
   "execution_count": null,
   "metadata": {},
   "outputs": [],
   "source": [
    "accretion_id = np.isin(keep_source_id, source_id_z_fe)\n",
    "accretion = np.int32(accretion_id)\n",
    "is_accreted = accretion\n",
    "with h5py.File(path, 'a') as f:\n",
    "    # del f['is_accreted']\n",
    "    f.create_dataset('is_accreted', data=accretion)"
   ]
  },
  {
   "cell_type": "code",
   "execution_count": null,
   "metadata": {},
   "outputs": [],
   "source": [
    "accretion.shape, keep_source_id.shape, np.sum(accretion) / len(keep_source_id)"
   ]
  },
  {
   "cell_type": "code",
   "execution_count": null,
   "metadata": {},
   "outputs": [],
   "source": [
    "vr_z_fe = np.sqrt(vx_z_fe**2 + vz_z_fe**2)"
   ]
  },
  {
   "cell_type": "code",
   "execution_count": null,
   "metadata": {},
   "outputs": [],
   "source": [
    "np.sum(np.isnan(x_gal))"
   ]
  },
  {
   "cell_type": "code",
   "execution_count": null,
   "metadata": {},
   "outputs": [],
   "source": [
    "np.sum(np.isnan(vx_z))"
   ]
  },
  {
   "cell_type": "code",
   "execution_count": null,
   "metadata": {},
   "outputs": [],
   "source": [
    "fig, ax = plt.subplots(1, figsize=(13, 10))\n",
    "\n",
    "h = ax.hist2d(vy_z_fe, vr_z_fe, bins=100, weights=np.repeat(1/len(vx_z_fe), len(vx_z_fe)), norm=mpl.colors.LogNorm())\n",
    "ax.set_xlabel(r'$V_y [km s^{-1}]$', fontsize=35)\n",
    "ax.set_ylabel(r'$\\sqrt{V_x^2+V_z^2} [km s^{-1}]$', fontsize=35)\n",
    "ax.set_title('Gaia DR3 Accreted Stars (ZM Cut)', fontsize=40)\n",
    "cb = fig.colorbar(h[3], ax=ax, label=r'Normalized Counts (km/s)$^{-2}$') \n",
    "cb.ax.tick_params(labelsize=35)\n",
    "ax.tick_params(axis='both', labelsize=35)"
   ]
  },
  {
   "cell_type": "code",
   "execution_count": null,
   "metadata": {},
   "outputs": [],
   "source": [
    "with h5py.File(path, 'r') as f:\n",
    "    print(list(f.keys()))"
   ]
  },
  {
   "cell_type": "code",
   "execution_count": null,
   "metadata": {},
   "outputs": [],
   "source": []
  }
 ],
 "metadata": {
  "kernelspec": {
   "display_name": "Python 3",
   "language": "python",
   "name": "python3"
  },
  "language_info": {
   "codemirror_mode": {
    "name": "ipython",
    "version": 3
   },
   "file_extension": ".py",
   "mimetype": "text/x-python",
   "name": "python",
   "nbconvert_exporter": "python",
   "pygments_lexer": "ipython3",
   "version": "3.8.13"
  },
  "orig_nbformat": 4
 },
 "nbformat": 4,
 "nbformat_minor": 2
}
