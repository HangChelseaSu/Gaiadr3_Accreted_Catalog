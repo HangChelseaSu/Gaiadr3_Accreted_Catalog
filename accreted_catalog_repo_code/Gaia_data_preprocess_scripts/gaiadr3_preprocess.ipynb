{
 "cells": [
  {
   "cell_type": "code",
   "execution_count": 1,
   "metadata": {},
   "outputs": [],
   "source": [
    "import h5py\n",
    "import numpy as np\n",
    "import pandas as pd\n",
    "import matplotlib.pyplot as plt\n",
    "import matplotlib as mpl\n",
    "import astropy.units as u\n",
    "import astropy.coordinates as coord"
   ]
  },
  {
   "cell_type": "code",
   "execution_count": 2,
   "metadata": {},
   "outputs": [],
   "source": [
    "# File names for all the Gaia DR3 data csv downloaded from Gaia archive\n",
    "file0 = '/ocean/projects/phy210068p/hsu1/Ananke_datasets_training/Gaiadr3_data/3m-result.csv'\n",
    "file1 = '/ocean/projects/phy210068p/hsu1/Ananke_datasets_training/Gaiadr3_data/6m-result.csv'\n",
    "file2 = '/ocean/projects/phy210068p/hsu1/Ananke_datasets_training/Gaiadr3_data/9m-result.csv'\n",
    "file3 = '/ocean/projects/phy210068p/hsu1/Ananke_datasets_training/Gaiadr3_data/12m-result.csv'\n",
    "file4 = '/ocean/projects/phy210068p/hsu1/Ananke_datasets_training/Gaiadr3_data/15m-result.csv'\n",
    "file5 = '/ocean/projects/phy210068p/hsu1/Ananke_datasets_training/Gaiadr3_data/18m-result.csv'\n",
    "file6 = '/ocean/projects/phy210068p/hsu1/Ananke_datasets_training/Gaiadr3_data/21m-result.csv'\n",
    "file7 = '/ocean/projects/phy210068p/hsu1/Ananke_datasets_training/Gaiadr3_data/24m-result.csv'\n",
    "file8 = '/ocean/projects/phy210068p/hsu1/Ananke_datasets_training/Gaiadr3_data/27m-result.csv'\n",
    "file9 = '/ocean/projects/phy210068p/hsu1/Ananke_datasets_training/Gaiadr3_data/30m-result.csv'\n",
    "file10 = '/ocean/projects/phy210068p/hsu1/Ananke_datasets_training/Gaiadr3_data/33m-result.csv'\n",
    "file11 = '/ocean/projects/phy210068p/hsu1/Ananke_datasets_training/Gaiadr3_data/36m-result.csv'\n",
    "file12 = '/ocean/projects/phy210068p/hsu1/Ananke_datasets_training/Gaiadr3_data/39m-result.csv'\n",
    "file13 = '/ocean/projects/phy210068p/hsu1/Ananke_datasets_training/Gaiadr3_data/42m-result.csv'\n",
    "file14 = '/ocean/projects/phy210068p/hsu1/Ananke_datasets_training/Gaiadr3_data/45m-result.csv'\n",
    "file15 = '/ocean/projects/phy210068p/hsu1/Ananke_datasets_training/Gaiadr3_data/48m-result.csv'\n",
    "file16 = '/ocean/projects/phy210068p/hsu1/Ananke_datasets_training/Gaiadr3_data/51m-result.csv'\n",
    "file17 = '/ocean/projects/phy210068p/hsu1/Ananke_datasets_training/Gaiadr3_data/54m-result.csv'\n",
    "file18 = '/ocean/projects/phy210068p/hsu1/Ananke_datasets_training/Gaiadr3_data/57m-result.csv'\n",
    "file19 = '/ocean/projects/phy210068p/hsu1/Ananke_datasets_training/Gaiadr3_data/60m-result.csv'\n",
    "file20 = '/ocean/projects/phy210068p/hsu1/Ananke_datasets_training/Gaiadr3_data/63m-result.csv'\n",
    "file21 = '/ocean/projects/phy210068p/hsu1/Ananke_datasets_training/Gaiadr3_data/66m-result.csv'\n",
    "file22 = '/ocean/projects/phy210068p/hsu1/Ananke_datasets_training/Gaiadr3_data/69m-result.csv'\n",
    "file23 = '/ocean/projects/phy210068p/hsu1/Ananke_datasets_training/Gaiadr3_data/72m-result.csv'\n",
    "file24 = '/ocean/projects/phy210068p/hsu1/Ananke_datasets_training/Gaiadr3_data/75m-result.csv'\n",
    "file25 = '/ocean/projects/phy210068p/hsu1/Ananke_datasets_training/Gaiadr3_data/78m-result.csv'\n",
    "file26 = '/ocean/projects/phy210068p/hsu1/Ananke_datasets_training/Gaiadr3_data/81m-result.csv'\n",
    "file27 = '/ocean/projects/phy210068p/hsu1/Ananke_datasets_training/Gaiadr3_data/84m-result.csv'\n",
    "file28 = '/ocean/projects/phy210068p/hsu1/Ananke_datasets_training/Gaiadr3_data/87m-result.csv'\n",
    "file29 = '/ocean/projects/phy210068p/hsu1/Ananke_datasets_training/Gaiadr3_data/90m-result.csv'\n",
    "file30 = '/ocean/projects/phy210068p/hsu1/Ananke_datasets_training/Gaiadr3_data/93m-result.csv'\n",
    "file31 = '/ocean/projects/phy210068p/hsu1/Ananke_datasets_training/Gaiadr3_data/96m-result.csv'\n",
    "file32 = '/ocean/projects/phy210068p/hsu1/Ananke_datasets_training/Gaiadr3_data/99m-result.csv'\n",
    "\n",
    "files = [file0, file1, file2, file3, file4, file5, file6, file7, file8, file9, file10, file11,file12, file13, file14, file15, file16, file17, file18, file19, file20, file21, file22, file23, file24, file25, file26, file27, file28, file29, file30, file31, file32]\n",
    "path_out = '/ocean/projects/phy210068p/hsu1/Ananke_datasets_training/GaiaDR3_data_reduced.hdf5'\n"
   ]
  },
  {
   "cell_type": "code",
   "execution_count": 3,
   "metadata": {},
   "outputs": [],
   "source": [
    "# Columns to combine into one hd5 file\n",
    "keys = ['b', 'dec' ,'l', 'parallax', 'pmdec', \n",
    "         'pmra', 'ra', 'radial_velocity', \n",
    "        'radial_velocity_error', 'parallax_over_error']"
   ]
  },
  {
   "cell_type": "code",
   "execution_count": 5,
   "metadata": {},
   "outputs": [
    {
     "name": "stdout",
     "output_type": "stream",
     "text": [
      "b\n",
      "dec\n",
      "l\n",
      "parallax\n",
      "pmdec\n",
      "pmra\n",
      "ra\n",
      "radial_velocity\n",
      "radial_velocity_error\n"
     ]
    }
   ],
   "source": [
    "# Create the hdf5 file and concatenate the columns from the csv files\n",
    "for j in keys:\n",
    "    data = []\n",
    "    for i in range(len(files)):\n",
    "        df = pd.read_csv(files[i])\n",
    "        data = np.append(data, df[j][:])\n",
    "    with h5py.File(path_out, 'a') as f_out: \n",
    "        f_out.create_dataset(j, data=data)\n",
    "    print(j)"
   ]
  }
 ],
 "metadata": {
  "kernelspec": {
   "display_name": "Python 3",
   "language": "python",
   "name": "python3"
  },
  "language_info": {
   "codemirror_mode": {
    "name": "ipython",
    "version": 3
   },
   "file_extension": ".py",
   "mimetype": "text/x-python",
   "name": "python",
   "nbconvert_exporter": "python",
   "pygments_lexer": "ipython3",
   "version": "3.8.13"
  },
  "orig_nbformat": 4
 },
 "nbformat": 4,
 "nbformat_minor": 2
}
