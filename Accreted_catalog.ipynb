{
 "cells": [
  {
   "cell_type": "code",
   "execution_count": 1,
   "id": "f38e0318",
   "metadata": {},
   "outputs": [
    {
     "name": "stderr",
     "output_type": "stream",
     "text": [
      "/tmp/ipykernel_65928/2340178517.py:10: DeprecationWarning: Importing display from IPython.core.display is deprecated since IPython 7.14, please import from IPython display\n",
      "  from IPython.core.display import display\n"
     ]
    }
   ],
   "source": [
    "import h5py\n",
    "import numpy as np\n",
    "import pandas as pd\n",
    "import os\n",
    "import pandas as pd\n",
    "import seaborn as sn\n",
    "import torch\n",
    "import torchvision.models as models\n",
    "from pytorch_lightning.callbacks.model_checkpoint import ModelCheckpoint\n",
    "from IPython.core.display import display\n",
    "from collections.abc import Mapping\n",
    "from pytorch_lightning import LightningModule, Trainer\n",
    "from pytorch_lightning.callbacks.progress import TQDMProgressBar\n",
    "from pytorch_lightning.loggers import CSVLogger\n",
    "from torch import nn\n",
    "from torch.nn import functional as F\n",
    "from torch.utils.data import DataLoader, random_split, TensorDataset\n",
    "from pytorch_lightning.callbacks.early_stopping import EarlyStopping\n",
    "from pytorch_lightning.loggers import CSVLogger\n",
    "import torchmetrics\n",
    "from torchvision.transforms import ToTensor\n",
    "import astropy.units as u\n",
    "import astropy.coordinates as coord\n",
    "\n",
    "import matplotlib.pyplot as plt\n",
    "plt.style.use('seaborn-colorblind')\n",
    "from scipy import stats\n",
    "import matplotlib as mpl"
   ]
  },
  {
   "cell_type": "code",
   "execution_count": 2,
   "id": "7a942ded",
   "metadata": {},
   "outputs": [
    {
     "name": "stdout",
     "output_type": "stream",
     "text": [
      "<bound method MappingHDF5.keys of <HDF5 file \"training_score.hdf5\" (mode r)>>\n"
     ]
    }
   ],
   "source": [
    "score_path = '/ocean/projects/phy210068p/hsu1/Training_results/DR3_lsr012/Gaia/6D/training_score.hdf5'\n",
    "with h5py.File(score_path, 'r') as f:\n",
    "    print(f.keys)\n",
    "    x_final = f['x_final'][:]\n",
    "    score = f['score'][:]\n",
    "    target = f['target'][:]"
   ]
  },
  {
   "cell_type": "code",
   "execution_count": 3,
   "id": "2780f45b",
   "metadata": {},
   "outputs": [
    {
     "data": {
      "text/plain": [
       "(859343, 6)"
      ]
     },
     "execution_count": 3,
     "metadata": {},
     "output_type": "execute_result"
    }
   ],
   "source": [
    "x_final.shape"
   ]
  },
  {
   "cell_type": "code",
   "execution_count": 4,
   "id": "1508de63",
   "metadata": {},
   "outputs": [
    {
     "name": "stderr",
     "output_type": "stream",
     "text": [
      "WARNING: Negative parallaxes are converted to NaN distances even when `allow_negative=True`, because negative parallaxes cannot be transformed into distances. See discussion in this paper: https://arxiv.org/abs/1507.02105 [astropy.coordinates.distances]\n"
     ]
    }
   ],
   "source": [
    "ra = x_final[:,0]\n",
    "dec = x_final[:,1]\n",
    "pmra = x_final[:,2]\n",
    "pmdec = x_final[:,3]\n",
    "parallax = x_final[:,4]\n",
    "rv = x_final[:,5]\n",
    "\n",
    "mask0 = (score < 0.875)\n",
    "mask1 = (score > 0.875)\n",
    "\n",
    "ra0 = ra[mask0] * u.deg\n",
    "dec0 = dec[mask0] * u.deg\n",
    "pmra0 = pmra[mask0] * u.mas / u.yr\n",
    "pmdec0 = pmdec[mask0] * u.mas / u.yr\n",
    "parallax0 = parallax[mask0] * u.mas\n",
    "rv0 = rv[mask0] * u.km / u.s\n",
    "\n",
    "ra1 = ra[mask1] * u.deg\n",
    "dec1 = dec[mask1] * u.deg\n",
    "pmra1 = pmra[mask1] * u.mas / u.yr\n",
    "pmdec1 = pmdec[mask1] * u.mas / u.yr\n",
    "parallax1 = parallax[mask1] * u.mas\n",
    "rv1 = rv[mask1] * u.km / u.s\n",
    "\n",
    "dist0 = coord.Distance(parallax=parallax0, allow_negative=True)\n",
    "icrs = coord.ICRS(\n",
    "    ra=ra0, dec=dec0, distance=dist0, pm_ra_cosdec=pmra0, pm_dec=pmdec0, radial_velocity=rv0)\n",
    "gal0 = icrs.transform_to(coord.Galactocentric())\n",
    "\n",
    "x0 = gal0.x.to_value(u.kpc)\n",
    "y0 = gal0.y.to_value(u.kpc)\n",
    "z0 = gal0.z.to_value(u.kpc)\n",
    "vx0 = gal0.v_x.to_value(u.km/u.s)\n",
    "vy0 = gal0.v_y.to_value(u.km/u.s)\n",
    "vz0 = gal0.v_z.to_value(u.km/u.s)  \n",
    "\n",
    "dist1 = coord.Distance(parallax=parallax1, allow_negative=True)\n",
    "icrs = coord.ICRS(\n",
    "    ra=ra1, dec=dec1, distance=dist1, pm_ra_cosdec=pmra1, pm_dec=pmdec1, radial_velocity=rv1)\n",
    "gal1 = icrs.transform_to(coord.Galactocentric())\n",
    "x1 = gal1.x.to_value(u.kpc)\n",
    "y1 = gal1.y.to_value(u.kpc)\n",
    "z1 = gal1.z.to_value(u.kpc)\n",
    "vx1 = gal1.v_x.to_value(u.km/u.s)\n",
    "vy1 = gal1.v_y.to_value(u.km/u.s)\n",
    "vz1 = gal1.v_z.to_value(u.km/u.s)  \n",
    "\n",
    "vr0 = np.sqrt(vx0**2 + vz0**2)\n",
    "vr1 = np.sqrt(vx1**2 + vz1**2)"
   ]
  },
  {
   "cell_type": "code",
   "execution_count": 6,
   "id": "a10786be",
   "metadata": {},
   "outputs": [
    {
     "data": {
      "text/plain": [
       "(array([nan, nan, nan, ..., nan, nan, nan]),\n",
       " array([        nan, -8.44818356,         nan, ..., -8.13713886,\n",
       "                nan,         nan]))"
      ]
     },
     "execution_count": 6,
     "metadata": {},
     "output_type": "execute_result"
    }
   ],
   "source": [
    "len(x1), np.sum(np.isnan(x1)), len(x0) - np.sum(np.isnan(x0))\n",
    "x1, x0"
   ]
  },
  {
   "cell_type": "code",
   "execution_count": 6,
   "id": "0d5bcd1e",
   "metadata": {},
   "outputs": [
    {
     "ename": "ValueError",
     "evalue": "autodetected range of [nan, nan] is not finite",
     "output_type": "error",
     "traceback": [
      "\u001b[0;31m---------------------------------------------------------------------------\u001b[0m",
      "\u001b[0;31mValueError\u001b[0m                                Traceback (most recent call last)",
      "\u001b[1;32m/jet/home/hsu1/data/Gaiadr3_Accreted_Catalog/Accreted_catalog.ipynb Cell 4\u001b[0m in \u001b[0;36m<cell line: 3>\u001b[0;34m()\u001b[0m\n\u001b[1;32m      <a href='vscode-notebook-cell://ssh-remote%2B7b22686f73744e616d65223a2262726964676573322e7073632e656475222c2275736572223a2268737531227d/jet/home/hsu1/data/Gaiadr3_Accreted_Catalog/Accreted_catalog.ipynb#W4sdnNjb2RlLXJlbW90ZQ%3D%3D?line=0'>1</a>\u001b[0m fig, ax \u001b[39m=\u001b[39m plt\u001b[39m.\u001b[39msubplots(\u001b[39m1\u001b[39m, figsize\u001b[39m=\u001b[39m(\u001b[39m13\u001b[39m, \u001b[39m10\u001b[39m))\n\u001b[0;32m----> <a href='vscode-notebook-cell://ssh-remote%2B7b22686f73744e616d65223a2262726964676573322e7073632e656475222c2275736572223a2268737531227d/jet/home/hsu1/data/Gaiadr3_Accreted_Catalog/Accreted_catalog.ipynb#W4sdnNjb2RlLXJlbW90ZQ%3D%3D?line=2'>3</a>\u001b[0m h \u001b[39m=\u001b[39m ax\u001b[39m.\u001b[39;49mhist2d(vy0, vr0, bins\u001b[39m=\u001b[39;49m\u001b[39m100\u001b[39;49m, weights\u001b[39m=\u001b[39;49mnp\u001b[39m.\u001b[39;49mrepeat(\u001b[39m1\u001b[39;49m\u001b[39m/\u001b[39;49m\u001b[39mlen\u001b[39;49m(vx0), \u001b[39mlen\u001b[39;49m(vx0)), norm\u001b[39m=\u001b[39;49mmpl\u001b[39m.\u001b[39;49mcolors\u001b[39m.\u001b[39;49mLogNorm())\n\u001b[1;32m      <a href='vscode-notebook-cell://ssh-remote%2B7b22686f73744e616d65223a2262726964676573322e7073632e656475222c2275736572223a2268737531227d/jet/home/hsu1/data/Gaiadr3_Accreted_Catalog/Accreted_catalog.ipynb#W4sdnNjb2RlLXJlbW90ZQ%3D%3D?line=3'>4</a>\u001b[0m ax\u001b[39m.\u001b[39mset_xlabel(\u001b[39mr\u001b[39m\u001b[39m'\u001b[39m\u001b[39m$V_y [km s^\u001b[39m\u001b[39m{\u001b[39m\u001b[39m-1}]$\u001b[39m\u001b[39m'\u001b[39m, fontsize\u001b[39m=\u001b[39m\u001b[39m35\u001b[39m)\n\u001b[1;32m      <a href='vscode-notebook-cell://ssh-remote%2B7b22686f73744e616d65223a2262726964676573322e7073632e656475222c2275736572223a2268737531227d/jet/home/hsu1/data/Gaiadr3_Accreted_Catalog/Accreted_catalog.ipynb#W4sdnNjb2RlLXJlbW90ZQ%3D%3D?line=4'>5</a>\u001b[0m ax\u001b[39m.\u001b[39mset_ylabel(\u001b[39mr\u001b[39m\u001b[39m'\u001b[39m\u001b[39m$\u001b[39m\u001b[39m\\\u001b[39m\u001b[39msqrt\u001b[39m\u001b[39m{\u001b[39m\u001b[39mV_x^2+V_z^2} [km s^\u001b[39m\u001b[39m{\u001b[39m\u001b[39m-1}]$\u001b[39m\u001b[39m'\u001b[39m, fontsize\u001b[39m=\u001b[39m\u001b[39m35\u001b[39m)\n",
      "File \u001b[0;32m~/anaconda3/envs/torch/lib/python3.8/site-packages/matplotlib/__init__.py:1412\u001b[0m, in \u001b[0;36m_preprocess_data.<locals>.inner\u001b[0;34m(ax, data, *args, **kwargs)\u001b[0m\n\u001b[1;32m   1409\u001b[0m \u001b[39m@functools\u001b[39m\u001b[39m.\u001b[39mwraps(func)\n\u001b[1;32m   1410\u001b[0m \u001b[39mdef\u001b[39;00m \u001b[39minner\u001b[39m(ax, \u001b[39m*\u001b[39margs, data\u001b[39m=\u001b[39m\u001b[39mNone\u001b[39;00m, \u001b[39m*\u001b[39m\u001b[39m*\u001b[39mkwargs):\n\u001b[1;32m   1411\u001b[0m     \u001b[39mif\u001b[39;00m data \u001b[39mis\u001b[39;00m \u001b[39mNone\u001b[39;00m:\n\u001b[0;32m-> 1412\u001b[0m         \u001b[39mreturn\u001b[39;00m func(ax, \u001b[39m*\u001b[39;49m\u001b[39mmap\u001b[39;49m(sanitize_sequence, args), \u001b[39m*\u001b[39;49m\u001b[39m*\u001b[39;49mkwargs)\n\u001b[1;32m   1414\u001b[0m     bound \u001b[39m=\u001b[39m new_sig\u001b[39m.\u001b[39mbind(ax, \u001b[39m*\u001b[39margs, \u001b[39m*\u001b[39m\u001b[39m*\u001b[39mkwargs)\n\u001b[1;32m   1415\u001b[0m     auto_label \u001b[39m=\u001b[39m (bound\u001b[39m.\u001b[39marguments\u001b[39m.\u001b[39mget(label_namer)\n\u001b[1;32m   1416\u001b[0m                   \u001b[39mor\u001b[39;00m bound\u001b[39m.\u001b[39mkwargs\u001b[39m.\u001b[39mget(label_namer))\n",
      "File \u001b[0;32m~/anaconda3/envs/torch/lib/python3.8/site-packages/matplotlib/axes/_axes.py:6980\u001b[0m, in \u001b[0;36mAxes.hist2d\u001b[0;34m(self, x, y, bins, range, density, weights, cmin, cmax, **kwargs)\u001b[0m\n\u001b[1;32m   6882\u001b[0m \u001b[39m@_preprocess_data\u001b[39m(replace_names\u001b[39m=\u001b[39m[\u001b[39m\"\u001b[39m\u001b[39mx\u001b[39m\u001b[39m\"\u001b[39m, \u001b[39m\"\u001b[39m\u001b[39my\u001b[39m\u001b[39m\"\u001b[39m, \u001b[39m\"\u001b[39m\u001b[39mweights\u001b[39m\u001b[39m\"\u001b[39m])\n\u001b[1;32m   6883\u001b[0m \u001b[39m@docstring\u001b[39m\u001b[39m.\u001b[39mdedent_interpd\n\u001b[1;32m   6884\u001b[0m \u001b[39mdef\u001b[39;00m \u001b[39mhist2d\u001b[39m(\u001b[39mself\u001b[39m, x, y, bins\u001b[39m=\u001b[39m\u001b[39m10\u001b[39m, \u001b[39mrange\u001b[39m\u001b[39m=\u001b[39m\u001b[39mNone\u001b[39;00m, density\u001b[39m=\u001b[39m\u001b[39mFalse\u001b[39;00m, weights\u001b[39m=\u001b[39m\u001b[39mNone\u001b[39;00m,\n\u001b[1;32m   6885\u001b[0m            cmin\u001b[39m=\u001b[39m\u001b[39mNone\u001b[39;00m, cmax\u001b[39m=\u001b[39m\u001b[39mNone\u001b[39;00m, \u001b[39m*\u001b[39m\u001b[39m*\u001b[39mkwargs):\n\u001b[1;32m   6886\u001b[0m     \u001b[39m\"\"\"\u001b[39;00m\n\u001b[1;32m   6887\u001b[0m \u001b[39m    Make a 2D histogram plot.\u001b[39;00m\n\u001b[1;32m   6888\u001b[0m \n\u001b[0;32m   (...)\u001b[0m\n\u001b[1;32m   6977\u001b[0m \u001b[39m      `.colors.PowerNorm`.\u001b[39;00m\n\u001b[1;32m   6978\u001b[0m \u001b[39m    \"\"\"\u001b[39;00m\n\u001b[0;32m-> 6980\u001b[0m     h, xedges, yedges \u001b[39m=\u001b[39m np\u001b[39m.\u001b[39;49mhistogram2d(x, y, bins\u001b[39m=\u001b[39;49mbins, \u001b[39mrange\u001b[39;49m\u001b[39m=\u001b[39;49m\u001b[39mrange\u001b[39;49m,\n\u001b[1;32m   6981\u001b[0m                                        density\u001b[39m=\u001b[39;49mdensity, weights\u001b[39m=\u001b[39;49mweights)\n\u001b[1;32m   6983\u001b[0m     \u001b[39mif\u001b[39;00m cmin \u001b[39mis\u001b[39;00m \u001b[39mnot\u001b[39;00m \u001b[39mNone\u001b[39;00m:\n\u001b[1;32m   6984\u001b[0m         h[h \u001b[39m<\u001b[39m cmin] \u001b[39m=\u001b[39m \u001b[39mNone\u001b[39;00m\n",
      "File \u001b[0;32m<__array_function__ internals>:5\u001b[0m, in \u001b[0;36mhistogram2d\u001b[0;34m(*args, **kwargs)\u001b[0m\n",
      "File \u001b[0;32m~/anaconda3/envs/torch/lib/python3.8/site-packages/numpy/lib/twodim_base.py:751\u001b[0m, in \u001b[0;36mhistogram2d\u001b[0;34m(x, y, bins, range, normed, weights, density)\u001b[0m\n\u001b[1;32m    749\u001b[0m     xedges \u001b[39m=\u001b[39m yedges \u001b[39m=\u001b[39m asarray(bins)\n\u001b[1;32m    750\u001b[0m     bins \u001b[39m=\u001b[39m [xedges, yedges]\n\u001b[0;32m--> 751\u001b[0m hist, edges \u001b[39m=\u001b[39m histogramdd([x, y], bins, \u001b[39mrange\u001b[39;49m, normed, weights, density)\n\u001b[1;32m    752\u001b[0m \u001b[39mreturn\u001b[39;00m hist, edges[\u001b[39m0\u001b[39m], edges[\u001b[39m1\u001b[39m]\n",
      "File \u001b[0;32m<__array_function__ internals>:5\u001b[0m, in \u001b[0;36mhistogramdd\u001b[0;34m(*args, **kwargs)\u001b[0m\n",
      "File \u001b[0;32m~/anaconda3/envs/torch/lib/python3.8/site-packages/numpy/lib/histograms.py:1050\u001b[0m, in \u001b[0;36mhistogramdd\u001b[0;34m(sample, bins, range, normed, weights, density)\u001b[0m\n\u001b[1;32m   1047\u001b[0m \u001b[39mif\u001b[39;00m bins[i] \u001b[39m<\u001b[39m \u001b[39m1\u001b[39m:\n\u001b[1;32m   1048\u001b[0m     \u001b[39mraise\u001b[39;00m \u001b[39mValueError\u001b[39;00m(\n\u001b[1;32m   1049\u001b[0m         \u001b[39m'\u001b[39m\u001b[39m`bins[\u001b[39m\u001b[39m{}\u001b[39;00m\u001b[39m]` must be positive, when an integer\u001b[39m\u001b[39m'\u001b[39m\u001b[39m.\u001b[39mformat(i))\n\u001b[0;32m-> 1050\u001b[0m smin, smax \u001b[39m=\u001b[39m _get_outer_edges(sample[:,i], \u001b[39mrange\u001b[39;49m[i])\n\u001b[1;32m   1051\u001b[0m \u001b[39mtry\u001b[39;00m:\n\u001b[1;32m   1052\u001b[0m     n \u001b[39m=\u001b[39m operator\u001b[39m.\u001b[39mindex(bins[i])\n",
      "File \u001b[0;32m~/anaconda3/envs/torch/lib/python3.8/site-packages/numpy/lib/histograms.py:323\u001b[0m, in \u001b[0;36m_get_outer_edges\u001b[0;34m(a, range)\u001b[0m\n\u001b[1;32m    321\u001b[0m     first_edge, last_edge \u001b[39m=\u001b[39m a\u001b[39m.\u001b[39mmin(), a\u001b[39m.\u001b[39mmax()\n\u001b[1;32m    322\u001b[0m     \u001b[39mif\u001b[39;00m \u001b[39mnot\u001b[39;00m (np\u001b[39m.\u001b[39misfinite(first_edge) \u001b[39mand\u001b[39;00m np\u001b[39m.\u001b[39misfinite(last_edge)):\n\u001b[0;32m--> 323\u001b[0m         \u001b[39mraise\u001b[39;00m \u001b[39mValueError\u001b[39;00m(\n\u001b[1;32m    324\u001b[0m             \u001b[39m\"\u001b[39m\u001b[39mautodetected range of [\u001b[39m\u001b[39m{}\u001b[39;00m\u001b[39m, \u001b[39m\u001b[39m{}\u001b[39;00m\u001b[39m] is not finite\u001b[39m\u001b[39m\"\u001b[39m\u001b[39m.\u001b[39mformat(first_edge, last_edge))\n\u001b[1;32m    326\u001b[0m \u001b[39m# expand empty range to avoid divide by zero\u001b[39;00m\n\u001b[1;32m    327\u001b[0m \u001b[39mif\u001b[39;00m first_edge \u001b[39m==\u001b[39m last_edge:\n",
      "\u001b[0;31mValueError\u001b[0m: autodetected range of [nan, nan] is not finite"
     ]
    },
    {
     "data": {
      "image/png": "[encoded data removed]",
      "text/plain": [
       "<Figure size 936x720 with 1 Axes>"
      ]
     },
     "metadata": {
      "needs_background": "light"
     },
     "output_type": "display_data"
    }
   ],
   "source": [
    "fig, ax = plt.subplots(1, figsize=(13, 10))\n",
    "\n",
    "h = ax.hist2d(vy0, vr0, bins=100, weights=np.repeat(1/len(vx0), len(vx0)), norm=mpl.colors.LogNorm())\n",
    "ax.set_xlabel(r'$V_y [km s^{-1}]$', fontsize=35)\n",
    "ax.set_ylabel(r'$\\sqrt{V_x^2+V_z^2} [km s^{-1}]$', fontsize=35)\n",
    "ax.set_title('Toomre Diagram of In Situ Stars', fontsize=40)\n",
    "cb = fig.colorbar(h[3], ax=ax, label=r'Normalized Counts (km/s)$^{-2}$') \n",
    "cb.ax.tick_params(labelsize=35)\n",
    "ax.tick_params(axis='both', labelsize=35)"
   ]
  },
  {
   "cell_type": "code",
   "execution_count": null,
   "id": "b9211000",
   "metadata": {},
   "outputs": [],
   "source": [
    "fig, ax = plt.subplots(1, figsize=(13, 10))\n",
    "\n",
    "h = ax.hist2d(vy1, vr1, bins=100, weights=np.repeat(1/len(vx1), len(vx1)), norm=mpl.colors.LogNorm())\n",
    "ax.set_xlabel(r'$V_y [km s^{-1}]$', fontsize=35)\n",
    "ax.set_ylabel(r'$\\sqrt{V_x^2+V_z^2} [km s^{-1}]$', fontsize=35)\n",
    "ax.set_title('Toomre Diagram of Accreted Stars', fontsize=40)\n",
    "cb = fig.colorbar(h[3], ax=ax, label=r'Normalized Counts (km/s)$^{-2}$') \n",
    "cb.ax.tick_params(labelsize=35)\n",
    "ax.tick_params(axis='both', labelsize=35)"
   ]
  },
  {
   "cell_type": "code",
   "execution_count": null,
   "id": "cf1ccb7f",
   "metadata": {},
   "outputs": [],
   "source": []
  }
 ],
 "metadata": {
  "kernelspec": {
   "display_name": "Python 3",
   "language": "python",
   "name": "python3"
  },
  "language_info": {
   "codemirror_mode": {
    "name": "ipython",
    "version": 3
   },
   "file_extension": ".py",
   "mimetype": "text/x-python",
   "name": "python",
   "nbconvert_exporter": "python",
   "pygments_lexer": "ipython3",
   "version": "3.8.13"
  }
 },
 "nbformat": 4,
 "nbformat_minor": 5
}
