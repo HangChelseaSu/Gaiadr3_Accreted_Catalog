{
 "cells": [
  {
   "cell_type": "code",
   "execution_count": 1,
   "id": "f38e0318",
   "metadata": {},
   "outputs": [
    {
     "name": "stderr",
     "output_type": "stream",
     "text": [
      "/tmp/ipykernel_4906/2340178517.py:10: DeprecationWarning: Importing display from IPython.core.display is deprecated since IPython 7.14, please import from IPython display\n",
      "  from IPython.core.display import display\n"
     ]
    }
   ],
   "source": [
    "import h5py\n",
    "import numpy as np\n",
    "import pandas as pd\n",
    "import os\n",
    "import pandas as pd\n",
    "import seaborn as sn\n",
    "import torch\n",
    "import torchvision.models as models\n",
    "from pytorch_lightning.callbacks.model_checkpoint import ModelCheckpoint\n",
    "from IPython.core.display import display\n",
    "from collections.abc import Mapping\n",
    "from pytorch_lightning import LightningModule, Trainer\n",
    "from pytorch_lightning.callbacks.progress import TQDMProgressBar\n",
    "from pytorch_lightning.loggers import CSVLogger\n",
    "from torch import nn\n",
    "from torch.nn import functional as F\n",
    "from torch.utils.data import DataLoader, random_split, TensorDataset\n",
    "from pytorch_lightning.callbacks.early_stopping import EarlyStopping\n",
    "from pytorch_lightning.loggers import CSVLogger\n",
    "import torchmetrics\n",
    "from torchvision.transforms import ToTensor\n",
    "import astropy.units as u\n",
    "import astropy.coordinates as coord\n",
    "\n",
    "import matplotlib.pyplot as plt\n",
    "plt.style.use('seaborn-colorblind')\n",
    "from scipy import stats\n",
    "import matplotlib as mpl"
   ]
  },
  {
   "cell_type": "code",
   "execution_count": 5,
   "id": "5e2ea43e",
   "metadata": {},
   "outputs": [
    {
     "ename": "ModuleNotFoundError",
     "evalue": "No module named 'astroquery'",
     "output_type": "error",
     "traceback": [
      "\u001b[0;31m---------------------------------------------------------------------------\u001b[0m",
      "\u001b[0;31mModuleNotFoundError\u001b[0m                       Traceback (most recent call last)",
      "\u001b[1;32m/jet/home/hsu1/data/Gaiadr3_Accreted_Catalog/Accreted_catalog.ipynb Cell 2\u001b[0m line \u001b[0;36m<cell line: 1>\u001b[0;34m()\u001b[0m\n\u001b[0;32m----> <a href='vscode-notebook-cell://ssh-remote%2B7b22686f73744e616d65223a2262726964676573322e7073632e656475222c2275736572223a2268737531227d/jet/home/hsu1/data/Gaiadr3_Accreted_Catalog/Accreted_catalog.ipynb#X25sdnNjb2RlLXJlbW90ZQ%3D%3D?line=0'>1</a>\u001b[0m \u001b[39mfrom\u001b[39;00m \u001b[39mastroquery\u001b[39;00m\u001b[39m.\u001b[39;00m\u001b[39mgaia\u001b[39;00m \u001b[39mimport\u001b[39;00m Gaia\n\u001b[1;32m      <a href='vscode-notebook-cell://ssh-remote%2B7b22686f73744e616d65223a2262726964676573322e7073632e656475222c2275736572223a2268737531227d/jet/home/hsu1/data/Gaiadr3_Accreted_Catalog/Accreted_catalog.ipynb#X25sdnNjb2RlLXJlbW90ZQ%3D%3D?line=2'>3</a>\u001b[0m job \u001b[39m=\u001b[39m Gaia\u001b[39m.\u001b[39mlaunch_job_async(\u001b[39m\"\"\"\u001b[39m\u001b[39mSELECT ra, dec, pmra, pmdec, radial_velocity, parallax, source_id, parallax_over_error\u001b[39m\n\u001b[1;32m      <a href='vscode-notebook-cell://ssh-remote%2B7b22686f73744e616d65223a2262726964676573322e7073632e656475222c2275736572223a2268737531227d/jet/home/hsu1/data/Gaiadr3_Accreted_Catalog/Accreted_catalog.ipynb#X25sdnNjb2RlLXJlbW90ZQ%3D%3D?line=3'>4</a>\u001b[0m \u001b[39m                                FROM gaiadr3.gaia_source\u001b[39m\u001b[39m\"\"\"\u001b[39m,\n\u001b[1;32m      <a href='vscode-notebook-cell://ssh-remote%2B7b22686f73744e616d65223a2262726964676573322e7073632e656475222c2275736572223a2268737531227d/jet/home/hsu1/data/Gaiadr3_Accreted_Catalog/Accreted_catalog.ipynb#X25sdnNjb2RlLXJlbW90ZQ%3D%3D?line=4'>5</a>\u001b[0m                             dump_to_file\u001b[39m=\u001b[39m\u001b[39mTrue\u001b[39;00m, output_format\u001b[39m=\u001b[39m\u001b[39m'\u001b[39m\u001b[39mh5\u001b[39m\u001b[39m'\u001b[39m)\n",
      "\u001b[0;31mModuleNotFoundError\u001b[0m: No module named 'astroquery'"
     ]
    }
   ],
   "source": [
    "from astroquery.gaia import Gaia\n",
    "\n",
    "job = Gaia.launch_job_async(\"\"\"SELECT ra, dec, pmra, pmdec, radial_velocity, parallax, source_id, parallax_error\n",
    "                                FROM gaiadr3.gaia_source\"\"\",\n",
    "                            dump_to_file=True, output_format='h5')"
   ]
  },
  {
   "cell_type": "code",
   "execution_count": 2,
   "id": "4f2da6ef",
   "metadata": {},
   "outputs": [
    {
     "name": "stdout",
     "output_type": "stream",
     "text": [
      "<KeysViewHDF5 ['Jphi', 'Jr', 'Jz', 'dec', 'feh', 'is_accreted', 'parallax', 'pmdec', 'pmra', 'poe', 'ra', 'radial_velocity', 'source_id']>\n"
     ]
    }
   ],
   "source": [
    "path = '/ocean/projects/phy210068p/hsu1/Ananke_datasets_training/GaiaDR3_data_reduced.hdf5'\n",
    "with h5py.File(path, 'r') as f:\n",
    "    print(f.keys())\n",
    "    ra = f['ra'][:]\n",
    "    dec = f['dec'][:]\n",
    "    pmra = f['pmra'][:]\n",
    "    pmdec = f['pmdec'][:]\n",
    "    parallax = f['parallax'][:]\n",
    "    rv = f['radial_velocity'][:]"
   ]
  },
  {
   "cell_type": "code",
   "execution_count": 4,
   "id": "4d69a4e4",
   "metadata": {},
   "outputs": [
    {
     "data": {
      "text/plain": [
       "((8593425,), (8593425,), (8593425,), (8593425,), (8593425,), (8593425,))"
      ]
     },
     "execution_count": 4,
     "metadata": {},
     "output_type": "execute_result"
    }
   ],
   "source": [
    "ra.shape, dec.shape, pmra.shape, pmdec.shape, parallax.shape, rv.shape"
   ]
  },
  {
   "cell_type": "code",
   "execution_count": 7,
   "id": "b5b74cc1",
   "metadata": {},
   "outputs": [],
   "source": [
    "#User Input\n",
    "sim = 'DR3_lsr012' #input(\"DR2 or DR3: \")\n",
    "dim = '6D' #input(\"Input how many dimensions are needed: \")\n",
    "galaxy = 'Gaia' #input(\"Use m12i or m12f data: \")\n",
    "transfer = True #bool(input(\"Transfer learning (True or False): \"))\n",
    "if transfer == True:\n",
    "    transfer_galaxy = 'm12i' #i nput(\"Which galaxy parameters for transfer learning: \")\n",
    "\n",
    "# Training data\n",
    "if dim == '4D':\n",
    "    x_keys = ['ra', 'dec', 'pmra', 'pmdec']\n",
    "elif dim == '5D':\n",
    "    x_keys = ['ra', 'dec', 'pmra', 'pmdec', 'parallax']\n",
    "elif dim == '6D':\n",
    "    x_keys = ['ra', 'dec', 'pmra', 'pmdec', 'parallax', 'radial_velocity']\n",
    "elif dim == '7D':\n",
    "    x_keys = ['ra', 'dec', 'pmra', 'pmdec', 'parallax', 'radial_velocity', 'feh']\n",
    "elif dim == '9D':\n",
    "    x_keys = ['ra', 'dec', 'pmra', 'pmdec', 'parallax', 'radial_velocity', 'Jr', 'Jphi', 'Jz']\n",
    "elif dim == '10D':\n",
    "    x_keys = ['ra', 'dec', 'pmra', 'pmdec', 'parallax', 'radial_velocity', 'Jr', 'Jphi', 'Jz', 'feh']\n",
    "elif dim == '6D_cyl':\n",
    "    x_keys = ['ra', 'dec', 'pmra', 'pmdec', 'parallax', 'radial_velocity']\n",
    "elif dim == '6D_gal':\n",
    "    x_keys = ['ra', 'dec', 'pmra', 'pmdec', 'parallax', 'radial_velocity']\n",
    "    \n",
    "y_key = 'is_accreted'\n",
    "\n",
    "# Directories\n",
    "# path = '/ocean/projects/phy210068p/hsu1/Ananke_datasets_training/AnankeDR3_data_reduced_m12f_lsr0.hdf5'\n",
    "path = '/ocean/projects/phy210068p/hsu1/Ananke_datasets_training/GaiaDR3_data_reduced.hdf5'\n",
    "out_dir = '/ocean/projects/phy210068p/hsu1/Training_results/' + sim + '/' + galaxy + '/' + dim\n",
    "roc_title = sim + '_' + galaxy + '_' + dim\n",
    "\n",
    "# Parameters\n",
    "learning_rate = 1e-3\n",
    "batch_size = 1024\n",
    "roc_path = '/ocean/projects/phy210068p/hsu1/Training_results/' + sim + '/' + galaxy + '/roc_parameters.hdf5'\n",
    "training_score_path = '/ocean/projects/phy210068p/hsu1/Training_results/' + sim + '/' + galaxy + '/' + dim + '/training_score.hdf5'\n",
    "\n",
    "if transfer == True:\n",
    "    transfer_checkpoint = '/ocean/projects/phy210068p/hsu1/Training_results/' + sim +'/'+ transfer_galaxy +'/'+ dim + '/training_logs/version_0/checkpoints/last.ckpt'\n",
    "\n",
    "train_parameter_file = out_dir + '/training_parameters.hdf5'\n",
    "train_log = out_dir + '/training_logs'\n",
    "checkpoint = train_log + '/version_0/checkpoints/last.ckpt'\n",
    "    \n",
    "#Saving roc curves\n",
    "def save_roc(roc_path, training_score_path, epsilon_i, epsilon_a):\n",
    "    with h5py.File(roc_path, 'a') as f:\n",
    "        if dim + '_ep_i' in f.keys():\n",
    "            del f[dim + '_ep_i']\n",
    "            del f[dim + '_ep_a']\n",
    "            f.create_dataset(dim + '_ep_i', data=epsilon_i)\n",
    "            f.create_dataset(dim + '_ep_a', data=epsilon_a)\n",
    "        else:\n",
    "            f.create_dataset(dim + '_ep_i', data=epsilon_i)\n",
    "            f.create_dataset(dim + '_ep_a', data=epsilon_a)\n",
    "    with h5py.File(training_score_path, 'w') as f:\n",
    "            f.create_dataset('score', data=score)\n",
    "            f.create_dataset('target', data=target)\n",
    "            f.create_dataset('x_final', data=x_final)\n",
    "            \n",
    "\n",
    "data = []\n",
    "f = h5py.File(path, 'r')\n",
    "\n",
    "for i in x_keys:\n",
    "    data.append(f[i][:])\n",
    "y = f[y_key][:]\n",
    "\n",
    "# Getting rid of nan values\n",
    "x = []\n",
    "if 'Jr' in x_keys:\n",
    "    Jr = f['Jr'][:]\n",
    "    mask = (~np.isnan(Jr))\n",
    "    for i in range(len(x_keys)):\n",
    "        new = data[i][:][mask]\n",
    "        x.append(new)\n",
    "    y = y[mask]\n",
    "elif 'radial_velocity' in x_keys:\n",
    "    rv = f['radial_velocity'][:]\n",
    "    mask = (~np.isnan(rv))\n",
    "    for i in range(len(x_keys)):\n",
    "        new = data[i][:][mask]\n",
    "        x.append(new)\n",
    "    y = y[mask]\n",
    "else:\n",
    "    x = data\n",
    "\n",
    "x = np.vstack(x).T\n",
    "f.close()"
   ]
  },
  {
   "cell_type": "code",
   "execution_count": 37,
   "id": "ab625db4",
   "metadata": {},
   "outputs": [
    {
     "name": "stdout",
     "output_type": "stream",
     "text": [
      "<KeysViewHDF5 ['Jphi', 'Jr', 'Jz', 'dec', 'feh', 'is_accreted', 'parallax', 'pmdec', 'pmra', 'poe', 'ra', 'radial_velocity', 'source_id']>\n"
     ]
    }
   ],
   "source": [
    "with h5py.File(path, 'r') as f:\n",
    "    print(f.keys())\n",
    "    rv = f['radial_velocity'][:]\n",
    "    is_accreted = f['is_accreted'][:]\n",
    "    Jr = f['Jr'][:]\n",
    "    feh = f['feh'][:]"
   ]
  },
  {
   "cell_type": "code",
   "execution_count": 38,
   "id": "9376b229",
   "metadata": {},
   "outputs": [
    {
     "data": {
      "text/plain": [
       "0"
      ]
     },
     "execution_count": 38,
     "metadata": {},
     "output_type": "execute_result"
    }
   ],
   "source": [
    "np.sum(np.isnan(feh))"
   ]
  },
  {
   "cell_type": "code",
   "execution_count": 9,
   "id": "91fb67a6",
   "metadata": {},
   "outputs": [],
   "source": [
    "class Model(LightningModule):\n",
    "                \n",
    "    def __init__(self, weight, mean_train_x, stdv_train_x, transfer):\n",
    "        super().__init__()\n",
    "        self.save_hyperparameters()\n",
    "        self.l1 = torch.nn.Linear(len(x_keys), 100) \n",
    "        self.l2 = torch.nn.Linear(100, 50)\n",
    "        self.l3 = torch.nn.Linear(50, 2)\n",
    "        \n",
    "        self.train_acc = torchmetrics.Accuracy()\n",
    "        self.valid_acc = torchmetrics.Accuracy()\n",
    "        self.weight = weight\n",
    "        self.mean_train_x = mean_train_x\n",
    "        self.stdv_train_x = stdv_train_x\n",
    "        if transfer == True:\n",
    "            self.feature_extractor = Model.load_from_checkpoint(transfer_checkpoint, transfer=False)\n",
    "            self.feature_extractor.freeze()\n",
    "    \n",
    "    def forward(self, x):\n",
    "        x_out = self.l1(x)\n",
    "        x_out = torch.relu(x_out)\n",
    "        x_out = self.l2(x_out)\n",
    "        x_out = torch.relu(x_out)\n",
    "        x_out = self.l3(x_out)\n",
    "        return x_out\n",
    "    \n",
    "    def configure_optimizers(self):\n",
    "        return torch.optim.Adam(self.parameters(), lr=learning_rate)\n",
    "    \n",
    "    def training_step(self, batch, batch_nb):\n",
    "        train_x, train_y = batch \n",
    "        preds = self(train_x)\n",
    "        loss = F.cross_entropy(preds, train_y, weight = self.weight.to(self.device))\n",
    "        self.train_acc(preds, train_y)\n",
    "        self.log('train_loss', loss)\n",
    "        self.log('train_acc', self.train_acc, on_step=False, on_epoch=True, prog_bar=True)\n",
    "        return loss\n",
    "    \n",
    "    def validation_step(self, batch, batch_nb):\n",
    "        val_x, val_y = batch\n",
    "        preds = self(val_x)\n",
    "        loss = F.cross_entropy(preds, val_y, weight=self.weight.to(self.device))\n",
    "        self.valid_acc(preds, val_y)\n",
    "        self.log('val_loss', loss)\n",
    "        self.log('valid_acc', self.valid_acc, on_step=False, on_epoch=True, prog_bar=True)\n",
    "        return loss"
   ]
  },
  {
   "cell_type": "code",
   "execution_count": 11,
   "id": "5fb550a1",
   "metadata": {},
   "outputs": [],
   "source": [
    "# if transfer == True:\n",
    "#     model = Model(weight, mean_train_x, stdv_train_x, transfer=True)\n",
    "# else:\n",
    "#     model = Model(weight, mean_train_x, stdv_train_x, transfer=False)\n",
    "model = Model.load_from_checkpoint(checkpoint)\n",
    "mean = model.mean_train_x\n",
    "stdv = model.stdv_train_x\n",
    "weight = model.weight\n",
    "\n",
    "test_x = (x - mean) / stdv\n",
    "\n",
    "test_x = torch.tensor(test_x, dtype=torch.float32)\n",
    "test_y = torch.tensor(y, dtype=torch.long)\n",
    "\n",
    "test_dataset = list(zip(test_x, test_y))\n",
    "test_loader = DataLoader(test_dataset, batch_size = batch_size)"
   ]
  },
  {
   "cell_type": "code",
   "execution_count": 12,
   "id": "03c25619",
   "metadata": {},
   "outputs": [
    {
     "name": "stderr",
     "output_type": "stream",
     "text": [
      "/tmp/ipykernel_75400/2522318344.py:17: RuntimeWarning: overflow encountered in exp\n",
      "  score = np.exp(predict[:,1])/(np.exp(predict[:,0])+np.exp(predict[:,1]))\n"
     ]
    }
   ],
   "source": [
    "predict = []\n",
    "target = []\n",
    "# x_final = []\n",
    "\n",
    "model.eval()\n",
    "with torch.no_grad():\n",
    "    for batch in test_loader:\n",
    "        x, y = batch\n",
    "        yhat = model(x)\n",
    "        predict.append(yhat.cpu().numpy())\n",
    "        target.append(y.cpu().numpy())\n",
    "        # x_final.append(x.cpu().numpy())\n",
    "predict = np.concatenate(predict)\n",
    "target = np.concatenate(target)\n",
    "# x_final = np.concatenate(x_final)\n",
    "\n",
    "score = np.exp(predict[:,1])/(np.exp(predict[:,0])+np.exp(predict[:,1]))\n",
    "target_true_mask = (target==True)\n",
    "target_false_mask = (target==False)"
   ]
  },
  {
   "cell_type": "code",
   "execution_count": 13,
   "id": "69161d3b",
   "metadata": {},
   "outputs": [
    {
     "data": {
      "text/plain": [
       "(8593425, 2)"
      ]
     },
     "execution_count": 13,
     "metadata": {},
     "output_type": "execute_result"
    }
   ],
   "source": [
    "predict.shape"
   ]
  },
  {
   "cell_type": "code",
   "execution_count": 16,
   "id": "7a942ded",
   "metadata": {},
   "outputs": [
    {
     "name": "stdout",
     "output_type": "stream",
     "text": [
      "<bound method MappingHDF5.keys of <HDF5 file \"training_score.hdf5\" (mode r)>>\n"
     ]
    }
   ],
   "source": [
    "score_path = '/ocean/projects/phy210068p/hsu1/Training_results/DR3_lsr012/Gaia/6D_gal/training_score.hdf5'\n",
    "with h5py.File(score_path, 'r') as f:\n",
    "    print(f.keys)\n",
    "    x_final = f['x_final'][:]\n",
    "    score = f['score'][:]\n",
    "    target = f['target'][:]"
   ]
  },
  {
   "cell_type": "code",
   "execution_count": 17,
   "id": "2780f45b",
   "metadata": {},
   "outputs": [
    {
     "data": {
      "text/plain": [
       "(8728028, 6)"
      ]
     },
     "execution_count": 17,
     "metadata": {},
     "output_type": "execute_result"
    }
   ],
   "source": [
    "x_final.shape"
   ]
  },
  {
   "cell_type": "code",
   "execution_count": 18,
   "id": "1508de63",
   "metadata": {},
   "outputs": [
    {
     "name": "stderr",
     "output_type": "stream",
     "text": [
      "WARNING: Negative parallaxes are converted to NaN distances even when `allow_negative=True`, because negative parallaxes cannot be transformed into distances. See discussion in this paper: https://arxiv.org/abs/1507.02105 [astropy.coordinates.distances]\n"
     ]
    }
   ],
   "source": [
    "ra = x_final[:,0]\n",
    "dec = x_final[:,1]\n",
    "pmra = x_final[:,2]\n",
    "pmdec = x_final[:,3]\n",
    "parallax = x_final[:,4]\n",
    "rv = x_final[:,5]\n",
    "\n",
    "mask0 = (score < 0.7623)\n",
    "mask1 = (score > 0.7623)\n",
    "\n",
    "ra0 = ra[mask0] * u.deg\n",
    "dec0 = dec[mask0] * u.deg\n",
    "pmra0 = pmra[mask0] * u.mas / u.yr\n",
    "pmdec0 = pmdec[mask0] * u.mas / u.yr\n",
    "parallax0 = parallax[mask0] * u.mas\n",
    "rv0 = rv[mask0] * u.km / u.s\n",
    "\n",
    "ra1 = ra[mask1] * u.deg\n",
    "dec1 = dec[mask1] * u.deg\n",
    "pmra1 = pmra[mask1] * u.mas / u.yr\n",
    "pmdec1 = pmdec[mask1] * u.mas / u.yr\n",
    "parallax1 = parallax[mask1] * u.mas\n",
    "rv1 = rv[mask1] * u.km / u.s\n",
    "\n",
    "#Remove nan values in parallax\n",
    "\n",
    "dist0 = coord.Distance(parallax=parallax0, allow_negative=True)\n",
    "icrs = coord.ICRS(\n",
    "    ra=ra0, dec=dec0, distance=dist0, pm_ra_cosdec=pmra0, pm_dec=pmdec0, radial_velocity=rv0)\n",
    "gal0 = icrs.transform_to(coord.Galactocentric())\n",
    "\n",
    "x0 = gal0.x.to_value(u.kpc)\n",
    "y0 = gal0.y.to_value(u.kpc)\n",
    "z0 = gal0.z.to_value(u.kpc)\n",
    "vx0 = gal0.v_x.to_value(u.km/u.s)\n",
    "vy0 = gal0.v_y.to_value(u.km/u.s)\n",
    "vz0 = gal0.v_z.to_value(u.km/u.s)  \n",
    "\n",
    "dist1 = coord.Distance(parallax=parallax1, allow_negative=True)\n",
    "icrs = coord.ICRS(\n",
    "    ra=ra1, dec=dec1, distance=dist1, pm_ra_cosdec=pmra1, pm_dec=pmdec1, radial_velocity=rv1)\n",
    "gal1 = icrs.transform_to(coord.Galactocentric())\n",
    "x1 = gal1.x.to_value(u.kpc)\n",
    "y1 = gal1.y.to_value(u.kpc)\n",
    "z1 = gal1.z.to_value(u.kpc)\n",
    "vx1 = gal1.v_x.to_value(u.km/u.s)\n",
    "vy1 = gal1.v_y.to_value(u.km/u.s)\n",
    "vz1 = gal1.v_z.to_value(u.km/u.s)  \n",
    "\n",
    "vr0 = np.sqrt(vx0**2 + vz0**2)\n",
    "vr1 = np.sqrt(vx1**2 + vz1**2)"
   ]
  },
  {
   "cell_type": "code",
   "execution_count": 19,
   "id": "a10786be",
   "metadata": {},
   "outputs": [
    {
     "data": {
      "text/plain": [
       "(156840, 132832, 5036808)"
      ]
     },
     "execution_count": 19,
     "metadata": {},
     "output_type": "execute_result"
    }
   ],
   "source": [
    "len(x1), np.sum(np.isnan(x1)), len(x0) - np.sum(np.isnan(x0))\n"
   ]
  },
  {
   "cell_type": "code",
   "execution_count": 11,
   "id": "bfbedf3f",
   "metadata": {},
   "outputs": [
    {
     "data": {
      "text/plain": [
       "(array([2.2935889 , 2.7024224 , 0.04723364, ..., 3.2723396 , 4.019834  ,\n",
       "        2.922653  ], dtype=float32),\n",
       " array([ 0.5556095 , -0.22045799,  0.32597584, ...,  1.8024927 ,\n",
       "        -0.53539497,  0.9073517 ], dtype=float32))"
      ]
     },
     "execution_count": 11,
     "metadata": {},
     "output_type": "execute_result"
    }
   ],
   "source": [
    "x1, x0#Remove nan"
   ]
  },
  {
   "cell_type": "code",
   "execution_count": 6,
   "id": "ebc93daa",
   "metadata": {},
   "outputs": [],
   "source": [
    "# mask0 = (score < 0.765)\n",
    "# mask1 = (score > 0.765)\n",
    "# x1 = x_final[:, 0][mask1]\n",
    "# x0 = x_final[:, 0][mask0]\n",
    "# y1 = x_final[:, 1][mask1]\n",
    "# y0 = x_final[:, 1][mask0]\n",
    "# z1 = x_final[:, 2][mask1]\n",
    "# z0 = x_final[:, 2][mask0]\n",
    "# vx1 = x_final[:, 3][mask1]\n",
    "# vx0 = x_final[:, 3][mask0]\n",
    "# vy1 = x_final[:, 4][mask1]\n",
    "# vy0 = x_final[:, 4][mask0]\n",
    "# vz1 = x_final[:, 5][mask1]\n",
    "# vz0 = x_final[:, 5][mask0]\n",
    "# vr0 = np.sqrt(vx0**2 + vz0**2)\n",
    "# vr1 = np.sqrt(vx1**2 + vz1**2)"
   ]
  },
  {
   "cell_type": "code",
   "execution_count": 22,
   "id": "29874edc",
   "metadata": {},
   "outputs": [],
   "source": [
    "non_nan_mask_0 = ~np.isnan(vr0)\n",
    "vr0 = vr0[non_nan_mask_0]\n",
    "vx0 = vx0[non_nan_mask_0]\n",
    "vy0 = vy0[non_nan_mask_0]\n",
    "vz0 = vz0[non_nan_mask_0]\n",
    "\n",
    "non_nan_mask_1 = ~np.isnan(vr1)\n",
    "vr1 = vr1[non_nan_mask_1]\n",
    "vx1 = vx1[non_nan_mask_1]\n",
    "vy1 = vy1[non_nan_mask_1]\n",
    "vz1 = vz1[non_nan_mask_1]"
   ]
  },
  {
   "cell_type": "code",
   "execution_count": 28,
   "id": "0d5bcd1e",
   "metadata": {},
   "outputs": [
    {
     "name": "stderr",
     "output_type": "stream",
     "text": [
      "No artists with labels found to put in legend.  Note that artists whose label start with an underscore are ignored when legend() is called with no argument.\n"
     ]
    },
    {
     "data": {
      "image/png": "[encoded data removed]",
      "text/plain": [
       "<Figure size 936x720 with 2 Axes>"
      ]
     },
     "metadata": {
      "needs_background": "light"
     },
     "output_type": "display_data"
    }
   ],
   "source": [
    "fig, ax = plt.subplots(1, figsize=(13, 10))\n",
    "\n",
    "h = ax.hist2d(vy1, vr1, bins=1000, weights=np.repeat(1/len(vx1), len(vx1)), norm=mpl.colors.LogNorm())\n",
    "ax.set_xlabel(r'$V_y [km s^{-1}]$', fontsize=20)\n",
    "ax.set_ylabel(r'$\\sqrt{V_x^2+V_z^2} [km s^{-1}]$', fontsize=20)\n",
    "ax.set_title(f'Accerted Stars from Gaia DR3 (6D Cataloged), ({len(x1)} stars)', fontsize=20)\n",
    "cb = fig.colorbar(h[3], ax=ax, label=r'Normalized Counts (km/s)$^{-2}$') \n",
    "cb.ax.tick_params(labelsize=20)\n",
    "ax.tick_params(axis='both', labelsize=20)\n",
    "plt.legend(fontsize=20)\n",
    "plt.show()\n"
   ]
  },
  {
   "cell_type": "code",
   "execution_count": 29,
   "id": "92a35cfb",
   "metadata": {},
   "outputs": [
    {
     "name": "stderr",
     "output_type": "stream",
     "text": [
      "No artists with labels found to put in legend.  Note that artists whose label start with an underscore are ignored when legend() is called with no argument.\n"
     ]
    },
    {
     "data": {
      "image/png": "[encoded data removed]",
      "text/plain": [
       "<Figure size 936x720 with 2 Axes>"
      ]
     },
     "metadata": {
      "needs_background": "light"
     },
     "output_type": "display_data"
    }
   ],
   "source": [
    "fig, ax = plt.subplots(1, figsize=(13, 10))\n",
    "\n",
    "h = ax.hist2d(vy0, vr0, bins=1000, weights=np.repeat(1/len(vx0), len(vx0)), norm=mpl.colors.LogNorm())\n",
    "ax.set_xlabel(r'$V_y [km s^{-1}]$', fontsize=20)\n",
    "ax.set_ylabel(r'$\\sqrt{V_x^2+V_z^2} [km s^{-1}]$', fontsize=20)\n",
    "ax.set_title(f'In Situ Stars from Gaia DR3 (6D Cataloged), ({len(x0)} stars)', fontsize=20)\n",
    "cb = fig.colorbar(h[3], ax=ax, label=r'Normalized Counts (km/s)$^{-2}$') \n",
    "cb.ax.tick_params(labelsize=20)\n",
    "ax.tick_params(axis='both', labelsize=20)\n",
    "plt.legend(fontsize=20)\n",
    "plt.show()"
   ]
  },
  {
   "cell_type": "code",
   "execution_count": null,
   "id": "b9211000",
   "metadata": {},
   "outputs": [],
   "source": [
    "fig, ax = plt.subplots(1, figsize=(13, 10))\n",
    "\n",
    "h = ax.hist2d(vy1, vr1, bins=100, weights=np.repeat(1/len(vx1), len(vx1)), norm=mpl.colors.LogNorm())\n",
    "ax.set_xlabel(r'$V_y [km s^{-1}]$', fontsize=35)\n",
    "ax.set_ylabel(r'$\\sqrt{V_x^2+V_z^2} [km s^{-1}]$', fontsize=35)\n",
    "ax.set_title('Toomre Diagram of Accreted Stars', fontsize=40)\n",
    "cb = fig.colorbar(h[3], ax=ax, label=r'Normalized Counts (km/s)$^{-2}$') \n",
    "cb.ax.tick_params(labelsize=35)\n",
    "ax.tick_params(axis='both', labelsize=35)"
   ]
  },
  {
   "cell_type": "code",
   "execution_count": null,
   "id": "cf1ccb7f",
   "metadata": {},
   "outputs": [],
   "source": []
  }
 ],
 "metadata": {
  "kernelspec": {
   "display_name": "Python 3",
   "language": "python",
   "name": "python3"
  },
  "language_info": {
   "codemirror_mode": {
    "name": "ipython",
    "version": 3
   },
   "file_extension": ".py",
   "mimetype": "text/x-python",
   "name": "python",
   "nbconvert_exporter": "python",
   "pygments_lexer": "ipython3",
   "version": "3.8.13"
  }
 },
 "nbformat": 4,
 "nbformat_minor": 5
}
