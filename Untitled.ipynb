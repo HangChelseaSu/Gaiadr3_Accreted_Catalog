{
 "cells": [
  {
   "cell_type": "code",
   "execution_count": 1,
   "id": "cc2a11a1",
   "metadata": {},
   "outputs": [
    {
     "name": "stderr",
     "output_type": "stream",
     "text": [
      "/tmp/ipykernel_15552/2179434451.py:10: DeprecationWarning: Importing display from IPython.core.display is deprecated since IPython 7.14, please import from IPython display\n",
      "  from IPython.core.display import display\n"
     ]
    }
   ],
   "source": [
    "import h5py\n",
    "import numpy as np\n",
    "import pandas as pd\n",
    "import os\n",
    "import pandas as pd\n",
    "import seaborn as sn\n",
    "import torch\n",
    "import torchvision.models as models\n",
    "from pytorch_lightning.callbacks.model_checkpoint import ModelCheckpoint\n",
    "from IPython.core.display import display\n",
    "from collections.abc import Mapping\n",
    "from pytorch_lightning import LightningModule, Trainer\n",
    "from pytorch_lightning.callbacks.progress import TQDMProgressBar\n",
    "from pytorch_lightning.loggers import CSVLogger\n",
    "from torch import nn\n",
    "from torch.nn import functional as F\n",
    "from torch.utils.data import DataLoader, random_split, TensorDataset\n",
    "from pytorch_lightning.callbacks.early_stopping import EarlyStopping\n",
    "from pytorch_lightning.loggers import CSVLogger\n",
    "import torchmetrics\n",
    "from torchvision.transforms import ToTensor\n",
    "import astropy.units as u\n",
    "import astropy.coordinates as coord\n",
    "\n",
    "import matplotlib.pyplot as plt\n",
    "plt.style.use('seaborn-colorblind')\n",
    "\n",
    "#User Input\n",
    "sim = 'DR3_lsr012' #input(\"DR2 or DR3: \")\n",
    "dim = '6D' #input(\"Input how many dimensions are needed: \")\n",
    "galaxy = 'm12i' #input(\"Use m12i or m12f data: \")\n",
    "transfer = False #bool(input(\"Transfer learning (True or False): \"))\n",
    "if transfer == True:\n",
    "    transfer_galaxy = 'm12f' #input(\"Which galaxy parameters for transfer learning: \")\n",
    "\n",
    "# Training data\n",
    "if dim == '4D':\n",
    "    x_keys = ['ra', 'dec', 'pmra', 'pmdec']\n",
    "elif dim == '5D':\n",
    "    x_keys = ['ra', 'dec', 'pmra', 'pmdec', 'parallax']\n",
    "elif dim == '6D':\n",
    "    x_keys = ['ra', 'dec', 'pmra', 'pmdec', 'parallax', 'radial_velocity']\n",
    "elif dim == '7D':\n",
    "    x_keys = ['ra', 'dec', 'pmra', 'pmdec', 'parallax', 'radial_velocity', 'feh']\n",
    "elif dim == '9D':\n",
    "    x_keys = ['ra', 'dec', 'pmra', 'pmdec', 'parallax', 'radial_velocity', 'Jr', 'Jphi', 'Jz']\n",
    "elif dim == '10D':\n",
    "    x_keys = ['ra', 'dec', 'pmra', 'pmdec', 'parallax', 'radial_velocity', 'Jr', 'Jphi', 'Jz', 'feh']\n",
    "    \n",
    "y_key = 'is_accreted'\n",
    "\n",
    "# Directories\n",
    "path = '/ocean/projects/phy210068p/hsu1/Ananke_datasets_training/AnankeDR3_data_reduced_m12i_lsr012.hdf5'\n",
    "out_dir = '/ocean/projects/phy210068p/hsu1/Training_results/' + sim + '/' + galaxy + '/' + dim \n",
    "roc_title = sim + '_' + galaxy + '_' + dim\n",
    "\n",
    "# Parameters\n",
    "learning_rate = 1e-3\n",
    "batch_size = 1024\n",
    "roc_path = '/ocean/projects/phy210068p/hsu1/Training_results/' + sim + '/' + galaxy + '/' + 'roc_parameters.hdf5'\n",
    "\n",
    "if transfer == True:\n",
    "    out_dir = out_dir + '_transfer'\n",
    "    transfer_checkpoint = '/ocean/projects/phy210068p/hsu1/Training_results/' + sim +'/'+ transfer_galaxy +'/'+ dim + '/training_logs/version_0/checkpoints/last.ckpt'\n",
    "    roc_title = sim + '_' + transfer_galaxy + '_on_' + galaxy\n",
    "    roc_path = '/ocean/projects/phy210068p/hsu1/Training_results/' + sim + '/' + roc_title + '_roc_parameters.hdf5'\n",
    "\n",
    "train_parameter_file = out_dir + '/training_parameters.hdf5'\n",
    "train_log = out_dir + '/training_logs'\n",
    "checkpoint = train_log + '/version_0/checkpoints/last.ckpt'\n",
    "    \n",
    "#Saving roc curves\n",
    "def save_roc(roc_path, epsilon_i, epsilon_a):\n",
    "    with h5py.File(roc_path, 'a') as f:\n",
    "        if dim + '_ep_i' in f.keys():\n",
    "            del f[dim + '_ep_i']\n",
    "            del f[dim + '_ep_a']\n",
    "            f.create_dataset(dim + '_ep_i', data=epsilon_i)\n",
    "            f.create_dataset(dim + '_ep_a', data=epsilon_a)\n",
    "        else:\n",
    "            f.create_dataset(dim + '_ep_i', data=epsilon_i)\n",
    "            f.create_dataset(dim + '_ep_a', data=epsilon_a)\n",
    "            \n",
    "\n"
   ]
  },
  {
   "cell_type": "code",
   "execution_count": 2,
   "id": "25a2b9f3",
   "metadata": {},
   "outputs": [],
   "source": [
    "data = []\n",
    "f = h5py.File(path, 'r')\n",
    "\n",
    "for i in x_keys:\n",
    "    data.append(f[i][:])\n",
    "y = f[y_key][:]\n",
    "\n",
    "# Getting rid of nan values\n",
    "x = []\n",
    "if 'Jr' in x_keys:\n",
    "    Jr = f['Jr'][:]\n",
    "    mask = (~np.isnan(Jr))\n",
    "    for i in range(len(x_keys)):\n",
    "        new = data[i][:][mask]\n",
    "        x.append(new)\n",
    "    y = y[mask]\n",
    "elif 'radial_velocity' in x_keys:\n",
    "    rv = f['radial_velocity'][:]\n",
    "    mask = (~np.isnan(rv))\n",
    "    for i in range(len(x_keys)):\n",
    "        new = data[i][:][mask]\n",
    "        x.append(new)\n",
    "    y = y[mask]\n",
    "else:\n",
    "    x = data\n",
    "\n",
    "f.close()"
   ]
  },
  {
   "cell_type": "code",
   "execution_count": 8,
   "id": "6c466e2e",
   "metadata": {},
   "outputs": [],
   "source": [
    "ra = x[0] * u.deg\n",
    "dec = x[1] * u.deg\n",
    "pmra = x[2] * u.mas / u.yr\n",
    "pmdec = x[3] * u.mas / u.yr\n",
    "parallax = x[4] * u.mas\n",
    "rv = x[5] * u.km / u.s\n",
    "\n",
    "dist = coord.Distance(parallax=parallax, allow_negative=True)\n",
    "\n",
    "# Coord transformation\n",
    "icrs = coord.ICRS(\n",
    "    ra=ra, dec=dec, distance=dist, pm_ra_cosdec=pmra, pm_dec=pmdec, radial_velocity=rv)\n",
    "icrs.representation_type = 'cylindrical'\n",
    "\n",
    "\n",
    "\n"
   ]
  },
  {
   "cell_type": "code",
   "execution_count": 11,
   "id": "5529388d",
   "metadata": {},
   "outputs": [
    {
     "data": {
      "text/plain": [
       "<ICRS Coordinate: (rho, phi, z) in (pc, deg, pc)\n",
       "    [(2745.61092418, -91.15103149, -978.30512852),\n",
       "     (2487.27731744, -89.46783447, -801.42147647),\n",
       "     (2507.63195313, -88.55615234, -739.20168469), ...,\n",
       "     (1955.30414689, -94.72650147,  304.85130352),\n",
       "     (2946.75983675, -95.63687134,  810.13827356),\n",
       "     (1596.39232995, -79.83709717, -163.50230727)]\n",
       " (d_rho, d_phi, d_z) in (mas pc / (rad yr), mas / yr, mas pc / (rad yr))\n",
       "    [(12795.02813848,  -0.08190318,   4089.76711287),\n",
       "     (12382.45989678,   1.52787536,   2869.45460571),\n",
       "     (14772.24987886,   0.84433481,   4360.6315346 ), ...,\n",
       "     (51297.12070455, -15.55038532, -52630.31828988),\n",
       "     (59957.97452148, -11.33654337, -57709.34407607),\n",
       "     (47907.43966673, -28.37313347, -58140.20446441)]>"
      ]
     },
     "execution_count": 11,
     "metadata": {},
     "output_type": "execute_result"
    }
   ],
   "source": [
    "icrs"
   ]
  },
  {
   "cell_type": "code",
   "execution_count": 12,
   "id": "2841b8f1",
   "metadata": {},
   "outputs": [
    {
     "ename": "",
     "evalue": "",
     "output_type": "error",
     "traceback": [
      "\u001b[1;31mThe Kernel crashed while executing code in the the current cell or a previous cell. Please review the code in the cell(s) to identify a possible cause of the failure. Click <a href='https://aka.ms/vscodeJupyterKernelCrash'>here</a> for more info. View Jupyter <a href='command:jupyter.viewOutput'>log</a> for further details."
     ]
    }
   ],
   "source": [
    "\n",
    "rho_cyl = icrs.rho.to_value(u.pc)\n",
    "phi_cyl = icrs.phi.to_value(u.deg)\n",
    "z_cyl = icrs.z.to_value(u.pc)\n",
    "vrho_cyl = icrs.d_rho.to_value(u.mas * u.pc / (u.rad * u.yr))\n",
    "vphi_cyl = icrs.d_phi.to_value(u.mas / u.yr)\n",
    "vz_cyl = icrs.d_z.to_value(u.mas * u.pc / (u.rad * u.yr))"
   ]
  },
  {
   "cell_type": "code",
   "execution_count": null,
   "id": "1f222f1f",
   "metadata": {},
   "outputs": [],
   "source": [
    "x = []\n",
    "x.append(rho_cyl)\n",
    "x.append(phi_cyl)\n",
    "x.append(z_cyl)\n",
    "x.append(vrho_cyl)\n",
    "x.append(vphi_cyl)\n",
    "x.append(vz_cyl)\n",
    "\n",
    "x = np.vstack(x).T"
   ]
  }
 ],
 "metadata": {
  "kernelspec": {
   "display_name": "Python 3 (ipykernel)",
   "language": "python",
   "name": "python3"
  }
 },
 "nbformat": 4,
 "nbformat_minor": 5
}
