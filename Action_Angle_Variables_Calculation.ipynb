{
 "cells": [
  {
   "cell_type": "code",
   "execution_count": 1,
   "id": "80bcf08c",
   "metadata": {},
   "outputs": [],
   "source": [
    "import numpy as np\n",
    "import pandas as pd\n",
    "import astropy.units as u\n",
    "import astropy.coordinates as coord\n",
    "import matplotlib as mpl\n",
    "import matplotlib.pyplot as plt\n",
    "from IPython.display import HTML, display\n",
    "import h5py\n",
    "\n",
    "import agama\n",
    "\n",
    "# import utilities as ut\n",
    "# import gizmo_analysis as gizmo\n",
    "\n",
    "\n",
    "%matplotlib inline\n",
    "\n",
    "# Set unit of Agama to (mass, length, velocity) = (1 Msun, 1 kpc, 1 km/s)\n",
    "agama.setUnits(mass=1, length=1, velocity=1)\n",
    "\n",
    "plt.style.use('seaborn-colorblind')\n",
    "mpl.rcParams.update({\n",
    "    'font.size': 18,\n",
    "    'figure.figsize': (8, 6),\n",
    "    'figure.facecolor': 'w',\n",
    "    'axes.linewidth': 2,\n",
    "    'xtick.direction': 'in',\n",
    "    'ytick.direction': 'in',\n",
    "})"
   ]
  },
  {
   "cell_type": "code",
   "execution_count": 2,
   "id": "e4491ed4",
   "metadata": {},
   "outputs": [],
   "source": [
    "# Read in DM potential and bar potential\n",
    "pxr_DM = agama.Potential(file=\n",
    "                         \"/ocean/projects/phy210068p/hsu1/Fire_simulation/m12i_res7100/600.dark.axi_4.coef_mul_DR\")\n",
    "pxr_bar = agama.Potential(file=\n",
    "                          \"/ocean/projects/phy210068p/hsu1/Fire_simulation/m12i_res7100/600.bar.axi_4.coef_cylsp_DR\")\n",
    "\n",
    "# Combine bar and DM potential\n",
    "potential = agama.Potential(pxr_DM, pxr_bar)"
   ]
  },
  {
   "cell_type": "code",
   "execution_count": 3,
   "id": "b2480fe0",
   "metadata": {},
   "outputs": [],
   "source": [
    "# csv = pd.read_csv('/ocean/projects/phy210068p/hsu1/data/Ananke/stars_accretion_history_m12i_res7100_v2.csv')\n",
    "# acc_id = csv.id_stars\n",
    "# with h5py.File(path, 'r') as f:\n",
    "#     ananke_id = f['parentid'][:]\n",
    "# accretion_id = np.isin(ananke_id, acc_id)\n",
    "# acc_mask = (accretion_id==1)"
   ]
  },
  {
   "cell_type": "code",
   "execution_count": 4,
   "id": "70495298",
   "metadata": {},
   "outputs": [],
   "source": [
    "path = '/ocean/projects/phy210068p/hsu1/Ananke_datasets_training/GaiaDR3_data_reduced.hdf5'\n",
    "with h5py.File(path, 'r') as f:\n",
    "    ra = f['ra'][:]\n",
    "    dec = f['dec'][:]\n",
    "    parallax = f['parallax'][:]\n",
    "    pmra = f['pmra'][:]\n",
    "    pmdec = f['pmdec'][:]\n",
    "    rv = f['radial_velocity'][:]"
   ]
  },
  {
   "cell_type": "code",
   "execution_count": 5,
   "id": "0a5ff84e",
   "metadata": {},
   "outputs": [],
   "source": [
    "# ra = ra[acc_mask]\n",
    "# dec = dec[acc_mask]\n",
    "# parallax = parallax[acc_mask]\n",
    "# pmra = pmra[acc_mask]\n",
    "# pmdec = pmdec[acc_mask]\n",
    "# rv = rv[acc_mask]"
   ]
  },
  {
   "cell_type": "code",
   "execution_count": 6,
   "id": "47c6e06a",
   "metadata": {},
   "outputs": [
    {
     "data": {
      "text/plain": [
       "(29684295,)"
      ]
     },
     "execution_count": 6,
     "metadata": {},
     "output_type": "execute_result"
    }
   ],
   "source": [
    "np.shape(ra)"
   ]
  },
  {
   "cell_type": "code",
   "execution_count": 7,
   "id": "81268c9c",
   "metadata": {},
   "outputs": [],
   "source": [
    "# Create new data to store nan values\n",
    "store_rv = rv"
   ]
  },
  {
   "cell_type": "code",
   "execution_count": 8,
   "id": "e6f5a7b5",
   "metadata": {},
   "outputs": [],
   "source": [
    "null_mask = (np.isnan(rv))\n",
    "non_null_mask = (~np.isnan(rv))\n",
    "rv = rv[non_null_mask]\n",
    "ra = ra[non_null_mask]\n",
    "dec = dec[non_null_mask]\n",
    "parallax = parallax[non_null_mask]\n",
    "pmra = pmra[non_null_mask]\n",
    "pmdec = pmdec[non_null_mask]"
   ]
  },
  {
   "cell_type": "code",
   "execution_count": 9,
   "id": "a60a13b6",
   "metadata": {},
   "outputs": [],
   "source": [
    "ra = ra * u.deg\n",
    "dec = dec * u.deg\n",
    "parallax = parallax * u.mas\n",
    "rv = rv * u.km / u.s\n",
    "pmra = pmra * u.mas / u.yr\n",
    "pmdec = pmdec * u.mas / u.yr\n",
    "\n",
    "dist = coord.Distance(parallax=parallax, allow_negative=True)\n",
    "\n",
    "# Coord transformation\n",
    "icrs = coord.ICRS(\n",
    "    ra=ra, dec=dec, distance=dist, pm_ra_cosdec=pmra, pm_dec=pmdec, radial_velocity=rv)\n",
    "gal = icrs.transform_to(coord.Galactocentric())"
   ]
  },
  {
   "cell_type": "code",
   "execution_count": 10,
   "id": "d11b927a",
   "metadata": {},
   "outputs": [],
   "source": [
    "# Integrate and plot the orbit for 10 Billion years\n",
    "posvel_accreted = np.stack([\n",
    "    gal.x.to_value(u.kpc), \n",
    "    gal.y.to_value(u.kpc),\n",
    "    gal.z.to_value(u.kpc),\n",
    "    gal.v_x.to_value(u.km/u.s),\n",
    "    gal.v_y.to_value(u.km/u.s),\n",
    "    gal.v_z.to_value(u.km/u.s),   \n",
    "], 1)"
   ]
  },
  {
   "cell_type": "code",
   "execution_count": 11,
   "id": "eb2f8991",
   "metadata": {},
   "outputs": [],
   "source": [
    "# Create an action finder from the potential to calculate the action\n",
    "action_finder = agama.ActionFinder(potential)"
   ]
  },
  {
   "cell_type": "code",
   "execution_count": 12,
   "id": "a7562cde",
   "metadata": {},
   "outputs": [],
   "source": [
    "Jr, Jz, Jphi = action_finder(posvel_accreted).T"
   ]
  },
  {
   "cell_type": "code",
   "execution_count": 13,
   "id": "97183491",
   "metadata": {},
   "outputs": [
    {
     "data": {
      "image/png": "[encoded data removed]",
      "text/plain": [
       "<Figure size 1296x432 with 3 Axes>"
      ]
     },
     "metadata": {},
     "output_type": "display_data"
    }
   ],
   "source": [
    "def plot_action(Jr, Jz, Jphi, hist_range, bins=100, norm=None):\n",
    "    ''' Plot the 2d distribution of the actions'''\n",
    "    \n",
    "    if norm is None:\n",
    "        norm = mpl.colors.LogNorm(vmin=1, vmax=100)    \n",
    "    \n",
    "    fig, axes = plt.subplots(1, 3, figsize=(18, 6))\n",
    "    axes[0].hist2d(\n",
    "        Jphi, Jr, bins=(bins, bins), range=(hist_range[2], hist_range[0]), norm=norm)\n",
    "    axes[1].hist2d(\n",
    "        Jphi, Jz, bins=(bins, bins), range=(hist_range[2], hist_range[1]), norm=norm)\n",
    "    axes[2].hist2d(\n",
    "        Jr, Jz, bins=(bins, bins), range=(hist_range[0], hist_range[1]), norm=norm)\n",
    "\n",
    "    axes[0].set_xlabel(r' $J_\\phi [\\mathrm{kpc} \\, \\mathrm{km} \\mathrm{s}^{-1}]$')\n",
    "    axes[1].set_xlabel(r' $J_\\phi [\\mathrm{kpc} \\, \\mathrm{km} \\mathrm{s}^{-1}]$')\n",
    "    axes[2].set_xlabel(r' $J_r [\\mathrm{kpc}  \\, \\mathrm{km} \\mathrm{s}^{-1}]$')\n",
    "    axes[0].set_ylabel(r' $J_r [\\mathrm{kpc}  \\, \\mathrm{km} \\mathrm{s}^{-1}]$')\n",
    "    axes[1].set_ylabel(r' $J_z [\\mathrm{kpc}  \\, \\mathrm{km} \\mathrm{s}^{-1}]$')\n",
    "    axes[2].set_ylabel(r' $J_z [\\mathrm{kpc}  \\, \\mathrm{km} \\mathrm{s}^{-1}]$')\n",
    "    fig.tight_layout()\n",
    "    axes[0].set_title('Gaia DR3')\n",
    "    #fig.colorbar(axes[2])\n",
    "    \n",
    "    return fig, axes\n",
    "\n",
    "hist_range = ((0, 8000), (0, 5000), (-5000, 5000))\n",
    "bins = 100\n",
    "norm = mpl.colors.LogNorm(vmin=1, vmax=100)\n",
    "fig, axes = plot_action(Jr, Jz, Jphi, hist_range, bins, norm)"
   ]
  },
  {
   "cell_type": "code",
   "execution_count": 11,
   "id": "e3a7d9b0",
   "metadata": {},
   "outputs": [],
   "source": [
    "new_Jr = np.empty(len(store_rv))\n",
    "new_Jr[:] = np.nan\n",
    "new_Jz = np.empty(len(store_rv))\n",
    "new_Jz[:] = np.nan\n",
    "new_Jphi = np.empty(len(store_rv))\n",
    "new_Jphi[:] = np.nan\n",
    "\n",
    "new_Jr[non_null_mask] = Jr\n",
    "new_Jz[non_null_mask] = Jz\n",
    "new_Jphi[non_null_mask] = Jphi"
   ]
  },
  {
   "cell_type": "code",
   "execution_count": 12,
   "id": "3bb082d2",
   "metadata": {},
   "outputs": [
    {
     "data": {
      "text/plain": [
       "(26706266, 90305140)"
      ]
     },
     "execution_count": 12,
     "metadata": {},
     "output_type": "execute_result"
    }
   ],
   "source": [
    "len(new_Jr) - np.sum(np.isnan(new_Jr)), np.sum(np.isnan(store_rv))"
   ]
  },
  {
   "cell_type": "code",
   "execution_count": 13,
   "id": "6b298b4d",
   "metadata": {},
   "outputs": [
    {
     "data": {
      "text/plain": [
       "(117011406, 117011412)"
      ]
     },
     "execution_count": 13,
     "metadata": {},
     "output_type": "execute_result"
    }
   ],
   "source": [
    "np.sum(np.isnan(new_Jr)==np.isnan(store_rv)), len(store_rv)"
   ]
  },
  {
   "cell_type": "code",
   "execution_count": null,
   "id": "2ad23b71",
   "metadata": {},
   "outputs": [],
   "source": [
    "with h5py.File(path, 'a') as f:\n",
    "#     del f['Jr']\n",
    "#     del f['Jz']\n",
    "#     del f['Jphi']\n",
    "    f.create_dataset('Jr', data=new_Jr)\n",
    "    f.create_dataset('Jz', data=new_Jz)\n",
    "    f.create_dataset('Jphi', data=new_Jphi)"
   ]
  },
  {
   "cell_type": "code",
   "execution_count": 29,
   "id": "b06dee59",
   "metadata": {},
   "outputs": [],
   "source": [
    "# path_action = '/ocean/projects/phy210068p/hsu1/Ananke_datasets_training'\n",
    "# with h5py.File(path_action, 'w') as f: \n",
    "#         f.create_dataset('Jr', data=Jr)\n",
    "#         f.create_dataset('Jz', data=Jz)\n",
    "#         f.create_dataset('Jphi', data=Jphi)"
   ]
  },
  {
   "cell_type": "code",
   "execution_count": 30,
   "id": "82fdd8d2",
   "metadata": {},
   "outputs": [
    {
     "data": {
      "text/plain": [
       "<KeysViewHDF5 ['Jphi', 'Jr', 'Jz', 'b', 'dec', 'feh', 'is_accreted', 'l', 'parallax', 'parentid', 'pmdec', 'pmra', 'ra', 'radial_velocity', 'radial_velocity_error']>"
      ]
     },
     "execution_count": 30,
     "metadata": {},
     "output_type": "execute_result"
    }
   ],
   "source": [
    "f = h5py.File(path, 'r')\n",
    "f.keys()"
   ]
  },
  {
   "cell_type": "code",
   "execution_count": 20,
   "id": "54e92c14",
   "metadata": {},
   "outputs": [],
   "source": [
    "with h5py.File(path, 'r') as f:\n",
    "    Jr_t = f['Jr'][:]"
   ]
  },
  {
   "cell_type": "code",
   "execution_count": 23,
   "id": "ecc02303",
   "metadata": {},
   "outputs": [
    {
     "data": {
      "text/plain": [
       "39287778"
      ]
     },
     "execution_count": 23,
     "metadata": {},
     "output_type": "execute_result"
    }
   ],
   "source": [
    "np.sum(np.isnan(Jr_t))"
   ]
  },
  {
   "cell_type": "code",
   "execution_count": null,
   "id": "5179f8df",
   "metadata": {},
   "outputs": [],
   "source": []
  }
 ],
 "metadata": {
  "kernelspec": {
   "display_name": "Python 3",
   "language": "python",
   "name": "python3"
  },
  "language_info": {
   "codemirror_mode": {
    "name": "ipython",
    "version": 3
   },
   "file_extension": ".py",
   "mimetype": "text/x-python",
   "name": "python",
   "nbconvert_exporter": "python",
   "pygments_lexer": "ipython3",
   "version": "3.8.13"
  }
 },
 "nbformat": 4,
 "nbformat_minor": 5
}
