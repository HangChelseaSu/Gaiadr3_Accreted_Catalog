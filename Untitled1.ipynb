{
 "cells": [
  {
   "cell_type": "code",
   "execution_count": null,
   "id": "c3dc471e",
   "metadata": {},
   "outputs": [],
   "source": [
    "import h5py\n",
    "import numpy as np\n",
    "import pandas as pd\n",
    "import os\n",
    "import pandas as pd\n",
    "import seaborn as sn\n",
    "import torch\n",
    "import torchvision.models as models\n",
    "from pytorch_lightning.callbacks.model_checkpoint import ModelCheckpoint\n",
    "from IPython.core.display import display\n",
    "from collections.abc import Mapping\n",
    "from pytorch_lightning import LightningModule, Trainer\n",
    "from pytorch_lightning.callbacks.progress import TQDMProgressBar\n",
    "from pytorch_lightning.loggers import CSVLogger\n",
    "from torch import nn\n",
    "from torch.nn import functional as F\n",
    "from torch.utils.data import DataLoader, random_split, TensorDataset\n",
    "from pytorch_lightning.callbacks.early_stopping import EarlyStopping\n",
    "from pytorch_lightning.loggers import CSVLogger\n",
    "import torchmetrics\n",
    "from torchvision.transforms import ToTensor\n",
    "\n",
    "import matplotlib.pyplot as plt\n",
    "plt.style.use('seaborn-colorblind')\n",
    "\n",
    "#User Input\n",
    "sim = 'DR3_lsr012' #input(\"DR2 or DR3: \")\n",
    "dim = '6D' #input(\"Input how many dimensions are needed: \")\n",
    "galaxy = 'm12i' #input(\"Use m12i or m12f data: \")\n",
    "transfer = False #bool(input(\"Transfer learning (True or False): \"))\n",
    "if transfer == True:\n",
    "    transfer_galaxy = 'm12i' #input(\"Which galaxy parameters for transfer learning: \")\n",
    "\n",
    "# Training data\n",
    "if dim == '4D':\n",
    "    x_keys = ['ra', 'dec', 'pmra', 'pmdec']\n",
    "elif dim == '5D':\n",
    "    x_keys = ['ra', 'dec', 'pmra', 'pmdec', 'parallax']\n",
    "elif dim == '6D':\n",
    "    x_keys = ['ra', 'dec', 'pmra', 'pmdec', 'parallax', 'radial_velocity']\n",
    "elif dim == '7D':\n",
    "    x_keys = ['ra', 'dec', 'pmra', 'pmdec', 'parallax', 'radial_velocity', 'feh']\n",
    "elif dim == '9D':\n",
    "    x_keys = ['ra', 'dec', 'pmra', 'pmdec', 'parallax', 'radial_velocity', 'Jr', 'Jphi', 'Jz']\n",
    "elif dim == '10D':\n",
    "    x_keys = ['ra', 'dec', 'pmra', 'pmdec', 'parallax', 'radial_velocity', 'Jr', 'Jphi', 'Jz', 'feh']\n",
    "    \n",
    "y_key = 'is_accreted'\n",
    "\n",
    "# Directories\n",
    "path = '/ocean/projects/phy210068p/hsu1/Ananke_datasets_training/AnankeDR3_data_reduced_m12i_lsr012.hdf5'\n",
    "out_dir = '/ocean/projects/phy210068p/hsu1/Training_results/' + sim + '/' + galaxy + '/' + dim\n",
    "roc_title = sim + '_' + galaxy + '_' + dim\n",
    "\n",
    "# Parameters\n",
    "learning_rate = 1e-3\n",
    "batch_size = 1024\n",
    "roc_path = '/ocean/projects/phy210068p/hsu1/Training_results/' + sim + '/' + galaxy + '/' + 'roc_parameters.hdf5'\n",
    "\n",
    "if transfer == True:\n",
    "    out_dir = out_dir + '_transfer'\n",
    "    transfer_checkpoint = '/ocean/projects/phy210068p/hsu1/Training_results/' + sim +'/'+ transfer_galaxy +'/'+ dim + '/training_logs/version_0/checkpoints/last.ckpt'\n",
    "    roc_title = sim + '_' + transfer_galaxy + '_on_' + galaxy\n",
    "    roc_path = '/ocean/projects/phy210068p/hsu1/Training_results/' + sim + '/' + roc_title + '_roc_parameters.hdf5'\n",
    "\n",
    "train_parameter_file = out_dir + '/training_parameters.hdf5'\n",
    "train_log = out_dir + '/training_logs'\n",
    "checkpoint = train_log + '/version_0/checkpoints/last.ckpt'\n",
    "    \n",
    "#Saving roc curves\n",
    "def save_roc(roc_path, epsilon_i, epsilon_a):\n",
    "    with h5py.File(roc_path, 'a') as f:\n",
    "        if dim + '_ep_i' in f.keys():\n",
    "            del f[dim + '_ep_i']\n",
    "            del f[dim + '_ep_a']\n",
    "            f.create_dataset(dim + '_ep_i', data=epsilon_i)\n",
    "            f.create_dataset(dim + '_ep_a', data=epsilon_a)\n",
    "        else:\n",
    "            f.create_dataset(dim + '_ep_i', data=epsilon_i)\n",
    "            f.create_dataset(dim + '_ep_a', data=epsilon_a)\n",
    "            \n",
    "\n"
   ]
  },
  {
   "cell_type": "code",
   "execution_count": 6,
   "id": "239f84a4",
   "metadata": {},
   "outputs": [],
   "source": [
    "data = []\n",
    "f = h5py.File(path, 'r')\n",
    "\n",
    "for i in x_keys:\n",
    "    data.append(f[i][:])\n",
    "y = f[y_key][:]\n",
    "\n",
    "# Getting rid of nan values\n",
    "x = []\n",
    "if 'Jr' in x_keys:\n",
    "    Jr = f['Jr'][:]\n",
    "    mask = (~np.isnan(Jr))\n",
    "    for i in range(len(x_keys)):\n",
    "        new = data[i][:][mask]\n",
    "        x.append(new)\n",
    "    y = y[mask]\n",
    "elif 'radial_velocity' in x_keys:\n",
    "    rv = f['radial_velocity'][:]\n",
    "    mask = (~np.isnan(rv))\n",
    "    for i in range(len(x_keys)):\n",
    "        new = data[i][:][mask]\n",
    "        x.append(new)\n",
    "    y = y[mask]\n",
    "else:\n",
    "    x = data\n",
    "\n",
    "x = np.vstack(x).T\n",
    "f.close()\n",
    "\n"
   ]
  },
  {
   "cell_type": "code",
   "execution_count": 7,
   "id": "0cec124d",
   "metadata": {},
   "outputs": [
    {
     "data": {
      "text/plain": [
       "67577025"
      ]
     },
     "execution_count": 7,
     "metadata": {},
     "output_type": "execute_result"
    }
   ],
   "source": [
    "len(x)"
   ]
  },
  {
   "cell_type": "code",
   "execution_count": 5,
   "id": "e09b3036",
   "metadata": {},
   "outputs": [
    {
     "data": {
      "text/plain": [
       "(array([[ 52.58214306,   3.84176816,  93.46093852, -45.71911081],\n",
       "        [306.43156936,   4.75285476,  -8.19445786,  -9.53325005],\n",
       "        [341.51604974,  10.63690173,  -9.33673825,  -5.02194906],\n",
       "        ...,\n",
       "        [127.67183284,  75.28376157,  32.93515028,  15.09388142],\n",
       "        [109.38398946, -46.67869428,   6.9606546 , -18.03117141],\n",
       "        [303.53536643,  23.94707834, -48.44244513,  10.17012262]]),\n",
       " array([0, 0, 0, ..., 0, 0, 0], dtype=int32))"
      ]
     },
     "execution_count": 5,
     "metadata": {},
     "output_type": "execute_result"
    }
   ],
   "source": [
    "x, y"
   ]
  },
  {
   "cell_type": "code",
   "execution_count": null,
   "id": "d2e17f53",
   "metadata": {},
   "outputs": [],
   "source": [
    "with h5py.File('/ocean/projects/phy210068p/hsu1/Training_results/DR3_lsr012/m12i/6D/training_parameters.hdf5', 'r') as f:\n",
    "    shuffle = f['shuffle'][:]\n",
    "x = x[shuffle]\n",
    "y = y[shuffle]"
   ]
  }
 ],
 "metadata": {
  "kernelspec": {
   "display_name": "Python 3 (ipykernel)",
   "language": "python",
   "name": "python3"
  },
  "language_info": {
   "codemirror_mode": {
    "name": "ipython",
    "version": 3
   },
   "file_extension": ".py",
   "mimetype": "text/x-python",
   "name": "python",
   "nbconvert_exporter": "python",
   "pygments_lexer": "ipython3",
   "version": "3.8.13"
  }
 },
 "nbformat": 4,
 "nbformat_minor": 5
}
