{
 "cells": [
  {
   "cell_type": "code",
   "execution_count": 1,
   "id": "7f047837",
   "metadata": {},
   "outputs": [],
   "source": [
    "import h5py\n",
    "import numpy as np\n",
    "import matplotlib.pyplot as plt\n",
    "plt.style.use('seaborn-colorblind')"
   ]
  },
  {
   "cell_type": "code",
   "execution_count": 2,
   "id": "945fb1ea",
   "metadata": {},
   "outputs": [],
   "source": [
    "path_out = '/ocean/projects/phy210068p/hsu1/Ananke_datasets_training/AnankeDR2_data_reduced_m12i_lsr1.hdf5'\n",
    "\n",
    "keys = ['b', 'b_true','dec', 'dec_error', 'dec_true','feh','l', 'l_true','parallax', \n",
    "        'parallax_error', 'parallax_true','pmb_true', 'pmdec', \n",
    "        'pmdec_error', 'pmdec_true', 'pml_true', 'pmra', 'pmra_error', 'pmra_true', \n",
    "        'px_true', 'py_true', 'pz_true', 'ra', 'ra_error', 'ra_true', 'radial_velocity', \n",
    "        'radial_velocity_error', 'radial_velocity_true','parentid','vx_true', 'vy_true', 'vz_true']"
   ]
  },
  {
   "cell_type": "code",
   "execution_count": null,
   "id": "e108b8fa",
   "metadata": {},
   "outputs": [],
   "source": [
    "# ignore\n",
    "with h5py.File(path, 'r') as f:\n",
    "    print(f.keys())\n",
    "    sid = f['source_id'][:]"
   ]
  },
  {
   "cell_type": "code",
   "execution_count": 2,
   "id": "3ae297f1",
   "metadata": {},
   "outputs": [],
   "source": [
    "path0 = '/ocean/projects/phy210068p/hsu1/Ananke_datasets_training/AnankeDR2_data_reduced_m12i.hdf5'\n",
    "path = '/ocean/projects/phy210068p/shared/lsr-1-rslice-0.m12i-res7100-md-sliced-gcat-dr2.hdf5'\n",
    "path2 = '/ocean/projects/phy210068p/shared/lsr-2-rslice-0.m12i-res7100-md-sliced-gcat-dr2.hdf5'"
   ]
  },
  {
   "cell_type": "code",
   "execution_count": null,
   "id": "0b311b9b",
   "metadata": {},
   "outputs": [
    {
     "name": "stdout",
     "output_type": "stream",
     "text": [
      "b\n",
      "b_true\n"
     ]
    }
   ],
   "source": [
    "with h5py.File(path, 'r') as f:\n",
    "    poe = f['parallax_over_error'][:]\n",
    "    \n",
    "mask = (poe>10)\n",
    "with h5py.File(path_out, 'w') as f_out: \n",
    "    with h5py.File(path, 'r') as f:\n",
    "        for k in keys:\n",
    "            x = f[k][:][mask]\n",
    "            f_out.create_dataset(k, data=x)\n",
    "            print(k)"
   ]
  },
  {
   "cell_type": "code",
   "execution_count": 5,
   "id": "57f8a470",
   "metadata": {},
   "outputs": [
    {
     "name": "stdout",
     "output_type": "stream",
     "text": [
      "b\n",
      "b_true\n",
      "dec\n",
      "dec_error\n",
      "dec_true\n",
      "feh\n",
      "l\n",
      "l_true\n",
      "parallax\n",
      "parallax_error\n",
      "parallax_true\n",
      "pmb_true\n",
      "pmdec\n",
      "pmdec_error\n",
      "pmdec_true\n",
      "pml_true\n",
      "pmra\n",
      "pmra_error\n",
      "pmra_true\n",
      "px_true\n",
      "py_true\n",
      "pz_true\n",
      "ra\n",
      "ra_error\n",
      "ra_true\n",
      "radial_velocity\n",
      "radial_velocity_error\n",
      "radial_velocity_true\n",
      "parentid\n",
      "vx_true\n",
      "vy_true\n",
      "vz_true\n"
     ]
    }
   ],
   "source": [
    "# files = [path0, path1, path2]\n",
    "files = [path1]\n",
    "\n",
    "for j in keys:\n",
    "    data = []\n",
    "    for i in range(len(files)):\n",
    "        if i == 1 or i == 2:\n",
    "            with h5py.File(files[i], 'r') as f:\n",
    "                poe = f['parallax_over_error'][:]\n",
    "            mask = (poe>10)\n",
    "            with h5py.File(files[i], 'r') as f:\n",
    "                data = np.append(data, f[j][:][mask])\n",
    "        else:\n",
    "            with h5py.File(files[i], 'r') as f:\n",
    "                data = np.append(data, f[j][:])\n",
    "    with h5py.File(path_out, 'a') as f_out: \n",
    "        f_out.create_dataset(j, data=data)\n",
    "    print(j)"
   ]
  },
  {
   "cell_type": "code",
   "execution_count": 5,
   "id": "2adab070",
   "metadata": {},
   "outputs": [
    {
     "name": "stdout",
     "output_type": "stream",
     "text": [
      "<KeysViewHDF5 ['A0', 'a_g_bp_val', 'a_g_rp_val', 'a_g_val', 'age', 'alpha', 'b', 'b_true', 'bp_g', 'bp_g_int', 'bp_g_true', 'bp_rp', 'bp_rp_int', 'bp_rp_true', 'calcium', 'carbon', 'dec', 'dec_error', 'dec_true', 'dhel_true', 'dmod_true', 'e_bp_min_rp_val', 'ebv', 'feh', 'g_rp', 'g_rp_int', 'g_rp_true', 'helium', 'l', 'l_true', 'logg', 'lognh', 'lum_val', 'mact', 'magnesium', 'mini', 'mtip', 'neon', 'nitrogen', 'oxygen', 'parallax', 'parallax_error', 'parallax_over_error', 'parallax_true', 'parentid', 'partid', 'phot_bp_mean_mag', 'phot_bp_mean_mag_error', 'phot_bp_mean_mag_int', 'phot_bp_mean_mag_true', 'phot_g_mean_mag', 'phot_g_mean_mag_error', 'phot_g_mean_mag_int', 'phot_g_mean_mag_true', 'phot_rp_mean_mag', 'phot_rp_mean_mag_error', 'phot_rp_mean_mag_int', 'phot_rp_mean_mag_true', 'pmb_true', 'pmdec', 'pmdec_error', 'pmdec_true', 'pml_true', 'pmra', 'pmra_error', 'pmra_true', 'px_true', 'py_true', 'pz_true', 'ra', 'ra_error', 'ra_true', 'radial_velocity', 'radial_velocity_error', 'radial_velocity_true', 'random_index', 'silicon', 'source_id', 'sulphur', 'teff_val', 'vx_true', 'vy_true', 'vz_true']>\n"
     ]
    }
   ],
   "source": [
    "with h5py.File(path, 'r') as f:\n",
    "    print(f.keys())\n",
    "    l = f['l'][:]"
   ]
  },
  {
   "cell_type": "code",
   "execution_count": 6,
   "id": "393bbd7f",
   "metadata": {},
   "outputs": [
    {
     "data": {
      "text/plain": [
       "(392096021,)"
      ]
     },
     "execution_count": 6,
     "metadata": {},
     "output_type": "execute_result"
    }
   ],
   "source": [
    "np.shape(l)"
   ]
  },
  {
   "cell_type": "code",
   "execution_count": null,
   "id": "fd6147c4",
   "metadata": {},
   "outputs": [],
   "source": [
    "358924610"
   ]
  }
 ],
 "metadata": {
  "kernelspec": {
   "display_name": "Python 3 (ipykernel)",
   "language": "python",
   "name": "python3"
  },
  "language_info": {
   "codemirror_mode": {
    "name": "ipython",
    "version": 3
   },
   "file_extension": ".py",
   "mimetype": "text/x-python",
   "name": "python",
   "nbconvert_exporter": "python",
   "pygments_lexer": "ipython3",
   "version": "3.8.13"
  }
 },
 "nbformat": 4,
 "nbformat_minor": 5
}
