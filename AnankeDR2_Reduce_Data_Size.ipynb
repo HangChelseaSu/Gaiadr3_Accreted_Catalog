{
 "cells": [
  {
   "cell_type": "code",
   "execution_count": 1,
   "id": "7233904a",
   "metadata": {},
   "outputs": [],
   "source": [
    "import h5py\n",
    "import numpy as np\n",
    "import gizmo_analysis as gizmo\n",
    "import utilities as ut"
   ]
  },
  {
   "cell_type": "code",
   "execution_count": 8,
   "id": "c81b8cd1",
   "metadata": {},
   "outputs": [
    {
     "name": "stdout",
     "output_type": "stream",
     "text": [
      "\n",
      "# in utilities.simulation.Snapshot():\n",
      "* reading:  scratch/projects/xsede/GalaxiesOnFIRE/metal_diffusion/m12i_r7100/snapshot_times.txt\n",
      "\n",
      "* input redshift = 0:  using snapshot index = 600, redshift = 0.000\n",
      "\n",
      "\n",
      "# in gizmo_analysis.gizmo_io.Read():\n",
      "* reading header from:  scratch/projects/xsede/GalaxiesOnFIRE/metal_diffusion/m12i_r7100/output/snapdir_600/snapshot_600.0.hdf5\n",
      "  snapshot contains the following number of particles:\n",
      "    dark      (id = 1): 70514272 particles\n",
      "    dark2     (id = 2): 5513331 particles\n",
      "    gas       (id = 0): 57060074 particles\n",
      "    star      (id = 4): 13976485 particles\n",
      "    blackhole (id = 5): 0 particles\n",
      "\n",
      "* reading the following\n",
      "  species: ['dark', 'dark2', 'gas', 'star']\n",
      "\n",
      "* reading particles from:\n",
      "    snapshot_600.0.hdf5\n",
      "    snapshot_600.1.hdf5\n",
      "    snapshot_600.2.hdf5\n",
      "    snapshot_600.3.hdf5\n",
      "\n",
      "* reading cosmological parameters from:  scratch/projects/xsede/GalaxiesOnFIRE/metal_diffusion/m12i_r7100/initial_condition/ic_agora_m12i.conf\n",
      "\n",
      "* checking sanity of particle properties\n",
      "\n",
      "\n",
      "# in gizmo_analysis.gizmo_track.ParticleCoordinate():\n",
      "  read 1 host (position, velocity, principal axes) from:  scratch/projects/xsede/GalaxiesOnFIRE/metal_diffusion/m12i_r7100/track/host_coordinates.hdf5\n",
      "  host1 position = (41792.15, 44131.23, 46267.68) [kpc comoving]\n",
      "  host1 velocity = (-52.2, 73.6, 94.7) [km / s]\n",
      "  host1 axis ratios = (0.16, 0.16, 0.99)\n",
      "\n"
     ]
    }
   ],
   "source": [
    "path = '/scratch/05328/tg846280/FIRE_Public_Simulations/test/ananke_dr3/m12f/lsr-0/lsr-0-rslice-0.m12f-res7100-md-sliced-gcat-dr3.hdf5'\n",
    "path_out = '/work2/08949/tg882489/stampede2/data/Ananke/AnankeDR3_data_reduced_m12f_lsr0.hdf5'\n",
    "simulation_directory = '/scratch/projects/xsede/GalaxiesOnFIRE/metal_diffusion/m12i_r7100'\n",
    "part = gizmo.io.Read.read_snapshots('all', 'redshift', 0, simulation_directory)"
   ]
  },
  {
   "cell_type": "code",
   "execution_count": 12,
   "id": "8ecb7407",
   "metadata": {},
   "outputs": [],
   "source": [
    "path = '/scratch/05328/tg846280/FIRE_Public_Simulations/ananke/m12f/lsr-0/lsr-0-rslice-0.m12f-res7100-md-sliced-gcat-dr2.hdf5'\n",
    "path_out = '/work2/08949/tg882489/stampede2/data/Ananke/AnankeDR2_data_reduced_m12f_poe20.hdf5'\n",
    "with h5py.File(path, 'r') as f:\n",
    "    poe = f['parallax_over_error'][:]\n",
    "    \n",
    "mask = (poe>20)"
   ]
  },
  {
   "cell_type": "code",
   "execution_count": 13,
   "id": "4cb1fe57",
   "metadata": {},
   "outputs": [],
   "source": [
    "keys = ['b', 'b_true','dec', 'dec_error', 'dec_true','feh','l', 'l_true','parallax', \n",
    "        'parallax_error', 'parallax_true','pmb_true', 'pmdec', \n",
    "        'pmdec_error', 'pmdec_true', 'pml_true', 'pmra', 'pmra_error', 'pmra_true', \n",
    "        'px_true', 'py_true', 'pz_true', 'ra', 'ra_error', 'ra_true', 'radial_velocity', \n",
    "        'radial_velocity_error', 'radial_velocity_true','parentid','vx_true', 'vy_true', 'vz_true']"
   ]
  },
  {
   "cell_type": "code",
   "execution_count": null,
   "id": "088bfa2b",
   "metadata": {},
   "outputs": [],
   "source": [
    "data = []\n",
    "files = # list of files to read\n",
    "for i in range(10):\n",
    "    data.append(read_data_from_file(files[i]))\n",
    "data = np.concatenate(data)"
   ]
  },
  {
   "cell_type": "code",
   "execution_count": 14,
   "id": "e91d8776",
   "metadata": {},
   "outputs": [
    {
     "name": "stdout",
     "output_type": "stream",
     "text": [
      "b\n",
      "b_true\n",
      "dec\n",
      "dec_error\n",
      "dec_true\n",
      "feh\n",
      "l\n",
      "l_true\n",
      "parallax\n",
      "parallax_error\n",
      "parallax_true\n",
      "pmb_true\n",
      "pmdec\n",
      "pmdec_error\n",
      "pmdec_true\n",
      "pml_true\n",
      "pmra\n",
      "pmra_error\n",
      "pmra_true\n",
      "px_true\n",
      "py_true\n",
      "pz_true\n",
      "ra\n",
      "ra_error\n",
      "ra_true\n",
      "radial_velocity\n",
      "radial_velocity_error\n",
      "radial_velocity_true\n",
      "parentid\n",
      "vx_true\n",
      "vy_true\n",
      "vz_true\n"
     ]
    }
   ],
   "source": [
    "with h5py.File(path_out, 'w') as f_out: \n",
    "    with h5py.File(path, 'r') as f:\n",
    "        for k in keys:\n",
    "            print(k)\n",
    "            x = f[k][:][mask]\n",
    "            f_out.create_dataset(k, data=x)"
   ]
  },
  {
   "cell_type": "code",
   "execution_count": 15,
   "id": "8db131fc",
   "metadata": {},
   "outputs": [
    {
     "name": "stdout",
     "output_type": "stream",
     "text": [
      "<KeysViewHDF5 ['b', 'b_true', 'dec', 'dec_error', 'dec_true', 'feh', 'l', 'l_true', 'parallax', 'parallax_error', 'parallax_true', 'parentid', 'pmb_true', 'pmdec', 'pmdec_error', 'pmdec_true', 'pml_true', 'pmra', 'pmra_error', 'pmra_true', 'px_true', 'py_true', 'pz_true', 'ra', 'ra_error', 'ra_true', 'radial_velocity', 'radial_velocity_error', 'radial_velocity_true', 'vx_true', 'vy_true', 'vz_true']>\n"
     ]
    }
   ],
   "source": [
    "with h5py.File(path_out, 'r') as f:\n",
    "    print(f.keys())"
   ]
  },
  {
   "cell_type": "code",
   "execution_count": null,
   "id": "cb8ecf46",
   "metadata": {},
   "outputs": [],
   "source": []
  }
 ],
 "metadata": {
  "kernelspec": {
   "display_name": "Python 3 (ipykernel)",
   "language": "python",
   "name": "python3"
  },
  "language_info": {
   "codemirror_mode": {
    "name": "ipython",
    "version": 3
   },
   "file_extension": ".py",
   "mimetype": "text/x-python",
   "name": "python",
   "nbconvert_exporter": "python",
   "pygments_lexer": "ipython3",
   "version": "3.9.13"
  }
 },
 "nbformat": 4,
 "nbformat_minor": 5
}
