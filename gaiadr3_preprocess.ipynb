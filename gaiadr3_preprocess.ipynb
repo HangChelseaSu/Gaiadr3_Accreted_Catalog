{
 "cells": [
  {
   "cell_type": "code",
   "execution_count": 1,
   "metadata": {},
   "outputs": [],
   "source": [
    "import h5py\n",
    "import numpy as np\n",
    "import pandas as pd\n",
    "import matplotlib.pyplot as plt\n",
    "import matplotlib as mpl\n",
    "import astropy.units as u\n",
    "import astropy.coordinates as coord"
   ]
  },
  {
   "cell_type": "code",
   "execution_count": 2,
   "metadata": {},
   "outputs": [],
   "source": [
    "file0 = '/ocean/projects/phy210068p/hsu1/Ananke_datasets_training/Gaiadr3_data/3m-result.csv'\n",
    "file1 = '/ocean/projects/phy210068p/hsu1/Ananke_datasets_training/Gaiadr3_data/6m-result.csv'\n",
    "file2 = '/ocean/projects/phy210068p/hsu1/Ananke_datasets_training/Gaiadr3_data/9m-result.csv'\n",
    "file3 = '/ocean/projects/phy210068p/hsu1/Ananke_datasets_training/Gaiadr3_data/12m-result.csv'\n",
    "file4 = '/ocean/projects/phy210068p/hsu1/Ananke_datasets_training/Gaiadr3_data/15m-result.csv'\n",
    "file5 = '/ocean/projects/phy210068p/hsu1/Ananke_datasets_training/Gaiadr3_data/18m-result.csv'\n",
    "file6 = '/ocean/projects/phy210068p/hsu1/Ananke_datasets_training/Gaiadr3_data/21m-result.csv'\n",
    "file7 = '/ocean/projects/phy210068p/hsu1/Ananke_datasets_training/Gaiadr3_data/24m-result.csv'\n",
    "file8 = '/ocean/projects/phy210068p/hsu1/Ananke_datasets_training/Gaiadr3_data/27m-result.csv'\n",
    "file9 = '/ocean/projects/phy210068p/hsu1/Ananke_datasets_training/Gaiadr3_data/30m-result.csv'\n",
    "file10 = '/ocean/projects/phy210068p/hsu1/Ananke_datasets_training/Gaiadr3_data/33m-result.csv'\n",
    "file11 = '/ocean/projects/phy210068p/hsu1/Ananke_datasets_training/Gaiadr3_data/36m-result.csv'\n",
    "file12 = '/ocean/projects/phy210068p/hsu1/Ananke_datasets_training/Gaiadr3_data/39m-result.csv'\n",
    "file13 = '/ocean/projects/phy210068p/hsu1/Ananke_datasets_training/Gaiadr3_data/42m-result.csv'\n",
    "file14 = '/ocean/projects/phy210068p/hsu1/Ananke_datasets_training/Gaiadr3_data/45m-result.csv'\n",
    "file15 = '/ocean/projects/phy210068p/hsu1/Ananke_datasets_training/Gaiadr3_data/48m-result.csv'\n",
    "file16 = '/ocean/projects/phy210068p/hsu1/Ananke_datasets_training/Gaiadr3_data/51m-result.csv'\n",
    "file17 = '/ocean/projects/phy210068p/hsu1/Ananke_datasets_training/Gaiadr3_data/54m-result.csv'\n",
    "file18 = '/ocean/projects/phy210068p/hsu1/Ananke_datasets_training/Gaiadr3_data/57m-result.csv'\n",
    "file19 = '/ocean/projects/phy210068p/hsu1/Ananke_datasets_training/Gaiadr3_data/60m-result.csv'\n",
    "file20 = '/ocean/projects/phy210068p/hsu1/Ananke_datasets_training/Gaiadr3_data/63m-result.csv'\n",
    "file21 = '/ocean/projects/phy210068p/hsu1/Ananke_datasets_training/Gaiadr3_data/66m-result.csv'\n",
    "file22 = '/ocean/projects/phy210068p/hsu1/Ananke_datasets_training/Gaiadr3_data/69m-result.csv'\n",
    "file23 = '/ocean/projects/phy210068p/hsu1/Ananke_datasets_training/Gaiadr3_data/72m-result.csv'\n",
    "file24 = '/ocean/projects/phy210068p/hsu1/Ananke_datasets_training/Gaiadr3_data/75m-result.csv'\n",
    "file25 = '/ocean/projects/phy210068p/hsu1/Ananke_datasets_training/Gaiadr3_data/78m-result.csv'\n",
    "file26 = '/ocean/projects/phy210068p/hsu1/Ananke_datasets_training/Gaiadr3_data/81m-result.csv'\n",
    "file27 = '/ocean/projects/phy210068p/hsu1/Ananke_datasets_training/Gaiadr3_data/84m-result.csv'\n",
    "file28 = '/ocean/projects/phy210068p/hsu1/Ananke_datasets_training/Gaiadr3_data/87m-result.csv'\n",
    "file29 = '/ocean/projects/phy210068p/hsu1/Ananke_datasets_training/Gaiadr3_data/90m-result.csv'\n",
    "file30 = '/ocean/projects/phy210068p/hsu1/Ananke_datasets_training/Gaiadr3_data/93m-result.csv'\n",
    "file31 = '/ocean/projects/phy210068p/hsu1/Ananke_datasets_training/Gaiadr3_data/96m-result.csv'\n",
    "file32 = '/ocean/projects/phy210068p/hsu1/Ananke_datasets_training/Gaiadr3_data/99m-result.csv'\n",
    "\n",
    "files = [file0, file1, file2, file3, file4, file5, file6, file7, file8, file9, file10, file11,file12, file13, file14, file15, file16, file17, file18, file19, file20, file21, file22, file23, file24, file25, file26, file27, file28, file29, file30, file31, file32]\n",
    "path_out = '/ocean/projects/phy210068p/hsu1/Ananke_datasets_training/GaiaDR3_data_reduced.hdf5'\n"
   ]
  },
  {
   "cell_type": "code",
   "execution_count": 3,
   "metadata": {},
   "outputs": [],
   "source": [
    "keys = ['b', 'dec' ,'l', 'parallax', 'pmdec', \n",
    "         'pmra', 'ra', 'radial_velocity', \n",
    "        'radial_velocity_error']\n",
    "\n",
    "# keys = ['parallax_over_error']\n",
    "\n"
   ]
  },
  {
   "cell_type": "code",
   "execution_count": 4,
   "metadata": {},
   "outputs": [],
   "source": [
    "data = []\n",
    "for i in range(len(files)):\n",
    "    df = pd.read_csv(files[i], usecols=['parallax_over_error'])\n",
    "    data = np.append(data, df['parallax_over_error'][:])\n",
    "with h5py.File(path_out, 'a') as f_out: \n",
    "    f_out.create_dataset('parallax_over_error', data=data)"
   ]
  },
  {
   "cell_type": "code",
   "execution_count": 5,
   "metadata": {},
   "outputs": [
    {
     "name": "stdout",
     "output_type": "stream",
     "text": [
      "b\n",
      "dec\n",
      "l\n",
      "parallax\n",
      "pmdec\n",
      "pmra\n",
      "ra\n",
      "radial_velocity\n",
      "radial_velocity_error\n"
     ]
    }
   ],
   "source": [
    "for j in keys:\n",
    "    data = []\n",
    "    for i in range(len(files)):\n",
    "        df = pd.read_csv(files[i])\n",
    "        data = np.append(data, df[j][:])\n",
    "    with h5py.File(path_out, 'a') as f_out: \n",
    "        f_out.create_dataset(j, data=data)\n",
    "    print(j)"
   ]
  },
  {
   "cell_type": "code",
   "execution_count": 5,
   "metadata": {},
   "outputs": [
    {
     "name": "stdout",
     "output_type": "stream",
     "text": [
      "source_id\n",
      "b\n",
      "dec\n",
      "l\n",
      "parallax\n",
      "pmdec\n",
      "pmra\n",
      "ra\n",
      "radial_velocity\n",
      "radial_velocity_error\n"
     ]
    }
   ],
   "source": [
    "# for j in keys:\n",
    "#     for i in range(len(files)):\n",
    "#         df = pd.read_csv(files[i])\n",
    "#         # poe = df['parallax_over_error'][:]\n",
    "#         # mask = (poe>10)\n",
    "#         # df_out = pd.Series(df[j][:][mask])\n",
    "#         df.to_hdf(path_out, key=j, mode='a', append=True)\n",
    "#     print(j)"
   ]
  },
  {
   "cell_type": "code",
   "execution_count": null,
   "metadata": {},
   "outputs": [],
   "source": [
    "csv0 = pd.read_csv(file0)\n",
    "source_id0 = csv0['source_id'][:]\n",
    "length0 = len(source_id0)\n",
    "csv1 = pd.read_csv(file1)\n",
    "source_id1 = csv1['source_id'][:]\n",
    "length1 = len(source_id1)\n",
    "csv2 = pd.read_csv(file2)\n",
    "source_id2 = csv2['source_id'][:]\n",
    "length2 = len(source_id2)\n",
    "csv3 = pd.read_csv(file3)\n",
    "source_id3 = csv3['source_id'][:]\n",
    "length3 = len(source_id3)\n",
    "csv_length = length0+length1+length2+length3\n",
    "csv_source_id = np.concatenate((source_id0, source_id1, source_id2, source_id3), axis=0)"
   ]
  },
  {
   "cell_type": "code",
   "execution_count": null,
   "metadata": {},
   "outputs": [],
   "source": [
    "csv3.head()"
   ]
  },
  {
   "cell_type": "code",
   "execution_count": null,
   "metadata": {},
   "outputs": [],
   "source": [
    "csv0.head()"
   ]
  },
  {
   "cell_type": "code",
   "execution_count": null,
   "metadata": {},
   "outputs": [],
   "source": [
    "with h5py.File(path_out, 'r') as f:\n",
    "    print(f.keys())\n",
    "    # source_id = f['source_id'][:]\n",
    "    ra = f['ra'][:]"
   ]
  },
  {
   "cell_type": "code",
   "execution_count": null,
   "metadata": {},
   "outputs": [],
   "source": [
    "ra.shape\n"
   ]
  },
  {
   "cell_type": "code",
   "execution_count": null,
   "metadata": {},
   "outputs": [],
   "source": [
    "csv_length, len(source_id), "
   ]
  },
  {
   "cell_type": "code",
   "execution_count": null,
   "metadata": {},
   "outputs": [],
   "source": [
    "np.sum(~np.isin(source_id, csv_source_id))"
   ]
  },
  {
   "cell_type": "code",
   "execution_count": null,
   "metadata": {},
   "outputs": [],
   "source": [
    "path = '/ocean/projects/phy210068p/hsu1/Ananke_datasets_training/GaiaDR3_data_reduced_before_BPRP.hdf5'\n",
    "with h5py.File(path, 'r') as f:\n",
    "    print(f.keys())\n",
    "    # ra = f['ra'][:]\n",
    "    # dec = f['dec'][:]\n",
    "    # parallax = f['parallax'][:]\n",
    "    # pmra = f['pmra'][:]\n",
    "    # pmdec = f['pmdec'][:]\n",
    "    # rv = f['radial_velocity'][:]\n",
    "    # main_source_id = f['source_id'][:]"
   ]
  },
  {
   "cell_type": "code",
   "execution_count": null,
   "metadata": {},
   "outputs": [],
   "source": []
  }
 ],
 "metadata": {
  "kernelspec": {
   "display_name": "Python 3",
   "language": "python",
   "name": "python3"
  },
  "language_info": {
   "codemirror_mode": {
    "name": "ipython",
    "version": 3
   },
   "file_extension": ".py",
   "mimetype": "text/x-python",
   "name": "python",
   "nbconvert_exporter": "python",
   "pygments_lexer": "ipython3",
   "version": "3.8.13"
  },
  "orig_nbformat": 4
 },
 "nbformat": 4,
 "nbformat_minor": 2
}
