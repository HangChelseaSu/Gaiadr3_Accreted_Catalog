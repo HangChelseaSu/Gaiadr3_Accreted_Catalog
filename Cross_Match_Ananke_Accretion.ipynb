{
 "cells": [
  {
   "cell_type": "code",
   "execution_count": 1,
   "id": "11d10790",
   "metadata": {},
   "outputs": [],
   "source": [
    "import h5py\n",
    "import numpy as np\n",
    "import matplotlib as mpl\n",
    "import matplotlib.pyplot as plt\n",
    "import pandas as pd\n",
    "import astropy.units as u\n",
    "import astropy.coordinates as coord\n",
    "\n",
    "mpl.rcParams['axes.labelsize']=35\n",
    "%matplotlib inline\n",
    "\n",
    "plt.style.use('seaborn-colorblind')"
   ]
  },
  {
   "cell_type": "code",
   "execution_count": 2,
   "id": "9836af20",
   "metadata": {},
   "outputs": [],
   "source": [
    "catalog_id = pd.read_csv('/ocean/projects/phy210068p/hsu1/Ananke_datasets_training/stars_accretion_history_m12f_res7100_v2.csv',\n",
    "                     usecols = ['id_stars'])"
   ]
  },
  {
   "cell_type": "code",
   "execution_count": 10,
   "id": "10ee01b9",
   "metadata": {},
   "outputs": [],
   "source": [
    "path = '/ocean/projects/phy210068p/hsu1/Ananke_datasets_training/AnankeDR3_data_reduced_m12f_lsr012.hdf5'\n",
    "with h5py.File(path, 'a') as f:\n",
    "    del f['is_accreted']"
   ]
  },
  {
   "cell_type": "code",
   "execution_count": 4,
   "id": "0a1e13ab",
   "metadata": {},
   "outputs": [
    {
     "name": "stdout",
     "output_type": "stream",
     "text": [
      "['b', 'dec', 'feh', 'l', 'parallax', 'parentid', 'pmdec', 'pmra', 'ra', 'radial_velocity', 'radial_velocity_error']\n"
     ]
    }
   ],
   "source": [
    "with h5py.File(path, 'r') as f:\n",
    "    print(list(f.keys()))\n",
    "    ananke_id = f['parentid'][:]"
   ]
  },
  {
   "cell_type": "code",
   "execution_count": 5,
   "id": "d6165f8a",
   "metadata": {},
   "outputs": [],
   "source": [
    "accretion_id = np.isin(ananke_id, catalog_id)"
   ]
  },
  {
   "cell_type": "code",
   "execution_count": 6,
   "id": "dd345d66",
   "metadata": {},
   "outputs": [],
   "source": [
    "accretion = np.int32(accretion_id)"
   ]
  },
  {
   "cell_type": "code",
   "execution_count": 7,
   "id": "850249fd",
   "metadata": {},
   "outputs": [],
   "source": [
    "is_accreted = accretion"
   ]
  },
  {
   "cell_type": "code",
   "execution_count": 9,
   "id": "ffd6e52a",
   "metadata": {},
   "outputs": [],
   "source": [
    "with h5py.File(path, 'a') as f:\n",
    "#     del f['is_accreted']\n",
    "    f.create_dataset('is_accreted', data=accretion)"
   ]
  },
  {
   "cell_type": "code",
   "execution_count": null,
   "id": "c30bba20",
   "metadata": {},
   "outputs": [],
   "source": [
    "#ZM cut labels\n",
    "path = '/ocean/projects/phy210068p/hsu1/Ananke_datasets_training/AnankeDR3_data_reduced_m12f_lsr1.hdf5'\n",
    "with h5py.File(path, 'r') as f:\n",
    "    rv = f['radial_velocity'][:]\n",
    "    ra = f['ra'][:]\n",
    "    dec = f['dec'][:]\n",
    "    pmra = f['pmra'][:]\n",
    "    pmdec = f['pmdec'][:]\n",
    "    parallax = f['parallax'][:]\n",
    "    feh = f['feh'][:]\n",
    "    source_id = f['parentid'][:]"
   ]
  },
  {
   "cell_type": "code",
   "execution_count": null,
   "id": "eb0ded6f",
   "metadata": {},
   "outputs": [],
   "source": [
    "keep_source_id = source_id\n",
    "empt = np.zeros(len(keep_source_id))\n",
    "\n",
    "ra = ra * u.deg\n",
    "dec = dec * u.deg\n",
    "pmra = pmra * u.mas / u.yr\n",
    "pmdec = pmdec * u.mas / u.yr\n",
    "parallax = parallax * u.mas\n",
    "rv = rv * u.km / u.s\n",
    "\n",
    "dist = coord.Distance(parallax=parallax, allow_negative=True)\n",
    "\n",
    "# Coord transformation\n",
    "icrs = coord.ICRS(\n",
    "    ra=ra, dec=dec, distance=dist, pm_ra_cosdec=pmra, pm_dec=pmdec, radial_velocity=rv)\n",
    "gal = icrs.transform_to(coord.Galactocentric())\n",
    "x_gal = gal.x.to_value(u.kpc)\n",
    "y_gal = gal.y.to_value(u.kpc)\n",
    "z_gal = gal.z.to_value(u.kpc)\n",
    "vx_gal = gal.v_x.to_value(u.km/u.s)\n",
    "vy_gal = gal.v_y.to_value(u.km/u.s)\n",
    "vz_gal = gal.v_z.to_value(u.km/u.s)  \n",
    "\n",
    "z_mask = (np.absolute(z_gal) > 1.5)\n",
    "source_id = source_id[z_mask]\n",
    "vx = vx_gal[z_mask]\n",
    "vy = vy_gal[z_mask]\n",
    "vz = vz_gal[z_mask]\n",
    "feh = feh[z_mask]\n",
    "\n",
    "feh_mask = (feh < -1.5)\n",
    "source_id = source_id[feh_mask]\n",
    "vx = vx[feh_mask]\n",
    "vy = vy[feh_mask]\n",
    "vz = vz[feh_mask]\n",
    "feh = feh[feh_mask]\n",
    "\n",
    "accretion_id = np.isin(keep_source_id, source_id)\n",
    "accretion = np.int32(accretion_id)\n",
    "is_accreted = accretion\n",
    "\n",
    "with h5py.File(path, 'a') as f:\n",
    "    # del f['is_accreted']\n",
    "    f.create_dataset('is_accreted', data=accretion)"
   ]
  },
  {
   "cell_type": "code",
   "execution_count": null,
   "id": "941e0a0c",
   "metadata": {},
   "outputs": [],
   "source": []
  },
  {
   "cell_type": "code",
   "execution_count": null,
   "id": "ac575c08",
   "metadata": {},
   "outputs": [],
   "source": [
    "# with h5py.File(path, 'r') as f:\n",
    "#     is_accreted = f['is_accreted'][:]"
   ]
  },
  {
   "cell_type": "code",
   "execution_count": null,
   "id": "f21a2d08",
   "metadata": {},
   "outputs": [],
   "source": [
    "mask0 = (is_accreted==0)\n",
    "mask1 = (is_accreted==1)"
   ]
  },
  {
   "cell_type": "code",
   "execution_count": null,
   "id": "4dbf9516",
   "metadata": {},
   "outputs": [],
   "source": [
    "with h5py.File(path, 'r') as f:\n",
    "    vx = f['vx_true'][:]\n",
    "    vy = f['vy_true'][:]\n",
    "    vz = f['vz_true'][:]\n",
    "\n",
    "vx0 = vx[mask0]\n",
    "vy0 = vy[mask0]\n",
    "vz0 = vz[mask0]\n",
    "vr0 = np.sqrt(vx0**2+vz0**2)\n",
    "\n",
    "vx1 = vx[mask1]\n",
    "vy1 = vy[mask1]\n",
    "vz1 = vz[mask1]\n",
    "vr1 = np.sqrt(vx1**2+vz1**2)"
   ]
  },
  {
   "cell_type": "code",
   "execution_count": null,
   "id": "a962f3a7",
   "metadata": {},
   "outputs": [],
   "source": [
    "fig, ax = plt.subplots(1, figsize=(13, 10))\n",
    "\n",
    "h = ax.hist2d(vy0, vr0, bins=100, weights=np.repeat(1/len(vx0), len(vx0)), norm=mpl.colors.LogNorm())\n",
    "ax.set_xlabel(r'$V_y [km s^{-1}]$', fontsize=35)\n",
    "ax.set_ylabel(r'$\\sqrt{V_x^2+V_z^2} [km s^{-1}]$', fontsize=35)\n",
    "ax.set_title('Toomre Diagram of In Situ Stars', fontsize=40)\n",
    "cb = fig.colorbar(h[3], ax=ax, label=r'Normalized Counts (km/s)$^{-2}$') \n",
    "cb.ax.tick_params(labelsize=35)\n",
    "ax.tick_params(axis='both', labelsize=35)"
   ]
  },
  {
   "cell_type": "code",
   "execution_count": null,
   "id": "a9d83873",
   "metadata": {},
   "outputs": [],
   "source": [
    "fig, ax = plt.subplots(1, figsize=(13, 10))\n",
    "\n",
    "h = ax.hist2d(vy1, vr1, bins=100, weights=np.repeat(1/len(vx1), len(vx1)), norm=mpl.colors.LogNorm())\n",
    "ax.set_xlabel(r'$V_y [km s^{-1}]$', fontsize=35)\n",
    "ax.set_ylabel(r'$\\sqrt{V_x^2+V_z^2} [km s^{-1}]$', fontsize=35)\n",
    "ax.set_title('Toomre Diagram of Accreted Stars', fontsize=40)\n",
    "cb = fig.colorbar(h[3], ax=ax, label=r'Normalized Counts (km/s)$^{-2}$') \n",
    "cb.ax.tick_params(labelsize=35)\n",
    "ax.tick_params(axis='both', labelsize=35)"
   ]
  },
  {
   "cell_type": "code",
   "execution_count": null,
   "id": "65c3a518",
   "metadata": {},
   "outputs": [],
   "source": [
    "# fig, ax = plt.subplots(1, figsize=(13, 10))\n",
    "\n",
    "# h = ax.hist2d(vy1, vr1, bins=100, weights=np.repeat(1/len(vx1), len(vx1)), norm=mpl.colors.LogNorm())\n",
    "# ax.set_xlabel(r'$V_y [km s^{-1}]$', fontsize=20)\n",
    "# ax.set_ylabel(r'$\\sqrt{V_x^2+V_z^2} [km s^{-1}]$', fontsize=20)\n",
    "# ax.set_title('Toomre Diagram of Accreted Stars', fontsize=30)\n",
    "# cb = fig.colorbar(h[3], ax=ax, label=r'Normalized Counts (km/s)$^{-2}$')\n",
    "\n",
    "# cb.ax.tick_params(labelsize=20)"
   ]
  },
  {
   "cell_type": "code",
   "execution_count": null,
   "id": "c66ba3fb",
   "metadata": {},
   "outputs": [],
   "source": [
    "# fig, ax = plt.subplots(1, figsize=(10, 10))\n",
    "\n",
    "# ax.hist2d(vy1, vr1, bins=100, weights=np.repeat(1/len(vx1), len(vx1)), norm=mpl.colors.LogNorm())\n",
    "# ax.set_xlabel(r'$V_y [km s^{-1}]$', fontsize=20)\n",
    "# ax.set_ylabel(r'$\\sqrt{V_x^2+V_z^2} [km s^{-1}]$', fontsize=20)\n",
    "# ax.set_title('Toomre Diagram of Accreted Stars')\n",
    "# ax.colorbar(label=r'counts (km/s)$^{-2}$', lan)\n",
    "# ax.show()"
   ]
  },
  {
   "cell_type": "code",
   "execution_count": null,
   "id": "555559f9",
   "metadata": {},
   "outputs": [],
   "source": [
    "with h5py.File(path, 'r') as f:\n",
    "    feh = f['feh'][:]\n",
    "    \n",
    "feh0 = feh[mask0]\n",
    "feh1 = feh[mask1]"
   ]
  },
  {
   "cell_type": "code",
   "execution_count": null,
   "id": "f24fc482",
   "metadata": {},
   "outputs": [],
   "source": [
    "fig, ax = plt.subplots(1, figsize=(10, 10))\n",
    "\n",
    "ax.hist(feh0, bins=100, density=True, label='In Situ')\n",
    "ax.hist(feh1, bins=100, density=True, label='Accreted')\n",
    "ax.set_title('Metallicity', fontsize=40)\n",
    "ax.set_xlabel('Fe/H', fontsize=35)\n",
    "ax.set_ylabel('Normalized Counts', fontsize=35)\n",
    "ax.tick_params(axis='both', labelsize=35)\n",
    "ax.legend(loc='upper left', fontsize=35)"
   ]
  },
  {
   "cell_type": "code",
   "execution_count": null,
   "id": "a37fff95",
   "metadata": {},
   "outputs": [],
   "source": []
  }
 ],
 "metadata": {
  "kernelspec": {
   "display_name": "Python 3",
   "language": "python",
   "name": "python3"
  },
  "vscode": {
   "interpreter": {
    "hash": "31f2aee4e71d21fbe5cf8b01ff0e069b9275f58929596ceb00d14d90e3e16cd6"
   }
  }
 },
 "nbformat": 4,
 "nbformat_minor": 5
}
