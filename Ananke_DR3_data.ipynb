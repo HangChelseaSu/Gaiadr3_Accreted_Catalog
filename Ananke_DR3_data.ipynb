{
 "cells": [
  {
   "cell_type": "code",
   "execution_count": 6,
   "id": "eee0cf9a",
   "metadata": {},
   "outputs": [],
   "source": [
    "import h5py\n",
    "import numpy as np"
   ]
  },
  {
   "cell_type": "code",
   "execution_count": 7,
   "id": "ae01b0f4",
   "metadata": {},
   "outputs": [],
   "source": [
    "path_out = '/work2/08949/tg882489/stampede2/data/Ananke/AnankeDR3_data_reduced_m12f_lsr012.hdf5'"
   ]
  },
  {
   "cell_type": "code",
   "execution_count": 8,
   "id": "b7dd966f",
   "metadata": {},
   "outputs": [],
   "source": [
    "# keys = ['b', 'b_true','dec', 'dec_error', 'dec_true','feh','l', 'l_true','parallax', \n",
    "#         'parallax_error', 'parallax_true','pmb_true', 'pmdec', \n",
    "#         'pmdec_error', 'pmdec_true', 'pml_true', 'pmra', 'pmra_error', 'pmra_true', \n",
    "#         'px_true', 'py_true', 'pz_true', 'ra', 'ra_error', 'ra_true', 'radial_velocity', \n",
    "#         'radial_velocity_error', 'radial_velocity_true','parentid','vx_true', 'vy_true', 'vz_true']"
   ]
  },
  {
   "cell_type": "code",
   "execution_count": 9,
   "id": "442a9038",
   "metadata": {},
   "outputs": [],
   "source": [
    "keys = ['b', 'dec' ,'feh','l', 'parallax', 'pmdec', \n",
    "         'pmra', 'ra', 'radial_velocity', \n",
    "        'radial_velocity_error', 'parentid']"
   ]
  },
  {
   "cell_type": "code",
   "execution_count": 10,
   "id": "c7c1f197",
   "metadata": {},
   "outputs": [],
   "source": [
    "path0 = '/scratch/05328/tg846280/FIRE_Public_Simulations/test/ananke_dr3/m12f/lsr-0/lsr-0-rslice-0.m12f-res7100-md-sliced-gcat-dr3.0.hdf5'\n",
    "path1 = '/scratch/05328/tg846280/FIRE_Public_Simulations/test/ananke_dr3/m12f/lsr-0/lsr-0-rslice-0.m12f-res7100-md-sliced-gcat-dr3.1.hdf5'\n",
    "path2 = '/scratch/05328/tg846280/FIRE_Public_Simulations/test/ananke_dr3/m12f/lsr-0/lsr-0-rslice-0.m12f-res7100-md-sliced-gcat-dr3.2.hdf5'\n",
    "path3 = '/scratch/05328/tg846280/FIRE_Public_Simulations/test/ananke_dr3/m12f/lsr-0/lsr-0-rslice-0.m12f-res7100-md-sliced-gcat-dr3.3.hdf5'\n",
    "path4 = '/scratch/05328/tg846280/FIRE_Public_Simulations/test/ananke_dr3/m12f/lsr-0/lsr-0-rslice-0.m12f-res7100-md-sliced-gcat-dr3.4.hdf5'\n",
    "path5 = '/scratch/05328/tg846280/FIRE_Public_Simulations/test/ananke_dr3/m12f/lsr-0/lsr-0-rslice-0.m12f-res7100-md-sliced-gcat-dr3.5.hdf5'\n",
    "path6 = '/scratch/05328/tg846280/FIRE_Public_Simulations/test/ananke_dr3/m12f/lsr-0/lsr-0-rslice-0.m12f-res7100-md-sliced-gcat-dr3.6.hdf5'\n",
    "path7 = '/scratch/05328/tg846280/FIRE_Public_Simulations/test/ananke_dr3/m12f/lsr-0/lsr-0-rslice-0.m12f-res7100-md-sliced-gcat-dr3.7.hdf5'\n",
    "path8 = '/scratch/05328/tg846280/FIRE_Public_Simulations/test/ananke_dr3/m12f/lsr-0/lsr-0-rslice-0.m12f-res7100-md-sliced-gcat-dr3.8.hdf5'\n",
    "path9 = '/scratch/05328/tg846280/FIRE_Public_Simulations/test/ananke_dr3/m12f/lsr-0/lsr-0-rslice-0.m12f-res7100-md-sliced-gcat-dr3.9.hdf5'"
   ]
  },
  {
   "cell_type": "code",
   "execution_count": 11,
   "id": "feab6b7a",
   "metadata": {},
   "outputs": [],
   "source": [
    "path01 = '/scratch/05328/tg846280/FIRE_Public_Simulations/test/ananke_dr3/m12f/lsr-1/lsr-1-rslice-0.m12f-res7100-md-sliced-gcat-dr3.0.hdf5'\n",
    "path11 = '/scratch/05328/tg846280/FIRE_Public_Simulations/test/ananke_dr3/m12f/lsr-1/lsr-1-rslice-0.m12f-res7100-md-sliced-gcat-dr3.1.hdf5'\n",
    "path21 = '/scratch/05328/tg846280/FIRE_Public_Simulations/test/ananke_dr3/m12f/lsr-1/lsr-1-rslice-0.m12f-res7100-md-sliced-gcat-dr3.2.hdf5'\n",
    "path31 = '/scratch/05328/tg846280/FIRE_Public_Simulations/test/ananke_dr3/m12f/lsr-1/lsr-1-rslice-0.m12f-res7100-md-sliced-gcat-dr3.3.hdf5'\n",
    "path41 = '/scratch/05328/tg846280/FIRE_Public_Simulations/test/ananke_dr3/m12f/lsr-1/lsr-1-rslice-0.m12f-res7100-md-sliced-gcat-dr3.4.hdf5'\n",
    "path51 = '/scratch/05328/tg846280/FIRE_Public_Simulations/test/ananke_dr3/m12f/lsr-1/lsr-1-rslice-0.m12f-res7100-md-sliced-gcat-dr3.5.hdf5'\n",
    "path61 = '/scratch/05328/tg846280/FIRE_Public_Simulations/test/ananke_dr3/m12f/lsr-1/lsr-1-rslice-0.m12f-res7100-md-sliced-gcat-dr3.6.hdf5'\n",
    "path71 = '/scratch/05328/tg846280/FIRE_Public_Simulations/test/ananke_dr3/m12f/lsr-1/lsr-1-rslice-0.m12f-res7100-md-sliced-gcat-dr3.7.hdf5'\n",
    "path81 = '/scratch/05328/tg846280/FIRE_Public_Simulations/test/ananke_dr3/m12f/lsr-1/lsr-1-rslice-0.m12f-res7100-md-sliced-gcat-dr3.8.hdf5'\n",
    "path91 = '/scratch/05328/tg846280/FIRE_Public_Simulations/test/ananke_dr3/m12f/lsr-1/lsr-1-rslice-0.m12f-res7100-md-sliced-gcat-dr3.9.hdf5'"
   ]
  },
  {
   "cell_type": "code",
   "execution_count": 12,
   "id": "e98dea2c",
   "metadata": {},
   "outputs": [],
   "source": [
    "path02 = '/scratch/05328/tg846280/FIRE_Public_Simulations/test/ananke_dr3/m12f/lsr-2/lsr-2-rslice-0.m12f-res7100-md-sliced-gcat-dr3.0.hdf5'\n",
    "path12 = '/scratch/05328/tg846280/FIRE_Public_Simulations/test/ananke_dr3/m12f/lsr-2/lsr-2-rslice-0.m12f-res7100-md-sliced-gcat-dr3.1.hdf5'\n",
    "path22 = '/scratch/05328/tg846280/FIRE_Public_Simulations/test/ananke_dr3/m12f/lsr-2/lsr-2-rslice-0.m12f-res7100-md-sliced-gcat-dr3.2.hdf5'\n",
    "path32 = '/scratch/05328/tg846280/FIRE_Public_Simulations/test/ananke_dr3/m12f/lsr-2/lsr-2-rslice-0.m12f-res7100-md-sliced-gcat-dr3.3.hdf5'\n",
    "path42 = '/scratch/05328/tg846280/FIRE_Public_Simulations/test/ananke_dr3/m12f/lsr-2/lsr-2-rslice-0.m12f-res7100-md-sliced-gcat-dr3.4.hdf5'\n",
    "path52 = '/scratch/05328/tg846280/FIRE_Public_Simulations/test/ananke_dr3/m12f/lsr-2/lsr-2-rslice-0.m12f-res7100-md-sliced-gcat-dr3.5.hdf5'\n",
    "path62 = '/scratch/05328/tg846280/FIRE_Public_Simulations/test/ananke_dr3/m12f/lsr-2/lsr-2-rslice-0.m12f-res7100-md-sliced-gcat-dr3.6.hdf5'\n",
    "path72 = '/scratch/05328/tg846280/FIRE_Public_Simulations/test/ananke_dr3/m12f/lsr-2/lsr-2-rslice-0.m12f-res7100-md-sliced-gcat-dr3.7.hdf5'\n",
    "path82 = '/scratch/05328/tg846280/FIRE_Public_Simulations/test/ananke_dr3/m12f/lsr-2/lsr-2-rslice-0.m12f-res7100-md-sliced-gcat-dr3.8.hdf5'\n",
    "path92 = '/scratch/05328/tg846280/FIRE_Public_Simulations/test/ananke_dr3/m12f/lsr-2/lsr-2-rslice-0.m12f-res7100-md-sliced-gcat-dr3.9.hdf5'"
   ]
  },
  {
   "cell_type": "code",
   "execution_count": 13,
   "id": "bb2de125",
   "metadata": {},
   "outputs": [
    {
     "name": "stdout",
     "output_type": "stream",
     "text": [
      "b\n",
      "dec\n",
      "feh\n",
      "l\n",
      "parallax\n",
      "pmdec\n",
      "pmra\n",
      "ra\n",
      "radial_velocity\n",
      "radial_velocity_error\n",
      "parentid\n"
     ]
    }
   ],
   "source": [
    "# files = [path0, path1, path2, path3, path4, path5, path6, path7, path8, path9]\n",
    "files = [path0, path1, path2, path3, path4, path5, path6, path7, path8, path9, path01, path11, path21, path31, path41, path51, path61, path71, path81, path91,\n",
    "         path02, path12, path22, path32, path42, path52, path62, path72, path82, path92]\n",
    "\n",
    "for j in keys:\n",
    "    data = []\n",
    "    for i in range(len(files)):\n",
    "        with h5py.File(files[i], 'r') as f:\n",
    "            poe = f['parallax_over_error'][:]\n",
    "        mask = (poe>10)\n",
    "        with h5py.File(files[i], 'r') as f:\n",
    "            data = np.append(data, f[j][:][mask])\n",
    "    with h5py.File(path_out, 'a') as f_out: \n",
    "        f_out.create_dataset(j, data=data)\n",
    "    print(j)"
   ]
  },
  {
   "cell_type": "code",
   "execution_count": 12,
   "id": "31e9e6e8",
   "metadata": {},
   "outputs": [
    {
     "name": "stdout",
     "output_type": "stream",
     "text": [
      "b\n",
      "dec\n",
      "feh\n",
      "l\n",
      "parallax\n",
      "pmdec\n",
      "pmra\n",
      "ra\n",
      "radial_velocity\n",
      "radial_velocity_error\n",
      "parentid\n"
     ]
    }
   ],
   "source": [
    "# files = [path0, path1, path2, path3, path4, path5, path6, path7, path8, path9, path01, path11, path21, path31, path41, path51, path61, path71, path81, path91,\n",
    "#          path02, path12, path22, path32, path42, path52, path62, path72, path82, path92]\n",
    "\n",
    "# for j in keys:\n",
    "#     data = []\n",
    "#     for i in range(len(files)):\n",
    "#         with h5py.File(files[i], 'r') as f:\n",
    "#             poe = f['parallax_over_error'][:]\n",
    "#         mask = (poe>10)\n",
    "#         with h5py.File(files[i], 'r') as f:\n",
    "#             data = np.append(data, f[j][:][mask])\n",
    "#     with h5py.File(path_out, 'a') as f_out: \n",
    "#         f_out.create_dataset(j, data=data)\n",
    "#     print(j)"
   ]
  },
  {
   "cell_type": "code",
   "execution_count": 13,
   "id": "ebe81b94",
   "metadata": {},
   "outputs": [
    {
     "name": "stdout",
     "output_type": "stream",
     "text": [
      "<KeysViewHDF5 ['b', 'dec', 'feh', 'l', 'parallax', 'parentid', 'pmdec', 'pmra', 'ra', 'radial_velocity', 'radial_velocity_error']>\n"
     ]
    }
   ],
   "source": [
    "with h5py.File(path_out, 'r') as f:\n",
    "    print(f.keys())\n",
    "    b = f['b'][:]"
   ]
  },
  {
   "cell_type": "code",
   "execution_count": 14,
   "id": "5cb5b567",
   "metadata": {},
   "outputs": [
    {
     "data": {
      "text/plain": [
       "227276537"
      ]
     },
     "execution_count": 14,
     "metadata": {},
     "output_type": "execute_result"
    }
   ],
   "source": [
    "len(b)"
   ]
  },
  {
   "cell_type": "code",
   "execution_count": 50,
   "id": "ee3066ce",
   "metadata": {},
   "outputs": [],
   "source": [
    "# with h5py.File(path, 'r') as f:\n",
    "#     poe = f['parallax_over_error'][:]\n",
    "    \n",
    "# mask = (poe>10)"
   ]
  },
  {
   "cell_type": "code",
   "execution_count": 51,
   "id": "a07622ba",
   "metadata": {},
   "outputs": [
    {
     "data": {
      "text/plain": [
       "(62216425, 62216425)"
      ]
     },
     "execution_count": 51,
     "metadata": {},
     "output_type": "execute_result"
    }
   ],
   "source": [
    "len(b), len(l)"
   ]
  },
  {
   "cell_type": "code",
   "execution_count": 78,
   "id": "d2a8d894",
   "metadata": {},
   "outputs": [],
   "source": [
    "# with h5py.File(path_out, 'a') as f_out: \n",
    "#     with h5py.File(path, 'r') as f:\n",
    "#         for k in keys:\n",
    "#             print(k)\n",
    "#             x = f[k][:][mask]\n",
    "#             f_out.create_dataset(k, data=x)"
   ]
  },
  {
   "cell_type": "code",
   "execution_count": 50,
   "id": "51bc2717",
   "metadata": {},
   "outputs": [
    {
     "name": "stdout",
     "output_type": "stream",
     "text": [
      "b\n",
      "b_true\n",
      "dec\n",
      "dec_error\n",
      "dec_true\n",
      "feh\n",
      "l\n",
      "l_true\n",
      "parallax\n",
      "parallax_error\n",
      "parallax_true\n",
      "pmb_true\n",
      "pmdec\n",
      "pmdec_error\n",
      "pmdec_true\n",
      "pml_true\n",
      "pmra\n",
      "pmra_error\n",
      "pmra_true\n",
      "px_true\n",
      "py_true\n",
      "pz_true\n",
      "ra\n",
      "ra_error\n",
      "ra_true\n",
      "radial_velocity\n",
      "radial_velocity_error\n",
      "radial_velocity_true\n",
      "parentid\n",
      "vx_true\n",
      "vy_true\n",
      "vz_true\n"
     ]
    }
   ],
   "source": [
    "with h5py.File(path, 'r') as f:\n",
    "    poe = f['parallax_over_error'][:]\n",
    "    \n",
    "mask = (poe>10)\n",
    "x = []\n",
    "with h5py.File(path_out, 'a') as f_out: \n",
    "    with h5py.File(path, 'r') as f:\n",
    "        for k in keys:\n",
    "            print(k)\n",
    "            x.append(f[k][:][mask])"
   ]
  },
  {
   "cell_type": "code",
   "execution_count": 51,
   "id": "a31270fa",
   "metadata": {},
   "outputs": [],
   "source": [
    "x = np.array(x)"
   ]
  },
  {
   "cell_type": "code",
   "execution_count": 52,
   "id": "ea109612",
   "metadata": {},
   "outputs": [
    {
     "data": {
      "text/plain": [
       "((32, 9395598), (32, 7927261))"
      ]
     },
     "execution_count": 52,
     "metadata": {},
     "output_type": "execute_result"
    }
   ],
   "source": [
    "np.shape(x), np.shape(a)"
   ]
  },
  {
   "cell_type": "code",
   "execution_count": 56,
   "id": "451af935",
   "metadata": {},
   "outputs": [
    {
     "data": {
      "text/plain": [
       "7927261"
      ]
     },
     "execution_count": 56,
     "metadata": {},
     "output_type": "execute_result"
    }
   ],
   "source": [
    "len(a[0,:])"
   ]
  },
  {
   "cell_type": "code",
   "execution_count": 57,
   "id": "4e330436",
   "metadata": {},
   "outputs": [
    {
     "data": {
      "text/plain": [
       "array([ 8.69800923, 19.32673369,  9.889949  , ...,  9.72624919,\n",
       "       15.78776883, 18.09051211])"
      ]
     },
     "execution_count": 57,
     "metadata": {},
     "output_type": "execute_result"
    }
   ],
   "source": [
    "x[0,:]"
   ]
  },
  {
   "cell_type": "code",
   "execution_count": 59,
   "id": "c92a59ba",
   "metadata": {},
   "outputs": [],
   "source": [
    "for i in range(len(keys)):\n",
    "    np.append(a[i,:], x[i,:])"
   ]
  },
  {
   "cell_type": "code",
   "execution_count": 62,
   "id": "16bb18ee",
   "metadata": {},
   "outputs": [
    {
     "data": {
      "text/plain": [
       "7927261"
      ]
     },
     "execution_count": 62,
     "metadata": {},
     "output_type": "execute_result"
    }
   ],
   "source": [
    "len(a[0,:])"
   ]
  },
  {
   "cell_type": "code",
   "execution_count": 30,
   "id": "ac72cbaa",
   "metadata": {},
   "outputs": [
    {
     "ename": "TypeError",
     "evalue": "only integer scalar arrays can be converted to a scalar index",
     "output_type": "error",
     "traceback": [
      "\u001b[0;31m---------------------------------------------------------------------------\u001b[0m",
      "\u001b[0;31mTypeError\u001b[0m                                 Traceback (most recent call last)",
      "\u001b[0;32m/tmp/ipykernel_305555/1300079704.py\u001b[0m in \u001b[0;36m<module>\u001b[0;34m\u001b[0m\n\u001b[1;32m      1\u001b[0m \u001b[0ms\u001b[0m \u001b[0;34m=\u001b[0m \u001b[0mnp\u001b[0m\u001b[0;34m.\u001b[0m\u001b[0marray\u001b[0m\u001b[0;34m(\u001b[0m\u001b[0;34m[\u001b[0m\u001b[0;36m0\u001b[0m\u001b[0;34m,\u001b[0m \u001b[0;36m1\u001b[0m \u001b[0;34m,\u001b[0m \u001b[0;36m2\u001b[0m\u001b[0;34m,\u001b[0m \u001b[0;36m3\u001b[0m\u001b[0;34m]\u001b[0m\u001b[0;34m)\u001b[0m\u001b[0;34m\u001b[0m\u001b[0;34m\u001b[0m\u001b[0m\n\u001b[1;32m      2\u001b[0m \u001b[0mz\u001b[0m \u001b[0;34m=\u001b[0m \u001b[0mnp\u001b[0m\u001b[0;34m.\u001b[0m\u001b[0marray\u001b[0m\u001b[0;34m(\u001b[0m\u001b[0;34m[\u001b[0m\u001b[0;36m4\u001b[0m\u001b[0;34m,\u001b[0m \u001b[0;36m5\u001b[0m\u001b[0;34m,\u001b[0m \u001b[0;36m6\u001b[0m\u001b[0;34m]\u001b[0m\u001b[0;34m)\u001b[0m\u001b[0;34m\u001b[0m\u001b[0;34m\u001b[0m\u001b[0m\n\u001b[0;32m----> 3\u001b[0;31m \u001b[0mnp\u001b[0m\u001b[0;34m.\u001b[0m\u001b[0mconcatenate\u001b[0m\u001b[0;34m(\u001b[0m\u001b[0ms\u001b[0m\u001b[0;34m,\u001b[0m \u001b[0mz\u001b[0m\u001b[0;34m)\u001b[0m\u001b[0;34m\u001b[0m\u001b[0;34m\u001b[0m\u001b[0m\n\u001b[0m",
      "\u001b[0;32m/work2/08949/tg882489/stampede2/anaconda3/envs/agama_env/lib/python3.9/site-packages/numpy/core/overrides.py\u001b[0m in \u001b[0;36mconcatenate\u001b[0;34m(*args, **kwargs)\u001b[0m\n",
      "\u001b[0;31mTypeError\u001b[0m: only integer scalar arrays can be converted to a scalar index"
     ]
    }
   ],
   "source": [
    "s = np.array([0, 1 , 2, 3])\n",
    "z = np.array([4, 5, 6])\n",
    "np.concatenate(s, z)"
   ]
  },
  {
   "cell_type": "code",
   "execution_count": null,
   "id": "565ce4fa",
   "metadata": {},
   "outputs": [],
   "source": []
  }
 ],
 "metadata": {
  "kernelspec": {
   "display_name": "Python 3 (ipykernel)",
   "language": "python",
   "name": "python3"
  },
  "language_info": {
   "codemirror_mode": {
    "name": "ipython",
    "version": 3
   },
   "file_extension": ".py",
   "mimetype": "text/x-python",
   "name": "python",
   "nbconvert_exporter": "python",
   "pygments_lexer": "ipython3",
   "version": "3.9.13"
  }
 },
 "nbformat": 4,
 "nbformat_minor": 5
}
