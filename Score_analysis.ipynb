{
 "cells": [
  {
   "cell_type": "code",
   "execution_count": 87,
   "id": "eed15ce6",
   "metadata": {},
   "outputs": [
    {
     "name": "stderr",
     "output_type": "stream",
     "text": [
      "/tmp/ipykernel_88746/1817125433.py:10: DeprecationWarning: Importing display from IPython.core.display is deprecated since IPython 7.14, please import from IPython display\n",
      "  from IPython.core.display import display\n"
     ]
    }
   ],
   "source": [
    "import h5py\n",
    "import numpy as np\n",
    "import pandas as pd\n",
    "import os\n",
    "import pandas as pd\n",
    "import seaborn as sn\n",
    "import torch\n",
    "import torchvision.models as models\n",
    "from pytorch_lightning.callbacks.model_checkpoint import ModelCheckpoint\n",
    "from IPython.core.display import display\n",
    "from collections.abc import Mapping\n",
    "from pytorch_lightning import LightningModule, Trainer\n",
    "from pytorch_lightning.callbacks.progress import TQDMProgressBar\n",
    "from pytorch_lightning.loggers import CSVLogger\n",
    "from torch import nn\n",
    "from torch.nn import functional as F\n",
    "from torch.utils.data import DataLoader, random_split, TensorDataset\n",
    "from pytorch_lightning.callbacks.early_stopping import EarlyStopping\n",
    "from pytorch_lightning.loggers import CSVLogger\n",
    "import torchmetrics\n",
    "from torchvision.transforms import ToTensor\n",
    "import astropy.units as u\n",
    "import astropy.coordinates as coord\n",
    "\n",
    "import matplotlib.pyplot as plt\n",
    "plt.style.use('seaborn-colorblind')\n",
    "from scipy import stats"
   ]
  },
  {
   "cell_type": "code",
   "execution_count": 120,
   "id": "237b0885",
   "metadata": {},
   "outputs": [],
   "source": [
    "#User Input\n",
    "sim = 'DR3_lsr012' #input(\"DR2 or DR3: \")\n",
    "dim = '6D' #input(\"Input how many dimensions are needed: \")\n",
    "galaxy = 'm12f_lsr0' #input(\"Use m12i or m12f data: \")\n",
    "transfer = True #bool(input(\"Transfer learning (True or False): \"))\n",
    "if transfer == True:\n",
    "    transfer_galaxy = 'm12i' #input(\"Which galaxy parameters for transfer learning: \")\n",
    "\n",
    "# Training data\n",
    "if dim == '4D':\n",
    "    x_keys = ['ra', 'dec', 'pmra', 'pmdec']\n",
    "elif dim == '5D':\n",
    "    x_keys = ['ra', 'dec', 'pmra', 'pmdec', 'parallax']\n",
    "elif dim == '6D':\n",
    "    x_keys = ['ra', 'dec', 'pmra', 'pmdec', 'parallax', 'radial_velocity']\n",
    "elif dim == '7D':\n",
    "    x_keys = ['ra', 'dec', 'pmra', 'pmdec', 'parallax', 'radial_velocity', 'feh']\n",
    "elif dim == '9D':\n",
    "    x_keys = ['ra', 'dec', 'pmra', 'pmdec', 'parallax', 'radial_velocity', 'Jr', 'Jphi', 'Jz']\n",
    "elif dim == '10D':\n",
    "    x_keys = ['ra', 'dec', 'pmra', 'pmdec', 'parallax', 'radial_velocity', 'Jr', 'Jphi', 'Jz', 'feh']\n",
    "    \n",
    "y_key = 'is_accreted'\n",
    "\n",
    "# Directories\n",
    "path = '/ocean/projects/phy210068p/hsu1/Ananke_datasets_training/AnankeDR3_data_reduced_m12f_lsr0.hdf5'\n",
    "out_dir = '/ocean/projects/phy210068p/hsu1/Training_results/' + sim + '/' + galaxy + '/' + dim \n",
    "roc_title = sim + '_' + galaxy + '_' + dim\n",
    "\n",
    "# Parameters\n",
    "learning_rate = 1e-3\n",
    "batch_size = 1024\n",
    "roc_path = '/ocean/projects/phy210068p/hsu1/Training_results/' + sim + '/' + galaxy + '/' + 'roc_parameters.hdf5'\n",
    "\n",
    "if transfer == True:\n",
    "    transfer_checkpoint = '/ocean/projects/phy210068p/hsu1/Training_results/DR3_lsr012/m12i/6D_cyl/training_logs/version_0/checkpoints/last.ckpt'\n",
    "\n",
    "\n",
    "train_parameter_file = out_dir + '/training_parameters.hdf5'\n",
    "train_log = out_dir + '/training_logs'\n",
    "checkpoint = train_log + '/version_0/checkpoints/last.ckpt'\n",
    "    "
   ]
  },
  {
   "cell_type": "code",
   "execution_count": 121,
   "id": "e1ab180b",
   "metadata": {},
   "outputs": [],
   "source": [
    "data = []\n",
    "f = h5py.File(path, 'r')\n",
    "\n",
    "for i in x_keys:\n",
    "    data.append(f[i][:])\n",
    "y = f[y_key][:]\n",
    "\n",
    "# Getting rid of nan values\n",
    "x = []\n",
    "if 'Jr' in x_keys:\n",
    "    Jr = f['Jr'][:]\n",
    "    mask = (~np.isnan(Jr))\n",
    "    for i in range(len(x_keys)):\n",
    "        new = data[i][:][mask]\n",
    "        x.append(new)\n",
    "    y = y[mask]\n",
    "elif 'radial_velocity' in x_keys:\n",
    "    rv = f['radial_velocity'][:]\n",
    "    mask = (~np.isnan(rv))\n",
    "    for i in range(len(x_keys)):\n",
    "        new = data[i][:][mask]\n",
    "        x.append(new)\n",
    "    y = y[mask]\n",
    "else:\n",
    "    x = data\n",
    "\n",
    "ra = x[0] * u.deg\n",
    "dec = x[1] * u.deg\n",
    "pmra = x[2] * u.mas / u.yr\n",
    "pmdec = x[3] * u.mas / u.yr\n",
    "parallax = x[4] * u.mas\n",
    "rv = x[5] * u.km / u.s\n",
    "\n",
    "dist = coord.Distance(parallax=parallax, allow_negative=True)\n",
    "\n",
    "# Coord transformation\n",
    "icrs = coord.ICRS(\n",
    "    ra=ra, dec=dec, distance=dist, pm_ra_cosdec=pmra, pm_dec=pmdec, radial_velocity=rv)\n",
    "icrs.representation_type = 'cylindrical'\n",
    "\n",
    "rho_cyl = icrs.rho.to_value(u.pc)\n",
    "phi_cyl = icrs.phi.to_value(u.deg)\n",
    "z_cyl = icrs.z.to_value(u.pc)\n",
    "vrho_cyl = icrs.d_rho.to_value(u.mas * u.pc / (u.rad * u.yr))\n",
    "vphi_cyl = icrs.d_phi.to_value(u.mas / u.yr)\n",
    "vz_cyl = icrs.d_z.to_value(u.mas * u.pc / (u.rad * u.yr))\n",
    "\n",
    "x = []\n",
    "x.append(rho_cyl)\n",
    "x.append(phi_cyl)\n",
    "x.append(z_cyl)\n",
    "x.append(vrho_cyl)\n",
    "x.append(vphi_cyl)\n",
    "x.append(vz_cyl)\n",
    "\n",
    "x = np.vstack(x).T\n",
    "f.close()\n",
    "\n",
    "with h5py.File(train_parameter_file, 'r') as f:\n",
    "    shuffle = f['shuffle'][:]\n",
    "x_save = x[shuffle]\n",
    "y_save = y[shuffle]\n",
    "\n",
    "x = x[shuffle]\n",
    "y = y[shuffle]\n",
    "\n",
    "n_train = int(0.9 *len(x))\n",
    "n_val = len(x)-n_train\n",
    "train_x, val_x = x[:n_train], x[n_train: n_train+n_val]\n",
    "train_y, val_y = y[:n_train], y[n_train: n_train+n_val]\n",
    "\n",
    "ny1 = np.sum(train_y==1)\n",
    "ny0 = np.sum(train_y==0)\n",
    "ny = ny1 + ny0\n",
    "w1 = ny/ny1\n",
    "w0 = ny/ny0\n",
    "weight = torch.tensor([w0, w1], dtype=torch.float32)\n",
    "mean_train_x = np.mean(train_x, axis = 0)\n",
    "stdv_train_x = np.std(train_x, axis = 0)\n",
    "train_x = (train_x - mean_train_x) / stdv_train_x\n",
    "val_x = (val_x - mean_train_x) / stdv_train_x\n",
    "train_x = torch.tensor(train_x, dtype=torch.float32)\n",
    "train_y = torch.tensor(train_y, dtype=torch.long)\n",
    "val_x = torch.tensor(val_x, dtype=torch.float32)\n",
    "val_y = torch.tensor(val_y, dtype=torch.long)\n",
    "\n",
    "train_dataset = TensorDataset(train_x, train_y)\n",
    "val_dataset = TensorDataset(val_x, val_y)\n",
    "train_loader = DataLoader(train_dataset, batch_size = batch_size)\n",
    "val_loader = DataLoader(val_dataset, batch_size = batch_size)"
   ]
  },
  {
   "cell_type": "code",
   "execution_count": 122,
   "id": "faeca66d",
   "metadata": {},
   "outputs": [],
   "source": [
    "class Model(LightningModule):\n",
    "                \n",
    "    def __init__(self, weight, mean_train_x, stdv_train_x, transfer):\n",
    "        super().__init__()\n",
    "        self.save_hyperparameters()\n",
    "        self.l1 = torch.nn.Linear(len(x_keys), 100) \n",
    "        self.l2 = torch.nn.Linear(100, 50)\n",
    "        self.l3 = torch.nn.Linear(50, 2)\n",
    "        \n",
    "        self.train_acc = torchmetrics.Accuracy()\n",
    "        self.valid_acc = torchmetrics.Accuracy()\n",
    "        self.weight = weight\n",
    "        self.mean_train_x = mean_train_x\n",
    "        self.stdv_train_x = stdv_train_x\n",
    "        if transfer == True:\n",
    "            self.feature_extractor = Model.load_from_checkpoint(transfer_checkpoint, transfer=False)\n",
    "            self.feature_extractor.freeze()\n",
    "    \n",
    "    def forward(self, x):\n",
    "        x_out = self.l1(x)\n",
    "        x_out = torch.relu(x_out)\n",
    "        x_out = self.l2(x_out)\n",
    "        x_out = torch.relu(x_out)\n",
    "        x_out = self.l3(x_out)\n",
    "        return x_out\n",
    "    \n",
    "    def configure_optimizers(self):\n",
    "        return torch.optim.Adam(self.parameters(), lr=learning_rate)\n",
    "    \n",
    "    def training_step(self, batch, batch_nb):\n",
    "        train_x, train_y = batch \n",
    "        preds = self(train_x)\n",
    "        loss = F.cross_entropy(preds, train_y, weight = self.weight.to(self.device))\n",
    "        self.train_acc(preds, train_y)\n",
    "        self.log('train_loss', loss)\n",
    "        self.log('train_acc', self.train_acc, on_step=False, on_epoch=True, prog_bar=True)\n",
    "        return loss\n",
    "    \n",
    "    def validation_step(self, batch, batch_nb):\n",
    "        val_x, val_y = batch\n",
    "        preds = self(val_x)\n",
    "        loss = F.cross_entropy(preds, val_y, weight=self.weight.to(self.device))\n",
    "        self.valid_acc(preds, val_y)\n",
    "        self.log('val_loss', loss)\n",
    "        self.log('valid_acc', self.valid_acc, on_step=False, on_epoch=True, prog_bar=True)\n",
    "        return loss"
   ]
  },
  {
   "cell_type": "code",
   "execution_count": 123,
   "id": "26e6eff9",
   "metadata": {},
   "outputs": [],
   "source": [
    "if transfer == True:\n",
    "    model = Model(weight, mean_train_x, stdv_train_x, transfer=True)\n",
    "else:\n",
    "    model = Model(weight, mean_train_x, stdv_train_x, transfer=False)\n",
    "model = Model.load_from_checkpoint(checkpoint)\n",
    "mean = model.mean_train_x\n",
    "stdv = model.stdv_train_x\n",
    "weight = model.weight\n",
    "\n",
    "n_test = n_val\n",
    "test_x = x[n_train: n_train+n_test]\n",
    "test_y = y[n_train: n_train+n_test]\n",
    "\n",
    "test_x = (test_x - mean) / stdv\n",
    "\n",
    "test_x = torch.tensor(test_x, dtype=torch.float32)\n",
    "test_y = torch.tensor(test_y, dtype=torch.long)\n",
    "\n",
    "test_dataset = list(zip(test_x, test_y))\n",
    "test_loader = DataLoader(test_dataset, batch_size = batch_size)"
   ]
  },
  {
   "cell_type": "code",
   "execution_count": 124,
   "id": "7091bed1",
   "metadata": {},
   "outputs": [
    {
     "name": "stderr",
     "output_type": "stream",
     "text": [
      "/tmp/ipykernel_88746/2179619688.py:17: RuntimeWarning: overflow encountered in exp\n",
      "  score = np.exp(predict[:,1])/(np.exp(predict[:,0])+np.exp(predict[:,1]))\n",
      "/tmp/ipykernel_88746/2179619688.py:17: RuntimeWarning: invalid value encountered in true_divide\n",
      "  score = np.exp(predict[:,1])/(np.exp(predict[:,0])+np.exp(predict[:,1]))\n"
     ]
    }
   ],
   "source": [
    "predict = []\n",
    "target = []\n",
    "x_final = []\n",
    "\n",
    "model.eval()\n",
    "with torch.no_grad():\n",
    "    for batch in test_loader:\n",
    "        x, y = batch\n",
    "        yhat = model(x)\n",
    "        predict.append(yhat.cpu().numpy())\n",
    "        target.append(y.cpu().numpy())\n",
    "        x_final.append(x.cpu().numpy())\n",
    "predict = np.concatenate(predict)\n",
    "target = np.concatenate(target)\n",
    "x_final = np.concatenate(x_final)\n",
    "\n",
    "score = np.exp(predict[:,1])/(np.exp(predict[:,0])+np.exp(predict[:,1]))\n",
    "target_true_mask = (target==True)\n",
    "target_false_mask = (target==False)"
   ]
  },
  {
   "cell_type": "code",
   "execution_count": 125,
   "id": "c34c8e9a",
   "metadata": {},
   "outputs": [
    {
     "data": {
      "text/plain": [
       "((1000000,), (1000000, 2), (1000000,))"
      ]
     },
     "execution_count": 125,
     "metadata": {},
     "output_type": "execute_result"
    }
   ],
   "source": [
    "target.shape, predict.shape, score.shape"
   ]
  },
  {
   "cell_type": "code",
   "execution_count": 126,
   "id": "212b25f3",
   "metadata": {},
   "outputs": [],
   "source": [
    "vrho = x_final[:, 3]\n",
    "vphi = x_final[:, 4]\n",
    "vz = x_final[:, 5]\n",
    "num_bin = 1000\n",
    "thresholds = np.linspace(0.1, 0.9, num_bin)\n",
    "X2 = []\n",
    "thres = 0.5\n",
    "score_1 = score>thres\n",
    "\n",
    "vrho_true = vrho[target==True] # group values in bins \n",
    "vrho_true_bin_stat = stats.binned_statistic(np.linspace(min(vrho_true, default=0), max(vrho_true, default=0), len(vrho_true)), vrho_true\n",
    "                                       , 'sum', bins=num_bin)\n",
    "vrho_true_bin = vrho_true_bin_stat.statistic\n",
    "\n",
    "vrho_pred = vrho[score_1==True]\n",
    "vrho_pred_bin_stat = stats.binned_statistic(np.linspace(min(vrho_pred, default=0), max(vrho_pred, default=0), len(vrho_pred)), vrho_pred\n",
    "                                       , 'sum', bins=num_bin)\n",
    "vrho_pred_bin = vrho_true_bin_stat.statistic \n",
    "\n",
    "vrho_X2 = np.sum((vrho_true_bin - vrho_pred_bin)**2)\n",
    "\n",
    "vphi_true = vphi[target==True]\n",
    "vphi_true_bin_stat = stats.binned_statistic(np.linspace(min(vphi_true, default=0), max(vphi_true, default=0), len(vphi_true)), vphi_true\n",
    "                                       , 'sum', bins=num_bin)\n",
    "vphi_true_bin = vphi_true_bin_stat.statistic \n",
    "\n",
    "vphi_pred = vphi[score_1==True]\n",
    "vphi_pred_bin_stat = stats.binned_statistic(np.linspace(min(vphi_true, default=0), max(vphi_true, default=0), len(vphi_pred)), vphi_pred\n",
    "                                       , 'sum', bins=num_bin)\n",
    "vphi_pred_bin = vrho_true_bin_stat.statistic \n",
    "\n",
    "vphi_X2 = np.sum((vphi_true_bin - vphi_pred_bin)**2)\n",
    "\n",
    "vz_true = vz[target==True]\n",
    "vz_true_bin_stat = stats.binned_statistic(np.linspace(min(vz_true, default=0), max(vz_true, default=0), len(vz_true)), vz_true\n",
    "                                       , 'sum', bins=num_bin)\n",
    "vz_true_bin = vz_true_bin_stat.statistic \n",
    "\n",
    "vz_pred = vz[score_1==True]\n",
    "vz_pred_bin_stat = stats.binned_statistic(np.linspace(min(vz_true, default=0), max(vz_true, default=0), len(vz_pred)), vz_pred\n",
    "                                       , 'sum', bins=num_bin)\n",
    "vz_pred_bin = vz_pred_bin_stat.statistic \n",
    "\n",
    "vz_X2 = np.sum((vz_true_bin - vz_pred_bin)**2)\n",
    "\n",
    "X2.append(vrho_X2 + vphi_X2 + vz_X2)\n",
    "\n"
   ]
  },
  {
   "cell_type": "code",
   "execution_count": 127,
   "id": "f47f0977",
   "metadata": {},
   "outputs": [
    {
     "data": {
      "text/plain": [
       "(0.0, 280384.13149725646, 6894127.892132064)"
      ]
     },
     "execution_count": 127,
     "metadata": {},
     "output_type": "execute_result"
    }
   ],
   "source": [
    "np.sum(vrho_true_bin-vrho_pred_bin), np.sum(vphi_true_bin-vphi_pred_bin), np.sum(vz_true_bin-vz_pred_bin)"
   ]
  },
  {
   "cell_type": "code",
   "execution_count": 94,
   "id": "8c5da3a9",
   "metadata": {},
   "outputs": [],
   "source": [
    "vrho = x_final[:, 3]\n",
    "vphi = x_final[:, 4]\n",
    "vz = x_final[:, 5]\n",
    "num_bin = 100\n",
    "thresholds = np.linspace(0.1, 0.9, num_bin)\n",
    "X2 = []\n",
    "for thres in thresholds:\n",
    "    score_1 = score>thres\n",
    "\n",
    "    vrho_true = vrho[target==True] # group values in bins \n",
    "    vrho_true_bin_stat = stats.binned_statistic(np.linspace(min(vrho_true, default=0), max(vrho_true, default=0), len(vrho_true)), vrho_true\n",
    "                                           , 'sum', bins=num_bin)\n",
    "    vrho_true_bin = vrho_true_bin_stat.statistic\n",
    "\n",
    "    vrho_pred = vrho[score_1==True]\n",
    "    vrho_pred_bin_stat = stats.binned_statistic(np.linspace(min(vrho_pred, default=0), max(vrho_pred, default=0), len(vrho_pred)), vrho_pred\n",
    "                                           , 'sum', bins=num_bin)\n",
    "    vrho_pred_bin = vrho_true_bin_stat.statistic \n",
    "\n",
    "    vrho_X2 = np.sum((vrho_true_bin - vrho_pred_bin)**2)\n",
    "\n",
    "    vphi_true = vphi[target==True]\n",
    "    vphi_true_bin_stat = stats.binned_statistic(np.linspace(min(vphi_true, default=0), max(vphi_true, default=0), len(vphi_true)), vphi_true\n",
    "                                           , 'sum', bins=num_bin)\n",
    "    vphi_true_bin = vphi_true_bin_stat.statistic \n",
    "\n",
    "    vphi_pred = vphi[score_1==True]\n",
    "    vphi_pred_bin_stat = stats.binned_statistic(np.linspace(min(vphi_true, default=0), max(vphi_true, default=0), len(vphi_pred)), vphi_pred\n",
    "                                           , 'sum', bins=num_bin)\n",
    "    vphi_pred_bin = vrho_true_bin_stat.statistic \n",
    "\n",
    "    vphi_X2 = np.sum((vphi_true_bin - vphi_pred_bin)**2)\n",
    "\n",
    "    vz_true = vz[target==True]\n",
    "    vz_true_bin_stat = stats.binned_statistic(np.linspace(min(vz_true, default=0), max(vz_true, default=0), len(vz_true)), vz_true\n",
    "                                           , 'sum', bins=num_bin)\n",
    "    vz_true_bin = vz_true_bin_stat.statistic \n",
    "\n",
    "    vz_pred = vz[score_1==True]\n",
    "    vz_pred_bin_stat = stats.binned_statistic(np.linspace(min(vz_true, default=0), max(vz_true, default=0), len(vz_pred)), vz_pred\n",
    "                                           , 'sum', bins=num_bin)\n",
    "    vz_pred_bin = vz_pred_bin_stat.statistic \n",
    "\n",
    "    vz_X2 = np.sum((vz_true_bin - vz_pred_bin)**2)\n",
    "\n",
    "    X2.append(vrho_X2 + vphi_X2 + vz_X2)\n",
    "\n"
   ]
  },
  {
   "cell_type": "code",
   "execution_count": 97,
   "id": "1aeb532b",
   "metadata": {},
   "outputs": [
    {
     "data": {
      "text/plain": [
       "array([0., 0., 0., 0., 0., 0., 0., 0., 0., 0., 0., 0., 0., 0., 0., 0., 0.,\n",
       "       0., 0., 0., 0., 0., 0., 0., 0., 0., 0., 0., 0., 0., 0., 0., 0., 0.,\n",
       "       0., 0., 0., 0., 0., 0., 0., 0., 0., 0., 0., 0., 0., 0., 0., 0., 0.,\n",
       "       0., 0., 0., 0., 0., 0., 0., 0., 0., 0., 0., 0., 0., 0., 0., 0., 0.,\n",
       "       0., 0., 0., 0., 0., 0., 0., 0., 0., 0., 0., 0., 0., 0., 0., 0., 0.,\n",
       "       0., 0., 0., 0., 0., 0., 0., 0., 0., 0., 0., 0., 0., 0., 0.])"
      ]
     },
     "execution_count": 97,
     "metadata": {},
     "output_type": "execute_result"
    }
   ],
   "source": [
    "vrho_true_bin - vrho_pred_bin"
   ]
  },
  {
   "cell_type": "code",
   "execution_count": 96,
   "id": "53e2dfbf",
   "metadata": {},
   "outputs": [
    {
     "data": {
      "text/plain": [
       "[<matplotlib.lines.Line2D at 0x153b69b3f3a0>]"
      ]
     },
     "execution_count": 96,
     "metadata": {},
     "output_type": "execute_result"
    },
    {
     "data": {
      "image/png": "[encoded data removed]",
      "text/plain": [
       "<Figure size 432x288 with 1 Axes>"
      ]
     },
     "metadata": {
      "needs_background": "light"
     },
     "output_type": "display_data"
    }
   ],
   "source": [
    "plt.plot(thresholds, X2/min(X2))"
   ]
  },
  {
   "cell_type": "code",
   "execution_count": 12,
   "id": "94552fbb",
   "metadata": {},
   "outputs": [
    {
     "data": {
      "text/plain": [
       "<matplotlib.legend.Legend at 0x15039b106850>"
      ]
     },
     "execution_count": 12,
     "metadata": {},
     "output_type": "execute_result"
    },
    {
     "data": {
      "image/png": "[encoded data removed]",
      "text/plain": [
       "<Figure size 720x720 with 1 Axes>"
      ]
     },
     "metadata": {
      "needs_background": "light"
     },
     "output_type": "display_data"
    }
   ],
   "source": [
    "fig, ax = plt.subplots(1, figsize=(10, 10))\n",
    "\n",
    "ax.hist(score_a, bins=100, density=True, label='accreted')\n",
    "ax.hist(score_i, bins=100, density=True, label='in situ')\n",
    "ax.set_title(roc_title, fontsize=40)\n",
    "ax.set_xlabel('Scores', fontsize=25)\n",
    "ax.set_ylabel('Normalized Counts', fontsize=25)\n",
    "ax.tick_params(axis='both', labelsize=15)\n",
    "plt.xlim([-40,40])\n",
    "plt.yscale('log')\n",
    "# plt.ylim([0,25])\n",
    "ax.legend(loc='upper right', fontsize=15)"
   ]
  },
  {
   "cell_type": "code",
   "execution_count": null,
   "id": "68b4c85b",
   "metadata": {},
   "outputs": [],
   "source": []
  }
 ],
 "metadata": {
  "kernelspec": {
   "display_name": "Python 3 (ipykernel)",
   "language": "python",
   "name": "python3"
  },
  "language_info": {
   "codemirror_mode": {
    "name": "ipython",
    "version": 3
   },
   "file_extension": ".py",
   "mimetype": "text/x-python",
   "name": "python",
   "nbconvert_exporter": "python",
   "pygments_lexer": "ipython3",
   "version": "3.8.13"
  }
 },
 "nbformat": 4,
 "nbformat_minor": 5
}
