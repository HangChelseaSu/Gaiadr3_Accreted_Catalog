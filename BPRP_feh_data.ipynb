{
 "cells": [
  {
   "cell_type": "code",
   "execution_count": 1,
   "id": "a58ef6a4",
   "metadata": {},
   "outputs": [],
   "source": [
    "import h5py\n",
    "import numpy as np\n",
    "import pandas as pd\n",
    "import matplotlib.pyplot as plt\n",
    "import matplotlib as mpl\n",
    "import astropy.units as u\n",
    "import astropy.coordinates as coord"
   ]
  },
  {
   "cell_type": "code",
   "execution_count": 2,
   "id": "b262deb8",
   "metadata": {},
   "outputs": [],
   "source": [
    "path0 = '/ocean/projects/phy210068p/hsu1/Ananke_datasets_training/BPRP_spec/stellar_params_catalog_00.h5'\n",
    "path1 = '/ocean/projects/phy210068p/hsu1/Ananke_datasets_training/BPRP_spec/stellar_params_catalog_01.h5'\n",
    "path2 = '/ocean/projects/phy210068p/hsu1/Ananke_datasets_training/BPRP_spec/stellar_params_catalog_02.h5'\n",
    "path3 = '/ocean/projects/phy210068p/hsu1/Ananke_datasets_training/BPRP_spec/stellar_params_catalog_03.h5'\n",
    "path4 = '/ocean/projects/phy210068p/hsu1/Ananke_datasets_training/BPRP_spec/stellar_params_catalog_04.h5'\n",
    "path5 = '/ocean/projects/phy210068p/hsu1/Ananke_datasets_training/BPRP_spec/stellar_params_catalog_05.h5'\n",
    "path6 = '/ocean/projects/phy210068p/hsu1/Ananke_datasets_training/BPRP_spec/stellar_params_catalog_06.h5'\n",
    "path7 = '/ocean/projects/phy210068p/hsu1/Ananke_datasets_training/BPRP_spec/stellar_params_catalog_07.h5'\n",
    "path8 = '/ocean/projects/phy210068p/hsu1/Ananke_datasets_training/BPRP_spec/stellar_params_catalog_08.h5'\n",
    "path9 = '/ocean/projects/phy210068p/hsu1/Ananke_datasets_training/BPRP_spec/stellar_params_catalog_09.h5'"
   ]
  },
  {
   "cell_type": "code",
   "execution_count": 3,
   "id": "32301110",
   "metadata": {},
   "outputs": [],
   "source": [
    "files = [path0, path1, path2, path3, path4, path5, path6, path7, path8, path9]\n",
    "feh = []\n",
    "BPRP_id = []\n",
    "for i in range(len(files)):\n",
    "    with h5py.File(files[i], 'r') as f:\n",
    "        feh = np.append(feh, f['stellar_params_est'][:,1])\n",
    "        b_id = np.array(f['gdr3_source_id'][:], dtype=np.int64)\n",
    "        BPRP_id = np.append(BPRP_id, b_id)"
   ]
  },
  {
   "cell_type": "code",
   "execution_count": 5,
   "id": "521c71db",
   "metadata": {},
   "outputs": [],
   "source": [
    "# path = '/ocean/projects/phy210068p/hsu1/Ananke_datasets_training/GaiaDR3_data_reduced.hdf5'\n",
    "# path_out = '/work2/08949/tg882489/stampede2/data/Ananke/GaiaDR3_data_reduced.hdf5'\n",
    "# df = pd.read_hdf(path)\n",
    "# main_source_id = np.array(df.source_id, dtype=np.int64)\n",
    "# parallax = df.parallax\n",
    "# parallax_error = df.parallax_error\n",
    "# poe = parallax/parallax_error\n",
    "# ra = df.ra\n",
    "# dec = df.dec\n",
    "# pmra = df.pmra\n",
    "# pmdec = df.pmdec\n",
    "# rv = df.radial_velocity\n"
   ]
  },
  {
   "cell_type": "code",
   "execution_count": 7,
   "id": "d6b94adb",
   "metadata": {},
   "outputs": [],
   "source": [
    "path = '/ocean/projects/phy210068p/hsu1/Ananke_datasets_training/GaiaDR3_data_reduced.hdf5'\n",
    "with h5py.File(path, 'r') as f:\n",
    "    ra = f['ra'][:]\n",
    "    dec = f['dec'][:]\n",
    "    parallax = f['parallax'][:]\n",
    "    pmra = f['pmra'][:]\n",
    "    pmdec = f['pmdec'][:]\n",
    "    rv = f['radial_velocity'][:]\n",
    "    main_source_id = f['source_id'][:]"
   ]
  },
  {
   "cell_type": "code",
   "execution_count": 8,
   "id": "d523d81b",
   "metadata": {},
   "outputs": [],
   "source": [
    "gaia_df = pd.DataFrame(\n",
    "    {\n",
    "        #sort based on id\n",
    "        'main_source_id': main_source_id,\n",
    "        'parallax': parallax,\n",
    "        'ra': ra,\n",
    "        'dec': dec,\n",
    "        'pmra': pmra,\n",
    "        'pmdec': pmdec,\n",
    "        'rv': rv\n",
    "    },\n",
    "#     index= main_source_id,\n",
    ")"
   ]
  },
  {
   "cell_type": "code",
   "execution_count": 9,
   "id": "1282b5b2",
   "metadata": {},
   "outputs": [],
   "source": [
    "BPRP_df = pd.DataFrame(\n",
    "    {\n",
    "        'feh': feh,\n",
    "        'BPRP_id': BPRP_id\n",
    "    },\n",
    "#     index=BPRP_id,\n",
    ")"
   ]
  },
  {
   "cell_type": "code",
   "execution_count": 7,
   "id": "49fb4652",
   "metadata": {},
   "outputs": [],
   "source": [
    "# gaia_100_df = gaia_df.head(10000)\n",
    "# BPRP_100_df = BPRP_df.head(10000)"
   ]
  },
  {
   "cell_type": "code",
   "execution_count": 10,
   "id": "92bada40",
   "metadata": {},
   "outputs": [],
   "source": [
    "merged_df = gaia_df.merge(BPRP_df, left_on='main_source_id', right_on='BPRP_id')"
   ]
  },
  {
   "cell_type": "code",
   "execution_count": 12,
   "id": "25e061ae",
   "metadata": {},
   "outputs": [
    {
     "data": {
      "text/plain": [
       "(          main_source_id  parallax          ra        dec      pmra     pmdec  \\\n",
       " 0           4.267993e+18  0.798789  288.687043   2.679046 -2.727043  1.258720   \n",
       " 1           4.268039e+18  0.390881  287.617196   2.287493 -1.487731 -2.798644   \n",
       " 2           4.267993e+18  1.252686  288.687934   2.686803 -4.470241 -8.146830   \n",
       " 3           4.268119e+18  0.217291  287.524068   2.638246 -1.610941 -4.318780   \n",
       " 4           4.268119e+18  0.940920  287.518075   2.633935 -0.721950 -5.991549   \n",
       " ...                  ...       ...         ...        ...       ...       ...   \n",
       " 29684290    4.200795e+18  0.648044  288.638907 -10.131637 -0.530863 -1.884414   \n",
       " 29684291    5.960996e+18  1.941853  264.591023 -39.378510 -1.749921 -0.394699   \n",
       " 29684292    5.960996e+18  1.941853  264.591023 -39.378510 -1.749921 -0.394699   \n",
       " 29684293    4.200421e+18  0.978559  291.676628  -9.472018 -1.659309 -4.870249   \n",
       " 29684294    4.200421e+18  0.868723  291.685857  -9.465076 -0.259768 -7.669888   \n",
       " \n",
       "                  rv       feh       BPRP_id  \n",
       " 0               NaN -0.474839  4.267993e+18  \n",
       " 1               NaN  0.133066  4.268039e+18  \n",
       " 2        -16.604643  0.265609  4.267993e+18  \n",
       " 3         44.787163 -0.189387  4.268119e+18  \n",
       " 4         13.092626  0.332502  4.268119e+18  \n",
       " ...             ...       ...           ...  \n",
       " 29684290        NaN  0.459580  4.200795e+18  \n",
       " 29684291        NaN -1.330994  5.960996e+18  \n",
       " 29684292        NaN  0.027227  5.960996e+18  \n",
       " 29684293 -11.606455 -0.693811  4.200421e+18  \n",
       " 29684294        NaN -0.255467  4.200421e+18  \n",
       " \n",
       " [29684295 rows x 9 columns],\n",
       " (29684295,),\n",
       " (32000000,),\n",
       " (29684295,))"
      ]
     },
     "execution_count": 12,
     "metadata": {},
     "output_type": "execute_result"
    }
   ],
   "source": [
    "merged_df, merged_df.feh.shape, ra.shape, merged_df.ra.shape"
   ]
  },
  {
   "cell_type": "code",
   "execution_count": 13,
   "id": "7d44c828",
   "metadata": {},
   "outputs": [],
   "source": [
    "ra = merged_df.ra\n",
    "dec = merged_df.dec\n",
    "parallax = merged_df.parallax\n",
    "pmra = merged_df.pmra\n",
    "pmdec = merged_df.pmdec\n",
    "rv = merged_df.rv\n",
    "feh = merged_df.feh\n",
    "source_id = merged_df.main_source_id\n",
    "\n",
    "with h5py.File('/ocean/projects/phy210068p/hsu1/Ananke_datasets_training/GaiaDR3_data_reduced.hdf5', 'a') as f:\n",
    "    f.create_dataset('ra', data=ra)\n",
    "    f.create_dataset('dec', data=dec)\n",
    "    f.create_dataset('parallax', data=parallax)\n",
    "    f.create_dataset('pmra', data=pmra)\n",
    "    f.create_dataset('pmdec', data=pmdec)\n",
    "    f.create_dataset('radial_velocity', data=rv)\n",
    "    f.create_dataset('feh', data=feh)\n",
    "    f.create_dataset('source_id', data=source_id)\n"
   ]
  },
  {
   "cell_type": "code",
   "execution_count": 14,
   "id": "ec251db2",
   "metadata": {},
   "outputs": [
    {
     "data": {
      "text/plain": [
       "(29684295,)"
      ]
     },
     "execution_count": 14,
     "metadata": {},
     "output_type": "execute_result"
    }
   ],
   "source": [
    "with h5py.File('/ocean/projects/phy210068p/hsu1/Ananke_datasets_training/GaiaDR3_data_reduced.hdf5', 'r') as f:\n",
    "    ra = f['ra'][:]\n",
    "\n",
    "ra.shape"
   ]
  },
  {
   "cell_type": "code",
   "execution_count": 15,
   "id": "0f4b7fbb",
   "metadata": {},
   "outputs": [
    {
     "data": {
      "text/plain": [
       "array([288.68704291, 287.61719589, 288.68793351, ..., 264.59102332,\n",
       "       291.67662796, 291.68585712])"
      ]
     },
     "execution_count": 15,
     "metadata": {},
     "output_type": "execute_result"
    }
   ],
   "source": [
    "ra"
   ]
  },
  {
   "cell_type": "code",
   "execution_count": 10,
   "id": "2b86dd64",
   "metadata": {},
   "outputs": [],
   "source": [
    "merged_df = merged_df.dropna()"
   ]
  },
  {
   "cell_type": "code",
   "execution_count": 11,
   "id": "a1fcd3a9",
   "metadata": {},
   "outputs": [
    {
     "data": {
      "text/html": [
       "<div>\n",
       "<style scoped>\n",
       "    .dataframe tbody tr th:only-of-type {\n",
       "        vertical-align: middle;\n",
       "    }\n",
       "\n",
       "    .dataframe tbody tr th {\n",
       "        vertical-align: top;\n",
       "    }\n",
       "\n",
       "    .dataframe thead th {\n",
       "        text-align: right;\n",
       "    }\n",
       "</style>\n",
       "<table border=\"1\" class=\"dataframe\">\n",
       "  <thead>\n",
       "    <tr style=\"text-align: right;\">\n",
       "      <th></th>\n",
       "      <th>main_source_id</th>\n",
       "      <th>parallax</th>\n",
       "      <th>poe</th>\n",
       "      <th>ra</th>\n",
       "      <th>dec</th>\n",
       "      <th>pmra</th>\n",
       "      <th>pmdec</th>\n",
       "      <th>rv</th>\n",
       "      <th>feh</th>\n",
       "      <th>BPRP_id</th>\n",
       "    </tr>\n",
       "  </thead>\n",
       "  <tbody>\n",
       "    <tr>\n",
       "      <th>0</th>\n",
       "      <td>5937084205616998400</td>\n",
       "      <td>1.288034</td>\n",
       "      <td>62.765608</td>\n",
       "      <td>251.710294</td>\n",
       "      <td>-51.457572</td>\n",
       "      <td>-7.850022</td>\n",
       "      <td>-10.899170</td>\n",
       "      <td>-10.998180</td>\n",
       "      <td>-0.224162</td>\n",
       "      <td>5.937084e+18</td>\n",
       "    </tr>\n",
       "    <tr>\n",
       "      <th>1</th>\n",
       "      <td>2263251472104635392</td>\n",
       "      <td>0.718544</td>\n",
       "      <td>17.594654</td>\n",
       "      <td>297.119493</td>\n",
       "      <td>71.012575</td>\n",
       "      <td>1.086997</td>\n",
       "      <td>-2.242526</td>\n",
       "      <td>-57.812305</td>\n",
       "      <td>-0.914935</td>\n",
       "      <td>2.263251e+18</td>\n",
       "    </tr>\n",
       "    <tr>\n",
       "      <th>2</th>\n",
       "      <td>2264885552539485440</td>\n",
       "      <td>1.015088</td>\n",
       "      <td>31.805925</td>\n",
       "      <td>290.370080</td>\n",
       "      <td>73.700236</td>\n",
       "      <td>-1.620844</td>\n",
       "      <td>2.900596</td>\n",
       "      <td>40.982433</td>\n",
       "      <td>-0.193112</td>\n",
       "      <td>2.264886e+18</td>\n",
       "    </tr>\n",
       "    <tr>\n",
       "      <th>3</th>\n",
       "      <td>2263503432065038336</td>\n",
       "      <td>1.058886</td>\n",
       "      <td>16.607741</td>\n",
       "      <td>293.178425</td>\n",
       "      <td>71.244645</td>\n",
       "      <td>12.632052</td>\n",
       "      <td>-1.866357</td>\n",
       "      <td>-2.592593</td>\n",
       "      <td>-0.140141</td>\n",
       "      <td>2.263503e+18</td>\n",
       "    </tr>\n",
       "    <tr>\n",
       "      <th>4</th>\n",
       "      <td>2263541227776045056</td>\n",
       "      <td>2.327759</td>\n",
       "      <td>15.954334</td>\n",
       "      <td>293.834197</td>\n",
       "      <td>71.729950</td>\n",
       "      <td>1.239393</td>\n",
       "      <td>-4.580595</td>\n",
       "      <td>50.121750</td>\n",
       "      <td>-1.230464</td>\n",
       "      <td>2.263541e+18</td>\n",
       "    </tr>\n",
       "    <tr>\n",
       "      <th>...</th>\n",
       "      <td>...</td>\n",
       "      <td>...</td>\n",
       "      <td>...</td>\n",
       "      <td>...</td>\n",
       "      <td>...</td>\n",
       "      <td>...</td>\n",
       "      <td>...</td>\n",
       "      <td>...</td>\n",
       "      <td>...</td>\n",
       "      <td>...</td>\n",
       "    </tr>\n",
       "    <tr>\n",
       "      <th>10653355</th>\n",
       "      <td>2257792671751566080</td>\n",
       "      <td>0.497244</td>\n",
       "      <td>46.040861</td>\n",
       "      <td>271.267309</td>\n",
       "      <td>66.433071</td>\n",
       "      <td>2.309108</td>\n",
       "      <td>-6.849914</td>\n",
       "      <td>-50.343105</td>\n",
       "      <td>-0.157134</td>\n",
       "      <td>2.257793e+18</td>\n",
       "    </tr>\n",
       "    <tr>\n",
       "      <th>10653356</th>\n",
       "      <td>2257795248731921664</td>\n",
       "      <td>1.552003</td>\n",
       "      <td>14.622424</td>\n",
       "      <td>270.900590</td>\n",
       "      <td>66.440420</td>\n",
       "      <td>0.194315</td>\n",
       "      <td>-5.880488</td>\n",
       "      <td>-14.204340</td>\n",
       "      <td>-0.510996</td>\n",
       "      <td>2.257795e+18</td>\n",
       "    </tr>\n",
       "    <tr>\n",
       "      <th>10653357</th>\n",
       "      <td>2161726347965712640</td>\n",
       "      <td>1.511723</td>\n",
       "      <td>132.732620</td>\n",
       "      <td>270.327285</td>\n",
       "      <td>66.350612</td>\n",
       "      <td>-3.390137</td>\n",
       "      <td>-10.105917</td>\n",
       "      <td>-25.208433</td>\n",
       "      <td>-0.005494</td>\n",
       "      <td>2.161726e+18</td>\n",
       "    </tr>\n",
       "    <tr>\n",
       "      <th>10653358</th>\n",
       "      <td>2257806724884479232</td>\n",
       "      <td>2.408409</td>\n",
       "      <td>219.741384</td>\n",
       "      <td>270.077634</td>\n",
       "      <td>66.520571</td>\n",
       "      <td>3.664283</td>\n",
       "      <td>3.791092</td>\n",
       "      <td>2.333518</td>\n",
       "      <td>-0.138160</td>\n",
       "      <td>2.257807e+18</td>\n",
       "    </tr>\n",
       "    <tr>\n",
       "      <th>10653359</th>\n",
       "      <td>1633314288158556416</td>\n",
       "      <td>3.623942</td>\n",
       "      <td>281.869378</td>\n",
       "      <td>269.251142</td>\n",
       "      <td>66.453038</td>\n",
       "      <td>-4.814967</td>\n",
       "      <td>22.285987</td>\n",
       "      <td>-40.117352</td>\n",
       "      <td>-0.097258</td>\n",
       "      <td>1.633314e+18</td>\n",
       "    </tr>\n",
       "  </tbody>\n",
       "</table>\n",
       "<p>10605485 rows × 10 columns</p>\n",
       "</div>"
      ],
      "text/plain": [
       "               main_source_id  parallax         poe          ra        dec  \\\n",
       "0         5937084205616998400  1.288034   62.765608  251.710294 -51.457572   \n",
       "1         2263251472104635392  0.718544   17.594654  297.119493  71.012575   \n",
       "2         2264885552539485440  1.015088   31.805925  290.370080  73.700236   \n",
       "3         2263503432065038336  1.058886   16.607741  293.178425  71.244645   \n",
       "4         2263541227776045056  2.327759   15.954334  293.834197  71.729950   \n",
       "...                       ...       ...         ...         ...        ...   \n",
       "10653355  2257792671751566080  0.497244   46.040861  271.267309  66.433071   \n",
       "10653356  2257795248731921664  1.552003   14.622424  270.900590  66.440420   \n",
       "10653357  2161726347965712640  1.511723  132.732620  270.327285  66.350612   \n",
       "10653358  2257806724884479232  2.408409  219.741384  270.077634  66.520571   \n",
       "10653359  1633314288158556416  3.623942  281.869378  269.251142  66.453038   \n",
       "\n",
       "               pmra      pmdec         rv       feh       BPRP_id  \n",
       "0         -7.850022 -10.899170 -10.998180 -0.224162  5.937084e+18  \n",
       "1          1.086997  -2.242526 -57.812305 -0.914935  2.263251e+18  \n",
       "2         -1.620844   2.900596  40.982433 -0.193112  2.264886e+18  \n",
       "3         12.632052  -1.866357  -2.592593 -0.140141  2.263503e+18  \n",
       "4          1.239393  -4.580595  50.121750 -1.230464  2.263541e+18  \n",
       "...             ...        ...        ...       ...           ...  \n",
       "10653355   2.309108  -6.849914 -50.343105 -0.157134  2.257793e+18  \n",
       "10653356   0.194315  -5.880488 -14.204340 -0.510996  2.257795e+18  \n",
       "10653357  -3.390137 -10.105917 -25.208433 -0.005494  2.161726e+18  \n",
       "10653358   3.664283   3.791092   2.333518 -0.138160  2.257807e+18  \n",
       "10653359  -4.814967  22.285987 -40.117352 -0.097258  1.633314e+18  \n",
       "\n",
       "[10605485 rows x 10 columns]"
      ]
     },
     "execution_count": 11,
     "metadata": {},
     "output_type": "execute_result"
    }
   ],
   "source": [
    "merged_df"
   ]
  },
  {
   "cell_type": "code",
   "execution_count": 12,
   "id": "f3f3213d",
   "metadata": {},
   "outputs": [],
   "source": [
    "source_id = merged_df.main_source_id\n",
    "parallax = merged_df.parallax\n",
    "poe = merged_df.poe\n",
    "ra = merged_df.ra\n",
    "dec = merged_df.dec\n",
    "pmra = merged_df.pmra\n",
    "pmdec = merged_df.pmdec\n",
    "rv = merged_df.rv\n",
    "feh = merged_df.feh\n"
   ]
  },
  {
   "cell_type": "code",
   "execution_count": 13,
   "id": "6fc8263b",
   "metadata": {},
   "outputs": [],
   "source": [
    "poe = np.array(poe)\n",
    "ra = np.array(ra)\n",
    "dec = np.array(dec)\n",
    "pmra = np.array(pmra)\n",
    "pmdec = np.array(pmdec)\n",
    "rv = np.array(rv)\n",
    "parallax = np.array(parallax)\n",
    "feh = np.array(feh)"
   ]
  },
  {
   "cell_type": "code",
   "execution_count": 14,
   "id": "289e91e6",
   "metadata": {},
   "outputs": [
    {
     "name": "stderr",
     "output_type": "stream",
     "text": [
      "WARNING: negative parallaxes are converted to NaN distances even when `allow_negative=True`, because negative parallaxes cannot be transformed into distances. See the discussion in this paper: https://arxiv.org/abs/1507.02105 [astropy.coordinates.distances]\n"
     ]
    }
   ],
   "source": [
    "\n",
    "ra = ra * u.deg\n",
    "dec = dec * u.deg\n",
    "pmra = pmra * u.mas / u.yr\n",
    "pmdec = pmdec * u.mas / u.yr\n",
    "parallax = parallax * u.mas\n",
    "rv = rv * u.km / u.s\n",
    "\n",
    "dist = coord.Distance(parallax=parallax, allow_negative=True)\n",
    "\n",
    "# Coord transformation\n",
    "icrs = coord.ICRS(\n",
    "    ra=ra, dec=dec, distance=dist, pm_ra_cosdec=pmra, pm_dec=pmdec, radial_velocity=rv)\n",
    "gal = icrs.transform_to(coord.Galactocentric())\n",
    "x_gal = gal.x.to_value(u.kpc)\n",
    "y_gal = gal.y.to_value(u.kpc)\n",
    "z_gal = gal.z.to_value(u.kpc)\n",
    "vx_gal = gal.v_x.to_value(u.km/u.s)\n",
    "vy_gal = gal.v_y.to_value(u.km/u.s)\n",
    "vz_gal = gal.v_z.to_value(u.km/u.s)  "
   ]
  },
  {
   "cell_type": "code",
   "execution_count": 15,
   "id": "afe62c34",
   "metadata": {},
   "outputs": [],
   "source": [
    "non_null_mask = (poe>10)"
   ]
  },
  {
   "cell_type": "code",
   "execution_count": 16,
   "id": "51f449fd",
   "metadata": {},
   "outputs": [],
   "source": [
    "rv = rv[non_null_mask]\n",
    "ra = ra[non_null_mask]\n",
    "dec = dec[non_null_mask]\n",
    "parallax = parallax[non_null_mask]\n",
    "pmra = pmra[non_null_mask]\n",
    "pmdec = pmdec[non_null_mask]\n",
    "feh = feh[non_null_mask]\n",
    "poe = poe[non_null_mask]\n",
    "source_id = source_id[non_null_mask]"
   ]
  },
  {
   "cell_type": "code",
   "execution_count": 17,
   "id": "4b482af0",
   "metadata": {},
   "outputs": [],
   "source": [
    "# path_gaia = '/scratch/08949/tg882489/data/Ananke/GaiaDR3_data_reduced.hdf5'\n",
    "# with h5py.File(path_gaia, 'w') as f:\n",
    "#     f.create_dataset('radial_velocity', data=rv)\n",
    "#     f.create_dataset('ra', data=ra)\n",
    "#     f.create_dataset('dec', data=dec)\n",
    "#     f.create_dataset('pmra', data=pmra)\n",
    "#     f.create_dataset('pmdec', data=pmdec)\n",
    "#     f.create_dataset('parallax', data=parallax)\n",
    "#     f.create_dataset('feh', data=feh)\n",
    "#     f.create_dataset('poe', data=poe)\n",
    "#     f.create_dataset('source_id', data=source_id)"
   ]
  },
  {
   "cell_type": "code",
   "execution_count": 59,
   "id": "98d4d2bc",
   "metadata": {},
   "outputs": [],
   "source": [
    "path_gaia = '/scratch/08949/tg882489/data/Ananke/GaiaDR3_data_reduced.hdf5'\n",
    "with h5py.File(path_gaia, 'r') as f:\n",
    "    rv = f['radial_velocity'][:]\n",
    "    ra = f['ra'][:]\n",
    "    dec = f['dec'][:]\n",
    "    pmra = f['pmra'][:]\n",
    "    pmdec = f['pmdec'][:]\n",
    "    parallax = f['parallax'][:]\n",
    "    feh = f['feh'][:]\n",
    "    source_id = f['source_id'][:]"
   ]
  },
  {
   "cell_type": "code",
   "execution_count": 60,
   "id": "45a46f94",
   "metadata": {},
   "outputs": [],
   "source": [
    "keep_source_id = source_id\n",
    "empt = np.zeros(len(keep_source_id))"
   ]
  },
  {
   "cell_type": "code",
   "execution_count": 61,
   "id": "69cf1e26",
   "metadata": {},
   "outputs": [],
   "source": [
    "\n",
    "ra = ra * u.deg\n",
    "dec = dec * u.deg\n",
    "pmra = pmra * u.mas / u.yr\n",
    "pmdec = pmdec * u.mas / u.yr\n",
    "parallax = parallax * u.mas\n",
    "rv = rv * u.km / u.s\n",
    "\n",
    "dist = coord.Distance(parallax=parallax, allow_negative=True)\n",
    "\n",
    "# Coord transformation\n",
    "icrs = coord.ICRS(\n",
    "    ra=ra, dec=dec, distance=dist, pm_ra_cosdec=pmra, pm_dec=pmdec, radial_velocity=rv)\n",
    "gal = icrs.transform_to(coord.Galactocentric())\n",
    "x_gal = gal.x.to_value(u.kpc)\n",
    "y_gal = gal.y.to_value(u.kpc)\n",
    "z_gal = gal.z.to_value(u.kpc)\n",
    "vx_gal = gal.v_x.to_value(u.km/u.s)\n",
    "vy_gal = gal.v_y.to_value(u.km/u.s)\n",
    "vz_gal = gal.v_z.to_value(u.km/u.s)  "
   ]
  },
  {
   "cell_type": "code",
   "execution_count": 62,
   "id": "1bb2ef1c",
   "metadata": {},
   "outputs": [],
   "source": [
    "z_mask = (np.absolute(z_gal) > 1.5)\n",
    "source_id_z = source_id[z_mask]\n",
    "vx = vx_gal[z_mask]\n",
    "vy = vy_gal[z_mask]\n",
    "vz = vz_gal[z_mask]\n",
    "feh = feh[z_mask]\n"
   ]
  },
  {
   "cell_type": "code",
   "execution_count": 63,
   "id": "ca1a2caf",
   "metadata": {},
   "outputs": [],
   "source": [
    "non_null_mask = (feh < -1.5)\n",
    "source_id = source_id[non_null_mask]\n",
    "vx = vx[non_null_mask]\n",
    "vy = vy[non_null_mask]\n",
    "vz = vz[non_null_mask]\n",
    "feh = feh_z[non_null_mask]"
   ]
  },
  {
   "cell_type": "code",
   "execution_count": 64,
   "id": "231b1462",
   "metadata": {},
   "outputs": [
    {
     "data": {
      "text/plain": [
       "(7594, 7594)"
      ]
     },
     "execution_count": 64,
     "metadata": {},
     "output_type": "execute_result"
    }
   ],
   "source": [
    "len(source_id), len(vx)"
   ]
  },
  {
   "cell_type": "code",
   "execution_count": 65,
   "id": "d7a2e966",
   "metadata": {},
   "outputs": [],
   "source": [
    "vr = np.sqrt(vx**2+vz**2)"
   ]
  },
  {
   "cell_type": "code",
   "execution_count": 66,
   "id": "a21878d8",
   "metadata": {},
   "outputs": [
    {
     "data": {
      "text/plain": [
       "(8593425, 7594, 7594, 0)"
      ]
     },
     "execution_count": 66,
     "metadata": {},
     "output_type": "execute_result"
    }
   ],
   "source": [
    "len(z_gal), len(feh), len(vx), np.sum(np.isnan(source_id))"
   ]
  },
  {
   "cell_type": "code",
   "execution_count": 46,
   "id": "f78e7e30",
   "metadata": {},
   "outputs": [
    {
     "data": {
      "text/plain": [
       "7594"
      ]
     },
     "execution_count": 46,
     "metadata": {},
     "output_type": "execute_result"
    }
   ],
   "source": [
    "len(feh)"
   ]
  },
  {
   "cell_type": "code",
   "execution_count": 19,
   "id": "4e680fc2",
   "metadata": {},
   "outputs": [],
   "source": [
    "# source_id = str(source_id)\n",
    "# keep_source_id = str(keep_source_id)"
   ]
  },
  {
   "cell_type": "code",
   "execution_count": 69,
   "id": "2564b603",
   "metadata": {},
   "outputs": [
    {
     "data": {
      "text/plain": [
       "(8110, 8593425)"
      ]
     },
     "execution_count": 69,
     "metadata": {},
     "output_type": "execute_result"
    }
   ],
   "source": [
    "np.sum(accretion), len(keep_source_id)"
   ]
  },
  {
   "cell_type": "code",
   "execution_count": 67,
   "id": "3d6a51ad",
   "metadata": {},
   "outputs": [],
   "source": [
    "accretion_id = np.isin(keep_source_id, source_id)\n",
    "accretion = np.int32(accretion_id)\n",
    "is_accreted = accretion"
   ]
  },
  {
   "cell_type": "code",
   "execution_count": 70,
   "id": "ddfa00f7",
   "metadata": {},
   "outputs": [],
   "source": [
    "with h5py.File(path_gaia, 'a') as f:\n",
    "    del f['is_accreted']\n",
    "    f.create_dataset('is_accreted', data=accretion)"
   ]
  },
  {
   "cell_type": "code",
   "execution_count": 71,
   "id": "ffce23b6",
   "metadata": {},
   "outputs": [
    {
     "data": {
      "image/png": "[encoded data removed]",
      "text/plain": [
       "<Figure size 1300x1000 with 2 Axes>"
      ]
     },
     "metadata": {},
     "output_type": "display_data"
    }
   ],
   "source": [
    "fig, ax = plt.subplots(1, figsize=(13, 10))\n",
    "\n",
    "h = ax.hist2d(vy, vr, bins=100, weights=np.repeat(1/len(vx), len(vx)), norm=mpl.colors.LogNorm())\n",
    "ax.set_xlabel(r'$V_y [km s^{-1}]$', fontsize=35)\n",
    "ax.set_ylabel(r'$\\sqrt{V_x^2+V_z^2} [km s^{-1}]$', fontsize=35)\n",
    "ax.set_title('Toomre Diagram of Accreted Stars', fontsize=40)\n",
    "cb = fig.colorbar(h[3], ax=ax, label=r'Normalized Counts (km/s)$^{-2}$') \n",
    "cb.ax.tick_params(labelsize=35)\n",
    "ax.tick_params(axis='both', labelsize=35)"
   ]
  },
  {
   "cell_type": "code",
   "execution_count": 74,
   "id": "42824230",
   "metadata": {},
   "outputs": [
    {
     "data": {
      "text/plain": [
       "7594"
      ]
     },
     "execution_count": 74,
     "metadata": {},
     "output_type": "execute_result"
    }
   ],
   "source": [
    "len(vy)"
   ]
  },
  {
   "cell_type": "code",
   "execution_count": null,
   "id": "ef374e82",
   "metadata": {},
   "outputs": [],
   "source": []
  }
 ],
 "metadata": {
  "kernelspec": {
   "display_name": "Python 3",
   "language": "python",
   "name": "python3"
  },
  "language_info": {
   "codemirror_mode": {
    "name": "ipython",
    "version": 3
   },
   "file_extension": ".py",
   "mimetype": "text/x-python",
   "name": "python",
   "nbconvert_exporter": "python",
   "pygments_lexer": "ipython3",
   "version": "3.8.13"
  }
 },
 "nbformat": 4,
 "nbformat_minor": 5
}
