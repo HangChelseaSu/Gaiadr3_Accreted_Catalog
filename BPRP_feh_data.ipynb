{
 "cells": [
  {
   "cell_type": "code",
   "execution_count": 2,
   "id": "a58ef6a4",
   "metadata": {},
   "outputs": [],
   "source": [
    "import h5py\n",
    "import numpy as np\n",
    "import pandas as pd\n",
    "import matplotlib.pyplot as plt\n",
    "import matplotlib as mpl\n",
    "import astropy.units as u\n",
    "import astropy.coordinates as coord\n",
    "# import dask.dataframe as dd\n"
   ]
  },
  {
   "cell_type": "code",
   "execution_count": 3,
   "id": "55b56f12",
   "metadata": {},
   "outputs": [],
   "source": [
    "with h5py.File('/ocean/projects/phy210068p/hsu1/Ananke_datasets_training/GaiaDR3_data_reduced_feh.hdf5', 'r') as f:\n",
    "    ra = f['ra'][:]\n",
    "    dec = f['dec'][:]\n",
    "    parallax = f['parallax'][:]\n",
    "    pmra = f['pmra'][:]\n",
    "    pmdec = f['pmdec'][:]\n",
    "    rv = f['radial_velocity'][:]\n",
    "    source_id = f['source_id'][:]\n",
    "    poe = f['parallax_over_error'][:]\n",
    "    feh = f['feh'][:]\n",
    "    z = f['z_gal'][:]\n",
    "\n",
    "df = pd.DataFrame(\n",
    "{\n",
    "    #sort based on id\n",
    "    'source_id': source_id,\n",
    "    'parallax': parallax,\n",
    "    'ra': ra,\n",
    "    'dec': dec,\n",
    "    'pmra': pmra,\n",
    "    'pmdec': pmdec,\n",
    "    'rv': rv,\n",
    "    'poe': poe,\n",
    "    'feh': feh,\n",
    "    'z': z\n",
    "})\n",
    "\n",
    "new_df = df[(np.absolute(df['z']) > 1.5) & (df['feh'] < -1.5)]"
   ]
  },
  {
   "cell_type": "code",
   "execution_count": 8,
   "id": "e27d6c26",
   "metadata": {},
   "outputs": [
    {
     "data": {
      "text/plain": [
       "Index([    2355,     4409,     4410,     7539,     7540,     8274,     8276,\n",
       "           8691,     9493,     9494,\n",
       "       ...\n",
       "       90127937, 90130757, 90139207, 90139770, 90143463, 90145188, 90152320,\n",
       "       90153110, 90153770, 90153907],\n",
       "      dtype='int64', length=33306)"
      ]
     },
     "execution_count": 8,
     "metadata": {},
     "output_type": "execute_result"
    }
   ],
   "source": [
    "new_df.source_id.index"
   ]
  },
  {
   "cell_type": "code",
   "execution_count": 5,
   "id": "cb770e36",
   "metadata": {},
   "outputs": [
    {
     "data": {
      "text/plain": [
       "(0, 0)"
      ]
     },
     "execution_count": 5,
     "metadata": {},
     "output_type": "execute_result"
    }
   ],
   "source": [
    "np.sum(~(np.absolute(new_df.z)>1.5)), np.sum(~(new_df.feh<-1.5))"
   ]
  },
  {
   "cell_type": "code",
   "execution_count": 9,
   "id": "435be32e",
   "metadata": {},
   "outputs": [
    {
     "data": {
      "text/plain": [
       "((90172126,), (90172126,))"
      ]
     },
     "execution_count": 9,
     "metadata": {},
     "output_type": "execute_result"
    }
   ],
   "source": [
    "new_is_accreted = np.empty(len(df.source_id), dtype=bool)\n",
    "new_is_accreted.fill(False)\n",
    "new_is_accreted[new_df.source_id.index] = True\n",
    "# np.isin(df.source_id, new_df.source_id)\n",
    "new_is_accreted.shape, df.source_id.shape"
   ]
  },
  {
   "cell_type": "code",
   "execution_count": 16,
   "id": "fdc5eb01",
   "metadata": {},
   "outputs": [
    {
     "ename": "",
     "evalue": "",
     "output_type": "error",
     "traceback": [
      "\u001b[1;31mThe Kernel crashed while executing code in the the current cell or a previous cell. Please review the code in the cell(s) to identify a possible cause of the failure. Click <a href='https://aka.ms/vscodeJupyterKernelCrash'>here</a> for more info. View Jupyter <a href='command:jupyter.viewOutput'>log</a> for further details."
     ]
    },
    {
     "ename": "",
     "evalue": "",
     "output_type": "error",
     "traceback": [
      "\u001b[1;31mCanceled future for execute_request message before replies were done"
     ]
    }
   ],
   "source": [
    "new_is_accreted = "
   ]
  },
  {
   "cell_type": "code",
   "execution_count": 10,
   "id": "baf8002f",
   "metadata": {},
   "outputs": [
    {
     "data": {
      "text/plain": [
       "39922"
      ]
     },
     "execution_count": 10,
     "metadata": {},
     "output_type": "execute_result"
    }
   ],
   "source": []
  },
  {
   "cell_type": "code",
   "execution_count": 10,
   "id": "00fc095b",
   "metadata": {},
   "outputs": [
    {
     "ename": "",
     "evalue": "",
     "output_type": "error",
     "traceback": [
      "\u001b[1;31mThe Kernel crashed while executing code in the the current cell or a previous cell. Please review the code in the cell(s) to identify a possible cause of the failure. Click <a href='https://aka.ms/vscodeJupyterKernelCrash'>here</a> for more info. View Jupyter <a href='command:jupyter.viewOutput'>log</a> for further details."
     ]
    }
   ],
   "source": [
    "with h5py.File('/ocean/projects/phy210068p/hsu1/Ananke_datasets_training/GaiaDR3_data_reduced_feh.hdf5', 'a') as f:\n",
    "    del f['is_accreted']\n",
    "    f.create_dataset('is_accreted', data=new_is_accreted)"
   ]
  },
  {
   "cell_type": "code",
   "execution_count": 3,
   "id": "b262deb8",
   "metadata": {},
   "outputs": [],
   "source": [
    "# path0 = '/ocean/projects/phy210068p/hsu1/Ananke_datasets_training/BPRP_spec/stellar_params_catalog_00.h5'\n",
    "# path1 = '/ocean/projects/phy210068p/hsu1/Ananke_datasets_training/BPRP_spec/stellar_params_catalog_01.h5'\n",
    "# path2 = '/ocean/projects/phy210068p/hsu1/Ananke_datasets_training/BPRP_spec/stellar_params_catalog_02.h5'\n",
    "# path3 = '/ocean/projects/phy210068p/hsu1/Ananke_datasets_training/BPRP_spec/stellar_params_catalog_03.h5'\n",
    "# path4 = '/ocean/projects/phy210068p/hsu1/Ananke_datasets_training/BPRP_spec/stellar_params_catalog_04.h5'\n",
    "# path5 = '/ocean/projects/phy210068p/hsu1/Ananke_datasets_training/BPRP_spec/stellar_params_catalog_05.h5'\n",
    "# path6 = '/ocean/projects/phy210068p/hsu1/Ananke_datasets_training/BPRP_spec/stellar_params_catalog_06.h5'\n",
    "# path7 = '/ocean/projects/phy210068p/hsu1/Ananke_datasets_training/BPRP_spec/stellar_params_catalog_07.h5'\n",
    "# path8 = '/ocean/projects/phy210068p/hsu1/Ananke_datasets_training/BPRP_spec/stellar_params_catalog_08.h5'\n",
    "# path9 = '/ocean/projects/phy210068p/hsu1/Ananke_datasets_training/BPRP_spec/stellar_params_catalog_09.h5'"
   ]
  },
  {
   "cell_type": "code",
   "execution_count": 4,
   "id": "32301110",
   "metadata": {},
   "outputs": [],
   "source": [
    "# files = [path0, path1, path2, path3, path4, path5, path6, path7, path8, path9]\n",
    "# feh = []\n",
    "# BPRP_id = []\n",
    "# for i in range(len(files)):\n",
    "#     with h5py.File(files[i], 'r') as f:\n",
    "#         feh = np.append(feh, f['stellar_params_est'][:,1])\n",
    "#         b_id = np.array(f['gdr3_source_id'][:], dtype=np.int64)\n",
    "#         BPRP_id = np.append(BPRP_id, b_id)\n",
    "    \n",
    "# with h5py.File('/ocean/projects/phy210068p/hsu1/Ananke_datasets_training/BPRP_spec/BPRP_feh.h5', 'w') as f:\n",
    "#     f.create_dataset('feh', data=feh)\n",
    "#     f.create_dataset('BPRP_id', data=BPRP_id, dtype='int64')"
   ]
  },
  {
   "cell_type": "code",
   "execution_count": 3,
   "id": "082b8967",
   "metadata": {},
   "outputs": [],
   "source": [
    "with h5py.File('/ocean/projects/phy210068p/hsu1/Ananke_datasets_training/BPRP_spec/BPRP_feh.h5', 'r') as f:\n",
    "    feh = f['feh'][:]\n",
    "    BPRP_id = f['BPRP_id'][:]\n",
    "\n",
    "with h5py.File('/ocean/projects/phy210068p/hsu1/Ananke_datasets_training/GaiaDR3_data_reduced.hdf5', 'r') as f:\n",
    "    ra = f['ra'][:]\n",
    "    dec = f['dec'][:]\n",
    "    parallax = f['parallax'][:]\n",
    "    pmra = f['pmra'][:]\n",
    "    pmdec = f['pmdec'][:]\n",
    "    rv = f['radial_velocity'][:]\n",
    "    source_id = f['source_id'][:]\n",
    "    poe = f['parallax_over_error'][:]"
   ]
  },
  {
   "cell_type": "code",
   "execution_count": 5,
   "id": "be9e47e8",
   "metadata": {},
   "outputs": [
    {
     "name": "stdout",
     "output_type": "stream",
     "text": [
      "['dec', 'feh', 'parallax', 'parallax_over_error', 'pmdec', 'pmra', 'ra', 'radial_velocity', 'source_id']\n"
     ]
    }
   ],
   "source": [
    "path_feh = '/ocean/projects/phy210068p/hsu1/Ananke_datasets_training/GaiaDR3_data_reduced_feh.hdf5'\n",
    "with h5py.File(path_feh, 'r') as f:\n",
    "    print(list(f.keys()))\n",
    "    ra = f['ra'][:]\n",
    "    dec = f['dec'][:]\n",
    "    parallax = f['parallax'][:]\n",
    "    pmra = f['pmra'][:]\n",
    "    pmdec = f['pmdec'][:]\n",
    "    rv = f['radial_velocity'][:]\n",
    "    source_id = f['source_id'][:]\n",
    "    feh = f['feh'][:]\n"
   ]
  },
  {
   "cell_type": "code",
   "execution_count": 6,
   "id": "0f5c4220",
   "metadata": {},
   "outputs": [
    {
     "data": {
      "text/plain": [
       "((90172126,),\n",
       " (90172126,),\n",
       " (90172126,),\n",
       " (90172126,),\n",
       " (90172126,),\n",
       " (90172126,),\n",
       " (90172126,),\n",
       " (90172126,),\n",
       " array([-0.16963588,  0.08896311, -1.05859041, ..., -0.52068067,\n",
       "        -0.26526949,  0.36386272]))"
      ]
     },
     "execution_count": 6,
     "metadata": {},
     "output_type": "execute_result"
    }
   ],
   "source": [
    "ra.shape, dec.shape, parallax.shape, pmra.shape, pmdec.shape, rv.shape, source_id.shape, feh.shape, feh"
   ]
  },
  {
   "cell_type": "code",
   "execution_count": 4,
   "id": "d0ec4370",
   "metadata": {},
   "outputs": [
    {
     "data": {
      "text/plain": [
       "((90172126,),\n",
       " (90172126,),\n",
       " (90172126,),\n",
       " (90172126,),\n",
       " (90172126,),\n",
       " (90172126,),\n",
       " (90172126,),\n",
       " (90172126,),\n",
       " array([-0.16963588,  0.08896311, -1.05859041, ..., -0.52068067,\n",
       "        -0.26526949,  0.36386272]))"
      ]
     },
     "execution_count": 4,
     "metadata": {},
     "output_type": "execute_result"
    }
   ],
   "source": [
    "ra.shape, dec.shape, parallax.shape, pmra.shape, pmdec.shape, rv.shape, source_id.shape, feh.shape, feh"
   ]
  },
  {
   "cell_type": "code",
   "execution_count": 4,
   "id": "b8b490ba",
   "metadata": {},
   "outputs": [],
   "source": [
    "match_idx = np.isin(source_id, BPRP_id, assume_unique=True)"
   ]
  },
  {
   "cell_type": "code",
   "execution_count": 1,
   "id": "a6f30021",
   "metadata": {},
   "outputs": [
    {
     "ename": "NameError",
     "evalue": "name 'source_id' is not defined",
     "output_type": "error",
     "traceback": [
      "\u001b[0;31m---------------------------------------------------------------------------\u001b[0m",
      "\u001b[0;31mNameError\u001b[0m                                 Traceback (most recent call last)",
      "Input \u001b[0;32mIn [1]\u001b[0m, in \u001b[0;36m<cell line: 1>\u001b[0;34m()\u001b[0m\n\u001b[0;32m----> 1\u001b[0m new_source_id \u001b[38;5;241m=\u001b[39m \u001b[43msource_id\u001b[49m[match_idx]\n\u001b[1;32m      2\u001b[0m new_ra \u001b[38;5;241m=\u001b[39m ra[match_idx]\n\u001b[1;32m      3\u001b[0m new_dec \u001b[38;5;241m=\u001b[39m dec[match_idx]\n",
      "\u001b[0;31mNameError\u001b[0m: name 'source_id' is not defined"
     ]
    }
   ],
   "source": [
    "new_source_id = source_id[match_idx]\n",
    "new_ra = ra[match_idx]\n",
    "new_dec = dec[match_idx]\n",
    "new_parallax = parallax[match_idx]\n",
    "new_pmra = pmra[match_idx]\n",
    "new_pmdec = pmdec[match_idx]\n",
    "new_rv = rv[match_idx]\n",
    "new_poe = poe[match_idx]"
   ]
  },
  {
   "cell_type": "code",
   "execution_count": null,
   "id": "fb576e1e",
   "metadata": {},
   "outputs": [],
   "source": []
  },
  {
   "cell_type": "code",
   "execution_count": 11,
   "id": "5d507567",
   "metadata": {},
   "outputs": [
    {
     "data": {
      "text/plain": [
       "(array([ True,  True,  True, ...,  True,  True,  True]), 88289288)"
      ]
     },
     "execution_count": 11,
     "metadata": {},
     "output_type": "execute_result"
    }
   ],
   "source": [
    "match_idx, np.sum(np.isin(source_id, source_id[match_idx]))"
   ]
  },
  {
   "cell_type": "code",
   "execution_count": 12,
   "id": "82ce4a1b",
   "metadata": {},
   "outputs": [
    {
     "data": {
      "text/plain": [
       "(84939935, 98346986)"
      ]
     },
     "execution_count": 12,
     "metadata": {},
     "output_type": "execute_result"
    }
   ],
   "source": [
    "np.sum(match_idx), len(match_idx)"
   ]
  },
  {
   "cell_type": "code",
   "execution_count": 4,
   "id": "aaf8feae",
   "metadata": {},
   "outputs": [],
   "source": [
    "df_bprp = pd.DataFrame(\n",
    "{\n",
    "    'feh': feh,\n",
    "    'BPRP_id': BPRP_id\n",
    "},\n",
    "#     index=BPRP_id,\n",
    ")\n",
    "\n",
    "n_begin = 0\n",
    "n_end = 1000\n",
    "\n",
    "df_gaia = pd.DataFrame(\n",
    "{\n",
    "    #sort based on id\n",
    "    'source_id': source_id[n_begin:n_end],\n",
    "    'parallax': parallax[n_begin:n_end],\n",
    "    'ra': ra[n_begin:n_end],\n",
    "    'dec': dec[n_begin:n_end],\n",
    "    'pmra': pmra[n_begin:n_end],\n",
    "    'pmdec': pmdec[n_begin:n_end],\n",
    "    'rv': rv[n_begin:n_end],\n",
    "    'poe': poe[n_begin:n_end],\n",
    "})\n",
    "\n",
    "# BPRP_ddf = dd.from_pandas(BPRP_df, npartitions=10000000)\n",
    "# gaia_ddf = dd.from_pandas(gaia_df, npartitions=10000000)"
   ]
  },
  {
   "cell_type": "code",
   "execution_count": 1,
   "id": "ca858067",
   "metadata": {},
   "outputs": [
    {
     "ename": "NameError",
     "evalue": "name 'df_gaia' is not defined",
     "output_type": "error",
     "traceback": [
      "\u001b[0;31m---------------------------------------------------------------------------\u001b[0m",
      "\u001b[0;31mNameError\u001b[0m                                 Traceback (most recent call last)",
      "Input \u001b[0;32mIn [1]\u001b[0m, in \u001b[0;36m<cell line: 1>\u001b[0;34m()\u001b[0m\n\u001b[0;32m----> 1\u001b[0m \u001b[43mdf_gaia\u001b[49m\n",
      "\u001b[0;31mNameError\u001b[0m: name 'df_gaia' is not defined"
     ]
    }
   ],
   "source": [
    "df_gaia"
   ]
  },
  {
   "cell_type": "code",
   "execution_count": 6,
   "id": "f71e3201",
   "metadata": {},
   "outputs": [
    {
     "ename": "",
     "evalue": "",
     "output_type": "error",
     "traceback": [
      "\u001b[1;31mThe Kernel crashed while executing code in the the current cell or a previous cell. Please review the code in the cell(s) to identify a possible cause of the failure. Click <a href='https://aka.ms/vscodeJupyterKernelCrash'>here</a> for more info. View Jupyter <a href='command:jupyter.viewOutput'>log</a> for further details."
     ]
    },
    {
     "ename": "",
     "evalue": "",
     "output_type": "error",
     "traceback": [
      "\u001b[1;31mCanceled future for execute_request message before replies were done"
     ]
    }
   ],
   "source": [
    "merged_df = df_gaia.merge(df_bprp, left_on='source_id', right_on='BPRP_id')"
   ]
  },
  {
   "cell_type": "code",
   "execution_count": 6,
   "id": "ae180cd3",
   "metadata": {},
   "outputs": [
    {
     "ename": "",
     "evalue": "",
     "output_type": "error",
     "traceback": [
      "\u001b[1;31mThe Kernel crashed while executing code in the the current cell or a previous cell. Please review the code in the cell(s) to identify a possible cause of the failure. Click <a href='https://aka.ms/vscodeJupyterKernelCrash'>here</a> for more info. View Jupyter <a href='command:jupyter.viewOutput'>log</a> for further details."
     ]
    },
    {
     "ename": "",
     "evalue": "",
     "output_type": "error",
     "traceback": [
      "\u001b[1;31mCanceled future for execute_request message before replies were done"
     ]
    }
   ],
   "source": [
    "# Assuming df_gaia and df_bprp are your already loaded DataFrames\n",
    "chunksize_gaia = 5000  # Define chunk size for df_gaia\n",
    "chunksize_bprp = 5000  # Define chunk size for df_bprp\n",
    "\n",
    "def merge_chunks(chunk_gaia, chunk_bprp):\n",
    "    return pd.merge(chunk_gaia, chunk_bprp, left_on='source_id', right_on='BPRP_id', how='left')\n",
    "\n",
    "final_result = pd.DataFrame()\n",
    "\n",
    "# Iterate over chunks of df_gaia\n",
    "for start_gaia in range(0, df_gaia.shape[0], chunksize_gaia):\n",
    "    end_gaia = min(start_gaia + chunksize_gaia, df_gaia.shape[0])\n",
    "    chunk_gaia = df_gaia.iloc[start_gaia:end_gaia]\n",
    "\n",
    "    # Iterate over chunks of df_bprp\n",
    "    for start_bprp in range(0, df_bprp.shape[0], chunksize_bprp):\n",
    "        end_bprp = min(start_bprp + chunksize_bprp, df_bprp.shape[0])\n",
    "        chunk_bprp = df_bprp.iloc[start_bprp:end_bprp]\n",
    "\n",
    "        # Merge and accumulate the results\n",
    "        merged_chunk = merge_chunks(chunk_gaia, chunk_bprp)\n",
    "        final_result = pd.concat([final_result, merged_chunk], ignore_index=True)\n",
    "\n",
    "# 'final_result' is your merged DataFrame\n"
   ]
  },
  {
   "cell_type": "code",
   "execution_count": null,
   "id": "ee658ce7",
   "metadata": {},
   "outputs": [],
   "source": [
    "\n",
    "# Assuming each HDF5 file contains a complete DataFrame under a single key\n",
    "gaia_dataset_key = ['source_id', 'ra', 'dec', 'parallax', 'parallax_over_error', 'pmra', 'pmdec', 'radial_velocity']  # Replace with the actual key for the Gaia dataset\n",
    "bprp_dataset_key = ['feh', 'BPRP_id']  # Replace with the actual key for the BPRP dataset\n",
    "\n",
    "# Read the complete DataFrames\n",
    "df_gaia_full = dd.read_hdf('/ocean/projects/phy210068p/hsu1/Ananke_datasets_training/GaiaDR3_data_reduced.hdf5', key=gaia_dataset_key)\n",
    "df_bprp_full = dd.read_hdf('/ocean/projects/phy210068p/hsu1/BPRP_spec/BPRP_feh.h5', key=bprp_dataset_key)\n",
    "\n",
    "# Select the required columns from each DataFrame\n",
    "df_gaia = df_gaia_full[['source_id', 'ra', 'dec', 'parallax', 'parallax_over_error', 'pmra', 'pmdec', 'radial_velocity']]\n",
    "df_bprp = df_bprp_full[['feh', 'BPRP_id']]\n",
    "\n",
    "# Perform the merge\n",
    "merged_df = dd.merge(df_gaia, df_bprp, left_on='source_id', right_on='BPRP_id', how='left')\n",
    "\n",
    "# Compute the result\n",
    "result = merged_df.compute()"
   ]
  },
  {
   "cell_type": "code",
   "execution_count": null,
   "id": "8cb600a2",
   "metadata": {},
   "outputs": [],
   "source": [
    "path = '/ocean/projects/phy210068p/hsu1/Ananke_datasets_training/GaiaDR3_data_reduced.hdf5'\n",
    "\n",
    "with h5py.File(path, 'r') as f:\n",
    "    main_source_id = np.array(f['source_id'][:])\n",
    "    parallax = np.array(f['parallax'][:])\n",
    "    ra = np.array(f['ra'][:])\n",
    "    dec = np.array(f['dec'][:])\n",
    "    pmra = np.array(f['pmra'][:])\n",
    "    pmdec = np.array(f['pmdec'][:])\n",
    "    rv = np.array(f['radial_velocity'][:])\n",
    "    poe = np.array(f['parallax_over_error'][:])"
   ]
  },
  {
   "cell_type": "code",
   "execution_count": null,
   "id": "a1e00473",
   "metadata": {},
   "outputs": [],
   "source": [
    "gaia_df = pd.DataFrame(\n",
    "{\n",
    "    #sort based on id\n",
    "    'main_source_id': main_source_id[begin:end],\n",
    "    'parallax': parallax[begin:end],\n",
    "    'ra': ra[begin:end],\n",
    "    'dec': dec[begin:end],\n",
    "    'pmra': pmra[begin:end],\n",
    "    'pmdec': pmdec[begin:end],\n",
    "    'rv': rv[begin:end],\n",
    "    'poe': poe[begin:end],\n",
    "})\n",
    "\n",
    "gaia_df = pd.DataFrame(\n",
    "{\n",
    "    #sort based on id\n",
    "    'main_source_id': main_source_id[begin:end],\n",
    "    'parallax': parallax[begin:end],\n",
    "    'ra': ra[begin:end],\n",
    "    'dec': dec[begin:end],\n",
    "    'pmra': pmra[begin:end],\n",
    "    'pmdec': pmdec[begin:end],\n",
    "    'rv': rv[begin:end],\n",
    "    'poe': poe[begin:end],\n",
    "})\n",
    "\n",
    "# merged_df = gaia_df.merge(BPRP_df, left_on='main_source_id', right_on='BPRP_id')\n",
    "merged_df = df1.join(df2, on='source_id', how='inner')"
   ]
  },
  {
   "cell_type": "code",
   "execution_count": null,
   "id": "fb753ef8",
   "metadata": {},
   "outputs": [],
   "source": []
  },
  {
   "cell_type": "code",
   "execution_count": null,
   "id": "9595870e",
   "metadata": {},
   "outputs": [],
   "source": []
  },
  {
   "cell_type": "code",
   "execution_count": null,
   "id": "2018691d",
   "metadata": {},
   "outputs": [],
   "source": [
    "begin = 0\n",
    "end = 100\n",
    "\n",
    "gaia_df = pd.DataFrame(\n",
    "{\n",
    "#sort based on id\n",
    "'main_source_id': main_source_id,\n",
    "'parallax': parallax,\n",
    "'ra': ra,\n",
    "'dec': dec,\n",
    "'pmra': pmra,\n",
    "'pmdec': pmdec,\n",
    "'rv': rv,\n",
    "'poe': poe,\n",
    "})\n",
    "\n",
    "merged_df = gaia_df.merge(BPRP_df, left_on='main_source_id', right_on='BPRP_id')\n",
    "total_df = pd.concat([total_df, merged_df], ignore_index=True)"
   ]
  },
  {
   "cell_type": "code",
   "execution_count": null,
   "id": "d6b94adb",
   "metadata": {},
   "outputs": [],
   "source": [
    "\n",
    "total_df = pd.DataFrame()\n",
    "chunksize = 1000000\n",
    "\n",
    "for chunk in range(chunksize):\n",
    "    begin = int(chunk * gaia_len / chunksize)\n",
    "    end = int((chunk + 1) * gaia_len / chunksize)\n",
    "\n",
    "    gaia_df = pd.DataFrame(\n",
    "    {\n",
    "        #sort based on id\n",
    "        'main_source_id': main_source_id[begin:end],\n",
    "        'parallax': parallax[begin:end],\n",
    "        'ra': ra[begin:end],\n",
    "        'dec': dec[begin:end],\n",
    "        'pmra': pmra[begin:end],\n",
    "        'pmdec': pmdec[begin:end],\n",
    "        'rv': rv[begin:end],\n",
    "        'poe': poe[begin:end],\n",
    "    })\n",
    "\n",
    "    # merged_df = gaia_df.merge(BPRP_df, left_on='main_source_id', right_on='BPRP_id')\n",
    "\n",
    "    total_df = pd.concat([total_df, merged_df], ignore_index=True)"
   ]
  },
  {
   "cell_type": "code",
   "execution_count": null,
   "id": "c488f56b",
   "metadata": {},
   "outputs": [],
   "source": [
    "ra.shape"
   ]
  },
  {
   "cell_type": "code",
   "execution_count": 4,
   "id": "d523d81b",
   "metadata": {},
   "outputs": [],
   "source": [
    "gaia_df = pd.DataFrame(\n",
    "    {\n",
    "        #sort based on id\n",
    "        'source_id': source_id,\n",
    "        'parallax': parallax,\n",
    "        'ra': ra,\n",
    "        'dec': dec,\n",
    "        'pmra': pmra,\n",
    "        'pmdec': pmdec,\n",
    "        'rv': rv,\n",
    "        'parallax_over_error': poe,\n",
    "    },\n",
    "#     index= main_source_id,\n",
    ")"
   ]
  },
  {
   "cell_type": "code",
   "execution_count": 5,
   "id": "1282b5b2",
   "metadata": {},
   "outputs": [],
   "source": [
    "BPRP_df = pd.DataFrame(\n",
    "    {\n",
    "        'feh': feh,\n",
    "        'BPRP_id': BPRP_id\n",
    "    },\n",
    "#     index=BPRP_id,\n",
    ")"
   ]
  },
  {
   "cell_type": "code",
   "execution_count": 1,
   "id": "f7d94b7a",
   "metadata": {},
   "outputs": [
    {
     "ename": "NameError",
     "evalue": "name 'BPRP_df' is not defined",
     "output_type": "error",
     "traceback": [
      "\u001b[0;31m---------------------------------------------------------------------------\u001b[0m",
      "\u001b[0;31mNameError\u001b[0m                                 Traceback (most recent call last)",
      "Input \u001b[0;32mIn [1]\u001b[0m, in \u001b[0;36m<cell line: 1>\u001b[0;34m()\u001b[0m\n\u001b[0;32m----> 1\u001b[0m \u001b[43mBPRP_df\u001b[49m, gaia_df\n",
      "\u001b[0;31mNameError\u001b[0m: name 'BPRP_df' is not defined"
     ]
    }
   ],
   "source": [
    "BPRP_df, gaia_df"
   ]
  },
  {
   "cell_type": "code",
   "execution_count": 10,
   "id": "92bada40",
   "metadata": {},
   "outputs": [
    {
     "ename": "",
     "evalue": "",
     "output_type": "error",
     "traceback": [
      "\u001b[1;31mThe Kernel crashed while executing code in the the current cell or a previous cell. Please review the code in the cell(s) to identify a possible cause of the failure. Click <a href='https://aka.ms/vscodeJupyterKernelCrash'>here</a> for more info. View Jupyter <a href='command:jupyter.viewOutput'>log</a> for further details."
     ]
    },
    {
     "ename": "",
     "evalue": "",
     "output_type": "error",
     "traceback": [
      "\u001b[1;31mCanceled future for execute_request message before replies were done"
     ]
    }
   ],
   "source": [
    "merged_df = gaia_df.merge(BPRP_df, left_on='source_id', right_on='BPRP_id')"
   ]
  },
  {
   "cell_type": "code",
   "execution_count": 9,
   "id": "f6c54f2f",
   "metadata": {},
   "outputs": [
    {
     "data": {
      "text/plain": [
       "(array([         4295806720,         38655544960,       1275606125952, ...,\n",
       "        6917528649684202496, 6917528890203987968, 6917528993281571840]),\n",
       " array([5978968864037824512, 5122066607233746944, 4187730797380655616, ...,\n",
       "        5961421792352868352, 5961421826761172992, 5961421861120892928]))"
      ]
     },
     "execution_count": 9,
     "metadata": {},
     "output_type": "execute_result"
    }
   ],
   "source": [
    "BPRP_id, source_id"
   ]
  },
  {
   "cell_type": "code",
   "execution_count": null,
   "id": "25e061ae",
   "metadata": {},
   "outputs": [],
   "source": [
    "merged_df, merged_df.feh.shape, ra.shape, merged_df.ra.shape"
   ]
  },
  {
   "cell_type": "code",
   "execution_count": null,
   "id": "7d44c828",
   "metadata": {},
   "outputs": [],
   "source": [
    "ra = merged_df.ra\n",
    "dec = merged_df.dec\n",
    "parallax = merged_df.parallax\n",
    "pmra = merged_df.pmra\n",
    "pmdec = merged_df.pmdec\n",
    "rv = merged_df.rv\n",
    "feh = merged_df.feh\n",
    "source_id = merged_df.main_source_id\n",
    "\n",
    "with h5py.File('/ocean/projects/phy210068p/hsu1/Ananke_datasets_training/GaiaDR3_data_reduced_feh.hdf5', 'a') as f:\n",
    "    f.create_dataset('ra', data=ra)\n",
    "    f.create_dataset('dec', data=dec)\n",
    "    f.create_dataset('parallax', data=parallax)\n",
    "    f.create_dataset('pmra', data=pmra)\n",
    "    f.create_dataset('pmdec', data=pmdec)\n",
    "    f.create_dataset('radial_velocity', data=rv)\n",
    "    f.create_dataset('feh', data=feh)\n",
    "    f.create_dataset('source_id', data=source_id)\n"
   ]
  },
  {
   "cell_type": "code",
   "execution_count": null,
   "id": "ec251db2",
   "metadata": {},
   "outputs": [],
   "source": [
    "with h5py.File('/ocean/projects/phy210068p/hsu1/Ananke_datasets_training/GaiaDR3_data_reduced.hdf5', 'r') as f:\n",
    "    ra = f['ra'][:]\n",
    "\n",
    "ra.shape"
   ]
  },
  {
   "cell_type": "code",
   "execution_count": null,
   "id": "0f4b7fbb",
   "metadata": {},
   "outputs": [],
   "source": [
    "ra"
   ]
  },
  {
   "cell_type": "code",
   "execution_count": null,
   "id": "2b86dd64",
   "metadata": {},
   "outputs": [],
   "source": [
    "merged_df = merged_df.dropna()"
   ]
  },
  {
   "cell_type": "code",
   "execution_count": null,
   "id": "a1fcd3a9",
   "metadata": {},
   "outputs": [],
   "source": [
    "merged_df"
   ]
  },
  {
   "cell_type": "code",
   "execution_count": null,
   "id": "f3f3213d",
   "metadata": {},
   "outputs": [],
   "source": [
    "source_id = merged_df.main_source_id\n",
    "parallax = merged_df.parallax\n",
    "poe = merged_df.poe\n",
    "ra = merged_df.ra\n",
    "dec = merged_df.dec\n",
    "pmra = merged_df.pmra\n",
    "pmdec = merged_df.pmdec\n",
    "rv = merged_df.rv\n",
    "feh = merged_df.feh\n"
   ]
  },
  {
   "cell_type": "code",
   "execution_count": null,
   "id": "6fc8263b",
   "metadata": {},
   "outputs": [],
   "source": [
    "poe = np.array(poe)\n",
    "ra = np.array(ra)\n",
    "dec = np.array(dec)\n",
    "pmra = np.array(pmra)\n",
    "pmdec = np.array(pmdec)\n",
    "rv = np.array(rv)\n",
    "parallax = np.array(parallax)\n",
    "feh = np.array(feh)"
   ]
  },
  {
   "cell_type": "code",
   "execution_count": null,
   "id": "289e91e6",
   "metadata": {},
   "outputs": [],
   "source": [
    "\n",
    "ra = ra * u.deg\n",
    "dec = dec * u.deg\n",
    "pmra = pmra * u.mas / u.yr\n",
    "pmdec = pmdec * u.mas / u.yr\n",
    "parallax = parallax * u.mas\n",
    "rv = rv * u.km / u.s\n",
    "\n",
    "dist = coord.Distance(parallax=parallax, allow_negative=True)\n",
    "\n",
    "# Coord transformation\n",
    "icrs = coord.ICRS(\n",
    "    ra=ra, dec=dec, distance=dist, pm_ra_cosdec=pmra, pm_dec=pmdec, radial_velocity=rv)\n",
    "gal = icrs.transform_to(coord.Galactocentric())\n",
    "x_gal = gal.x.to_value(u.kpc)\n",
    "y_gal = gal.y.to_value(u.kpc)\n",
    "z_gal = gal.z.to_value(u.kpc)\n",
    "vx_gal = gal.v_x.to_value(u.km/u.s)\n",
    "vy_gal = gal.v_y.to_value(u.km/u.s)\n",
    "vz_gal = gal.v_z.to_value(u.km/u.s)  "
   ]
  },
  {
   "cell_type": "code",
   "execution_count": null,
   "id": "afe62c34",
   "metadata": {},
   "outputs": [],
   "source": [
    "non_null_mask = (poe>10)"
   ]
  },
  {
   "cell_type": "code",
   "execution_count": null,
   "id": "51f449fd",
   "metadata": {},
   "outputs": [],
   "source": [
    "rv = rv[non_null_mask]\n",
    "ra = ra[non_null_mask]\n",
    "dec = dec[non_null_mask]\n",
    "parallax = parallax[non_null_mask]\n",
    "pmra = pmra[non_null_mask]\n",
    "pmdec = pmdec[non_null_mask]\n",
    "feh = feh[non_null_mask]\n",
    "poe = poe[non_null_mask]\n",
    "source_id = source_id[non_null_mask]"
   ]
  },
  {
   "cell_type": "code",
   "execution_count": null,
   "id": "4b482af0",
   "metadata": {},
   "outputs": [],
   "source": [
    "# path_gaia = '/scratch/08949/tg882489/data/Ananke/GaiaDR3_data_reduced.hdf5'\n",
    "# with h5py.File(path_gaia, 'w') as f:\n",
    "#     f.create_dataset('radial_velocity', data=rv)\n",
    "#     f.create_dataset('ra', data=ra)\n",
    "#     f.create_dataset('dec', data=dec)\n",
    "#     f.create_dataset('pmra', data=pmra)\n",
    "#     f.create_dataset('pmdec', data=pmdec)\n",
    "#     f.create_dataset('parallax', data=parallax)\n",
    "#     f.create_dataset('feh', data=feh)\n",
    "#     f.create_dataset('poe', data=poe)\n",
    "#     f.create_dataset('source_id', data=source_id)"
   ]
  },
  {
   "cell_type": "code",
   "execution_count": null,
   "id": "98d4d2bc",
   "metadata": {},
   "outputs": [],
   "source": [
    "path_gaia = '/scratch/08949/tg882489/data/Ananke/GaiaDR3_data_reduced.hdf5'\n",
    "with h5py.File(path_gaia, 'r') as f:\n",
    "    rv = f['radial_velocity'][:]\n",
    "    ra = f['ra'][:]\n",
    "    dec = f['dec'][:]\n",
    "    pmra = f['pmra'][:]\n",
    "    pmdec = f['pmdec'][:]\n",
    "    parallax = f['parallax'][:]\n",
    "    feh = f['feh'][:]\n",
    "    source_id = f['source_id'][:]"
   ]
  },
  {
   "cell_type": "code",
   "execution_count": null,
   "id": "45a46f94",
   "metadata": {},
   "outputs": [],
   "source": [
    "keep_source_id = source_id\n",
    "empt = np.zeros(len(keep_source_id))"
   ]
  },
  {
   "cell_type": "code",
   "execution_count": null,
   "id": "69cf1e26",
   "metadata": {},
   "outputs": [],
   "source": [
    "\n",
    "ra = ra * u.deg\n",
    "dec = dec * u.deg\n",
    "pmra = pmra * u.mas / u.yr\n",
    "pmdec = pmdec * u.mas / u.yr\n",
    "parallax = parallax * u.mas\n",
    "rv = rv * u.km / u.s\n",
    "\n",
    "dist = coord.Distance(parallax=parallax, allow_negative=True)\n",
    "\n",
    "# Coord transformation\n",
    "icrs = coord.ICRS(\n",
    "    ra=ra, dec=dec, distance=dist, pm_ra_cosdec=pmra, pm_dec=pmdec, radial_velocity=rv)\n",
    "gal = icrs.transform_to(coord.Galactocentric())\n",
    "x_gal = gal.x.to_value(u.kpc)\n",
    "y_gal = gal.y.to_value(u.kpc)\n",
    "z_gal = gal.z.to_value(u.kpc)\n",
    "vx_gal = gal.v_x.to_value(u.km/u.s)\n",
    "vy_gal = gal.v_y.to_value(u.km/u.s)\n",
    "vz_gal = gal.v_z.to_value(u.km/u.s)  "
   ]
  },
  {
   "cell_type": "code",
   "execution_count": null,
   "id": "1bb2ef1c",
   "metadata": {},
   "outputs": [],
   "source": [
    "z_mask = (np.absolute(z_gal) > 1.5)\n",
    "source_id_z = source_id[z_mask]\n",
    "vx = vx_gal[z_mask]\n",
    "vy = vy_gal[z_mask]\n",
    "vz = vz_gal[z_mask]\n",
    "feh = feh[z_mask]\n"
   ]
  },
  {
   "cell_type": "code",
   "execution_count": null,
   "id": "ca1a2caf",
   "metadata": {},
   "outputs": [],
   "source": [
    "non_null_mask = (feh < -1.5)\n",
    "source_id = source_id[non_null_mask]\n",
    "vx = vx[non_null_mask]\n",
    "vy = vy[non_null_mask]\n",
    "vz = vz[non_null_mask]\n",
    "feh = feh_z[non_null_mask]"
   ]
  },
  {
   "cell_type": "code",
   "execution_count": null,
   "id": "231b1462",
   "metadata": {},
   "outputs": [],
   "source": [
    "len(source_id), len(vx)"
   ]
  },
  {
   "cell_type": "code",
   "execution_count": null,
   "id": "d7a2e966",
   "metadata": {},
   "outputs": [],
   "source": [
    "vr = np.sqrt(vx**2+vz**2)"
   ]
  },
  {
   "cell_type": "code",
   "execution_count": null,
   "id": "a21878d8",
   "metadata": {},
   "outputs": [],
   "source": [
    "len(z_gal), len(feh), len(vx), np.sum(np.isnan(source_id))"
   ]
  },
  {
   "cell_type": "code",
   "execution_count": null,
   "id": "f78e7e30",
   "metadata": {},
   "outputs": [],
   "source": [
    "len(feh)"
   ]
  },
  {
   "cell_type": "code",
   "execution_count": null,
   "id": "4e680fc2",
   "metadata": {},
   "outputs": [],
   "source": [
    "# source_id = str(source_id)\n",
    "# keep_source_id = str(keep_source_id)"
   ]
  },
  {
   "cell_type": "code",
   "execution_count": null,
   "id": "2564b603",
   "metadata": {},
   "outputs": [],
   "source": [
    "np.sum(accretion), len(keep_source_id)"
   ]
  },
  {
   "cell_type": "code",
   "execution_count": null,
   "id": "3d6a51ad",
   "metadata": {},
   "outputs": [],
   "source": [
    "accretion_id = np.isin(keep_source_id, source_id)\n",
    "accretion = np.int32(accretion_id)\n",
    "is_accreted = accretion"
   ]
  },
  {
   "cell_type": "code",
   "execution_count": null,
   "id": "ddfa00f7",
   "metadata": {},
   "outputs": [],
   "source": [
    "with h5py.File(path_gaia, 'a') as f:\n",
    "    del f['is_accreted']\n",
    "    f.create_dataset('is_accreted', data=accretion)"
   ]
  },
  {
   "cell_type": "code",
   "execution_count": null,
   "id": "ffce23b6",
   "metadata": {},
   "outputs": [],
   "source": [
    "fig, ax = plt.subplots(1, figsize=(13, 10))\n",
    "\n",
    "h = ax.hist2d(vy, vr, bins=100, weights=np.repeat(1/len(vx), len(vx)), norm=mpl.colors.LogNorm())\n",
    "ax.set_xlabel(r'$V_y [km s^{-1}]$', fontsize=35)\n",
    "ax.set_ylabel(r'$\\sqrt{V_x^2+V_z^2} [km s^{-1}]$', fontsize=35)\n",
    "ax.set_title('Toomre Diagram of Accreted Stars', fontsize=40)\n",
    "cb = fig.colorbar(h[3], ax=ax, label=r'Normalized Counts (km/s)$^{-2}$') \n",
    "cb.ax.tick_params(labelsize=35)\n",
    "ax.tick_params(axis='both', labelsize=35)"
   ]
  },
  {
   "cell_type": "code",
   "execution_count": null,
   "id": "42824230",
   "metadata": {},
   "outputs": [],
   "source": [
    "len(vy)"
   ]
  },
  {
   "cell_type": "code",
   "execution_count": null,
   "id": "ef374e82",
   "metadata": {},
   "outputs": [],
   "source": []
  }
 ],
 "metadata": {
  "kernelspec": {
   "display_name": "Python 3",
   "language": "python",
   "name": "python3"
  }
 },
 "nbformat": 4,
 "nbformat_minor": 5
}
