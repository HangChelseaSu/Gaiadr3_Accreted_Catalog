{
 "cells": [
  {
   "cell_type": "code",
   "execution_count": 1,
   "id": "a78e4094",
   "metadata": {},
   "outputs": [],
   "source": [
    "import h5py\n",
    "import numpy as np\n",
    "import pandas as pd\n",
    "import astropy.units as u\n",
    "import astropy.coordinates as coord\n",
    "import matplotlib.pyplot as plt\n",
    "import matplotlib as mpl"
   ]
  },
  {
   "cell_type": "code",
   "execution_count": 2,
   "id": "ec0d9dfc",
   "metadata": {},
   "outputs": [
    {
     "ename": "FileNotFoundError",
     "evalue": "File /scratch/05328/tg846280/GAIADR3_data/temp_gaia_edr3_data/all_w_rv_spec.h5 does not exist",
     "output_type": "error",
     "traceback": [
      "\u001b[0;31m---------------------------------------------------------------------------\u001b[0m",
      "\u001b[0;31mFileNotFoundError\u001b[0m                         Traceback (most recent call last)",
      "\u001b[0;32m/tmp/ipykernel_54390/3252479956.py\u001b[0m in \u001b[0;36m<module>\u001b[0;34m\u001b[0m\n\u001b[1;32m      2\u001b[0m \u001b[0mpath_spec\u001b[0m \u001b[0;34m=\u001b[0m \u001b[0;34m'/scratch/05328/tg846280/GAIADR3_data/temp_gaia_edr3_data/all_w_rv_spec.h5'\u001b[0m\u001b[0;34m\u001b[0m\u001b[0;34m\u001b[0m\u001b[0m\n\u001b[1;32m      3\u001b[0m \u001b[0;31m# df_phot = pd.read_hdf(path_phot)\u001b[0m\u001b[0;34m\u001b[0m\u001b[0;34m\u001b[0m\u001b[0m\n\u001b[0;32m----> 4\u001b[0;31m \u001b[0mdf_spec\u001b[0m \u001b[0;34m=\u001b[0m \u001b[0mpd\u001b[0m\u001b[0;34m.\u001b[0m\u001b[0mread_hdf\u001b[0m\u001b[0;34m(\u001b[0m\u001b[0mpath_spec\u001b[0m\u001b[0;34m)\u001b[0m\u001b[0;34m\u001b[0m\u001b[0;34m\u001b[0m\u001b[0m\n\u001b[0m\u001b[1;32m      5\u001b[0m \u001b[0;31m# path_out = '/work2/08949/tg882489/stampede2/data/Ananke/GaiaDR3_data_reduced.hdf5'\u001b[0m\u001b[0;34m\u001b[0m\u001b[0;34m\u001b[0m\u001b[0m\n",
      "\u001b[0;32m/work2/08949/tg882489/stampede2/anaconda3/envs/agama_env/lib/python3.9/site-packages/pandas/io/pytables.py\u001b[0m in \u001b[0;36mread_hdf\u001b[0;34m(path_or_buf, key, mode, errors, where, start, stop, columns, iterator, chunksize, **kwargs)\u001b[0m\n\u001b[1;32m    425\u001b[0m \u001b[0;34m\u001b[0m\u001b[0m\n\u001b[1;32m    426\u001b[0m         \u001b[0;32mif\u001b[0m \u001b[0;32mnot\u001b[0m \u001b[0mexists\u001b[0m\u001b[0;34m:\u001b[0m\u001b[0;34m\u001b[0m\u001b[0;34m\u001b[0m\u001b[0m\n\u001b[0;32m--> 427\u001b[0;31m             \u001b[0;32mraise\u001b[0m \u001b[0mFileNotFoundError\u001b[0m\u001b[0;34m(\u001b[0m\u001b[0;34mf\"File {path_or_buf} does not exist\"\u001b[0m\u001b[0;34m)\u001b[0m\u001b[0;34m\u001b[0m\u001b[0;34m\u001b[0m\u001b[0m\n\u001b[0m\u001b[1;32m    428\u001b[0m \u001b[0;34m\u001b[0m\u001b[0m\n\u001b[1;32m    429\u001b[0m         \u001b[0mstore\u001b[0m \u001b[0;34m=\u001b[0m \u001b[0mHDFStore\u001b[0m\u001b[0;34m(\u001b[0m\u001b[0mpath_or_buf\u001b[0m\u001b[0;34m,\u001b[0m \u001b[0mmode\u001b[0m\u001b[0;34m=\u001b[0m\u001b[0mmode\u001b[0m\u001b[0;34m,\u001b[0m \u001b[0merrors\u001b[0m\u001b[0;34m=\u001b[0m\u001b[0merrors\u001b[0m\u001b[0;34m,\u001b[0m \u001b[0;34m**\u001b[0m\u001b[0mkwargs\u001b[0m\u001b[0;34m)\u001b[0m\u001b[0;34m\u001b[0m\u001b[0;34m\u001b[0m\u001b[0m\n",
      "\u001b[0;31mFileNotFoundError\u001b[0m: File /scratch/05328/tg846280/GAIADR3_data/temp_gaia_edr3_data/all_w_rv_spec.h5 does not exist"
     ]
    }
   ],
   "source": [
    "# path_phot = '/scratch/05328/tg846280/GAIADR3_data/temp_gaia_edr3_data/all_w_rv_phot.h5'\n",
    "path_spec = '/scratch/05328/tg846280/GAIADR3_data/temp_gaia_edr3_data/all_w_rv_spec.h5'\n",
    "# df_phot = pd.read_hdf(path_phot)\n",
    "df_spec = pd.read_hdf(path_spec)\n",
    "# path_out = '/work2/08949/tg882489/stampede2/data/Ananke/GaiaDR3_data_reduced.hdf5'"
   ]
  },
  {
   "cell_type": "code",
   "execution_count": 56,
   "id": "17dfa378",
   "metadata": {},
   "outputs": [],
   "source": [
    "# df = pd.merge(df_phot, df_spec, on=\"source_id\", how=\"inner\")"
   ]
  },
  {
   "cell_type": "code",
   "execution_count": 57,
   "id": "2e416a3f",
   "metadata": {},
   "outputs": [],
   "source": [
    "fem = df_spec.fem_gspspec\n",
    "mh = df_spec.mh_gspspec\n",
    "source_id = df_spec.source_id"
   ]
  },
  {
   "cell_type": "code",
   "execution_count": 58,
   "id": "41174b3d",
   "metadata": {},
   "outputs": [
    {
     "data": {
      "text/plain": [
       "(33758668, 33758668, 33758668)"
      ]
     },
     "execution_count": 58,
     "metadata": {},
     "output_type": "execute_result"
    }
   ],
   "source": [
    "len(df_spec.fem_gspspec), len(df_spec.mh_gspspec), len(fem)"
   ]
  },
  {
   "cell_type": "code",
   "execution_count": 59,
   "id": "0ccb63fb",
   "metadata": {},
   "outputs": [],
   "source": [
    "mask1 = (~np.isnan(mh))"
   ]
  },
  {
   "cell_type": "code",
   "execution_count": 60,
   "id": "524946a9",
   "metadata": {},
   "outputs": [],
   "source": [
    "fem = fem[mask1]\n",
    "mh = mh[mask1]\n",
    "source_id = source_id[mask1]"
   ]
  },
  {
   "cell_type": "code",
   "execution_count": 61,
   "id": "062abd49",
   "metadata": {},
   "outputs": [
    {
     "data": {
      "text/plain": [
       "5510896"
      ]
     },
     "execution_count": 61,
     "metadata": {},
     "output_type": "execute_result"
    }
   ],
   "source": [
    "len(fem)"
   ]
  },
  {
   "cell_type": "code",
   "execution_count": 62,
   "id": "9407f494",
   "metadata": {},
   "outputs": [],
   "source": [
    "mask2 = (~np.isnan(fem))"
   ]
  },
  {
   "cell_type": "code",
   "execution_count": 63,
   "id": "59c3de40",
   "metadata": {},
   "outputs": [],
   "source": [
    "fem = fem[mask2]\n",
    "mh = mh[mask2]\n",
    "source_id = source_id[mask2]"
   ]
  },
  {
   "cell_type": "code",
   "execution_count": 64,
   "id": "916fb99f",
   "metadata": {},
   "outputs": [
    {
     "data": {
      "text/plain": [
       "(0, 0, 0)"
      ]
     },
     "execution_count": 64,
     "metadata": {},
     "output_type": "execute_result"
    }
   ],
   "source": [
    "np.sum(np.isnan(fem)), np.sum(np.isnan(mh)), np.sum(np.isnan(source_id))"
   ]
  },
  {
   "cell_type": "code",
   "execution_count": 65,
   "id": "4b0799d0",
   "metadata": {},
   "outputs": [
    {
     "data": {
      "text/plain": [
       "(1760727, 1760727, 1760727)"
      ]
     },
     "execution_count": 65,
     "metadata": {},
     "output_type": "execute_result"
    }
   ],
   "source": [
    "len(fem), len(mh), len(source_id)"
   ]
  },
  {
   "cell_type": "code",
   "execution_count": 66,
   "id": "1ee24520",
   "metadata": {},
   "outputs": [],
   "source": [
    "feh = fem + mh"
   ]
  },
  {
   "cell_type": "code",
   "execution_count": 67,
   "id": "d6397cc3",
   "metadata": {},
   "outputs": [],
   "source": [
    "path = '/scratch/05328/tg846280/GAIADR3_data/temp_gaia_edr3_data/all_w_rv_kin.h5'\n",
    "path_out = '/work2/08949/tg882489/stampede2/data/Ananke/GaiaDR3_data_reduced.hdf5'\n",
    "df = pd.read_hdf(path)"
   ]
  },
  {
   "cell_type": "code",
   "execution_count": 68,
   "id": "06bf2943",
   "metadata": {},
   "outputs": [],
   "source": [
    "main_source_id = df.source_id\n",
    "parallax = df.parallax\n",
    "parallax_error = df.parallax_error\n",
    "poe = parallax/parallax_error\n",
    "ra = df.ra\n",
    "dec = df.dec\n",
    "pmra = df.pmra\n",
    "pmdec = df.pmdec\n",
    "rv = df.radial_velocity"
   ]
  },
  {
   "cell_type": "code",
   "execution_count": 69,
   "id": "eacabe10",
   "metadata": {},
   "outputs": [
    {
     "data": {
      "text/plain": [
       "(33812183, 1760727)"
      ]
     },
     "execution_count": 69,
     "metadata": {},
     "output_type": "execute_result"
    }
   ],
   "source": [
    "len(main_source_id), len(source_id)"
   ]
  },
  {
   "cell_type": "code",
   "execution_count": 70,
   "id": "0c1aeb50",
   "metadata": {},
   "outputs": [
    {
     "name": "stderr",
     "output_type": "stream",
     "text": [
      "/tmp/ipykernel_208983/2133620579.py:1: RuntimeWarning: invalid value encountered in divide\n",
      "  empt = np.zeros(len(main_source_id))/0\n"
     ]
    }
   ],
   "source": [
    "empt = np.zeros(len(main_source_id))/0"
   ]
  },
  {
   "cell_type": "code",
   "execution_count": 71,
   "id": "f43461cc",
   "metadata": {},
   "outputs": [
    {
     "data": {
      "text/plain": [
       "(33812183, 1760727, 1712470)"
      ]
     },
     "execution_count": 71,
     "metadata": {},
     "output_type": "execute_result"
    }
   ],
   "source": [
    "len(empt), len(feh), np.sum(mask_id)"
   ]
  },
  {
   "cell_type": "code",
   "execution_count": 72,
   "id": "6a3ff7ba",
   "metadata": {},
   "outputs": [],
   "source": [
    "mask_id = (np.isin(main_source_id, source_id))\n",
    "empt[mask_id] = feh"
   ]
  },
  {
   "cell_type": "code",
   "execution_count": 75,
   "id": "6da62dde",
   "metadata": {},
   "outputs": [],
   "source": [
    "feh = empt"
   ]
  },
  {
   "cell_type": "code",
   "execution_count": 76,
   "id": "4ffe016e",
   "metadata": {},
   "outputs": [
    {
     "data": {
      "text/plain": [
       "(0, 32051456, 33812183, 33812183)"
      ]
     },
     "execution_count": 76,
     "metadata": {},
     "output_type": "execute_result"
    }
   ],
   "source": [
    "np.sum(np.isnan(rv)), np.sum(np.isnan(feh)), len(rv), len(feh)"
   ]
  },
  {
   "cell_type": "code",
   "execution_count": 77,
   "id": "8f644247",
   "metadata": {},
   "outputs": [],
   "source": [
    "non_null_mask = (~np.isnan(feh))\n",
    "rv = rv[non_null_mask]\n",
    "ra = ra[non_null_mask]\n",
    "dec = dec[non_null_mask]\n",
    "parallax = parallax[non_null_mask]\n",
    "pmra = pmra[non_null_mask]\n",
    "pmdec = pmdec[non_null_mask]\n",
    "feh = feh[non_null_mask]\n",
    "poe = poe[non_null_mask]"
   ]
  },
  {
   "cell_type": "code",
   "execution_count": 78,
   "id": "57f7e5bf",
   "metadata": {},
   "outputs": [
    {
     "data": {
      "text/plain": [
       "(1760727, 33812183, 1760727)"
      ]
     },
     "execution_count": 78,
     "metadata": {},
     "output_type": "execute_result"
    }
   ],
   "source": [
    "len(rv), len(df.source_id), len(ra)"
   ]
  },
  {
   "cell_type": "code",
   "execution_count": 80,
   "id": "9f318857",
   "metadata": {},
   "outputs": [],
   "source": [
    "mask_poe = (poe>10)\n",
    "parallax = parallax[mask_poe]\n",
    "ra = ra[mask_poe]\n",
    "dec = dec[mask_poe]\n",
    "pmra = pmra[mask_poe]\n",
    "pmdec = pmdec[mask_poe]\n",
    "rv = rv[mask_poe]\n",
    "feh = feh[mask_poe]"
   ]
  },
  {
   "cell_type": "code",
   "execution_count": 81,
   "id": "7f774a75",
   "metadata": {},
   "outputs": [],
   "source": [
    "rv = np.array(rv)\n",
    "ra = np.array(ra)\n",
    "dec = np.array(dec)\n",
    "parallax = np.array(parallax)\n",
    "pmra = np.array(pmra)\n",
    "pmdec = np.array(pmdec)\n",
    "feh = np.array(feh)\n"
   ]
  },
  {
   "cell_type": "code",
   "execution_count": 82,
   "id": "32becf7f",
   "metadata": {},
   "outputs": [],
   "source": [
    "ra = ra * u.deg\n",
    "dec = dec * u.deg\n",
    "parallax = parallax * u.mas\n",
    "rv = rv * u.km / u.s\n",
    "pmra = pmra * u.mas / u.yr\n",
    "pmdec = pmdec * u.mas / u.yr\n",
    "\n",
    "dist = coord.Distance(parallax=parallax, allow_negative=True)\n",
    "\n",
    "# Coord transformation\n",
    "icrs = coord.ICRS(\n",
    "    ra=ra, dec=dec, distance=dist, pm_ra_cosdec=pmra, pm_dec=pmdec, radial_velocity=rv)\n",
    "gal = icrs.transform_to(coord.Galactocentric())"
   ]
  },
  {
   "cell_type": "code",
   "execution_count": 83,
   "id": "3eb2c538",
   "metadata": {},
   "outputs": [],
   "source": [
    "z = gal.z.to_value(u.kpc)\n",
    "vx = gal.v_x.to_value(u.km/u.s)\n",
    "vy = gal.v_y.to_value(u.km/u.s)\n",
    "vz = gal.v_z.to_value(u.km/u.s)  "
   ]
  },
  {
   "cell_type": "code",
   "execution_count": 84,
   "id": "233a83f0",
   "metadata": {},
   "outputs": [
    {
     "data": {
      "text/plain": [
       "(1712470,\n",
       " array([ 0.0375008 ,  0.02127315,  0.01086536, ...,  1.45078643,\n",
       "         0.22712866, -2.79484051]),\n",
       " 1712470)"
      ]
     },
     "execution_count": 84,
     "metadata": {},
     "output_type": "execute_result"
    }
   ],
   "source": [
    "len(z), z, len(feh)"
   ]
  },
  {
   "cell_type": "code",
   "execution_count": 85,
   "id": "df872c03",
   "metadata": {},
   "outputs": [],
   "source": [
    "mask_z = (np.absolute(z)>1.5)"
   ]
  },
  {
   "cell_type": "code",
   "execution_count": 86,
   "id": "d938df42",
   "metadata": {},
   "outputs": [],
   "source": [
    "z = z[mask_z]\n",
    "vx = vx[mask_z]\n",
    "vy = vy[mask_z]\n",
    "vz = vz[mask_z]\n",
    "feh = feh[mask_z]"
   ]
  },
  {
   "cell_type": "code",
   "execution_count": 87,
   "id": "12af2174",
   "metadata": {},
   "outputs": [
    {
     "data": {
      "text/plain": [
       "(25125, 24816)"
      ]
     },
     "execution_count": 87,
     "metadata": {},
     "output_type": "execute_result"
    }
   ],
   "source": [
    "len(z), np.sum(feh>=-1.5)"
   ]
  },
  {
   "cell_type": "code",
   "execution_count": 88,
   "id": "660a5101",
   "metadata": {},
   "outputs": [],
   "source": [
    "mask_feh = (feh<-1.5)\n",
    "z = z[mask_feh]\n",
    "vx = vx[mask_feh]\n",
    "vy = vy[mask_feh]\n",
    "vz = vz[mask_feh]\n",
    "feh = feh[mask_feh]"
   ]
  },
  {
   "cell_type": "code",
   "execution_count": 92,
   "id": "9645dd13",
   "metadata": {},
   "outputs": [
    {
     "data": {
      "text/plain": [
       "(0.00018044111721665198, 309)"
      ]
     },
     "execution_count": 92,
     "metadata": {},
     "output_type": "execute_result"
    }
   ],
   "source": [
    "len(feh)/len(ra), len(z)"
   ]
  },
  {
   "cell_type": "code",
   "execution_count": 90,
   "id": "5d738f21",
   "metadata": {},
   "outputs": [],
   "source": [
    "vr = np.sqrt(vx**2+vz**2)"
   ]
  },
  {
   "cell_type": "code",
   "execution_count": 91,
   "id": "7653d0cf",
   "metadata": {},
   "outputs": [
    {
     "data": {
      "image/png": "[encoded data removed]",
      "text/plain": [
       "<Figure size 1300x1000 with 2 Axes>"
      ]
     },
     "metadata": {},
     "output_type": "display_data"
    }
   ],
   "source": [
    "fig, ax = plt.subplots(1, figsize=(13, 10))\n",
    "\n",
    "h = ax.hist2d(vy, vr, bins=100, weights=np.repeat(1/len(vx), len(vx)), norm=mpl.colors.LogNorm())\n",
    "ax.set_xlabel(r'$V_y [km s^{-1}]$', fontsize=35)\n",
    "ax.set_ylabel(r'$\\sqrt{V_x^2+V_z^2} [km s^{-1}]$', fontsize=35)\n",
    "ax.set_title('Toomre Diagram of Accreted Stars', fontsize=40)\n",
    "cb = fig.colorbar(h[3], ax=ax, label=r'Normalized Counts (km/s)$^{-2}$') \n",
    "cb.ax.tick_params(labelsize=35)\n",
    "ax.tick_params(axis='both', labelsize=35)"
   ]
  },
  {
   "cell_type": "code",
   "execution_count": null,
   "id": "682e3674",
   "metadata": {},
   "outputs": [],
   "source": []
  }
 ],
 "metadata": {
  "kernelspec": {
   "display_name": "Python 3 (ipykernel)",
   "language": "python",
   "name": "python3"
  },
  "language_info": {
   "codemirror_mode": {
    "name": "ipython",
    "version": 3
   },
   "file_extension": ".py",
   "mimetype": "text/x-python",
   "name": "python",
   "nbconvert_exporter": "python",
   "pygments_lexer": "ipython3",
   "version": "3.9.13"
  }
 },
 "nbformat": 4,
 "nbformat_minor": 5
}
