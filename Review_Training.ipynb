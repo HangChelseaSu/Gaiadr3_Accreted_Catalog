{
 "cells": [
  {
   "cell_type": "code",
   "execution_count": 1,
   "id": "8789b4cd",
   "metadata": {},
   "outputs": [
    {
     "name": "stderr",
     "output_type": "stream",
     "text": [
      "/tmp/ipykernel_15034/3888904027.py:10: DeprecationWarning: Importing display from IPython.core.display is deprecated since IPython 7.14, please import from IPython display\n",
      "  from IPython.core.display import display\n"
     ]
    }
   ],
   "source": [
    "import h5py\n",
    "import numpy as np\n",
    "import pandas as pd\n",
    "import os\n",
    "import pandas as pd\n",
    "import seaborn as sn\n",
    "import torch\n",
    "import torchvision.models as models\n",
    "from pytorch_lightning.callbacks.model_checkpoint import ModelCheckpoint\n",
    "from IPython.core.display import display\n",
    "from collections.abc import Mapping\n",
    "from pytorch_lightning import LightningModule, Trainer\n",
    "from pytorch_lightning.callbacks.progress import TQDMProgressBar\n",
    "from pytorch_lightning.loggers import CSVLogger\n",
    "from torch import nn\n",
    "from torch.nn import functional as F\n",
    "from torch.utils.data import DataLoader, random_split, TensorDataset\n",
    "from pytorch_lightning.callbacks.early_stopping import EarlyStopping\n",
    "from pytorch_lightning.loggers import CSVLogger\n",
    "import torchmetrics\n",
    "from torchvision.transforms import ToTensor\n",
    "\n",
    "import matplotlib.pyplot as plt\n",
    "plt.style.use('seaborn-colorblind')"
   ]
  },
  {
   "cell_type": "code",
   "execution_count": 2,
   "id": "d0c19bcb",
   "metadata": {},
   "outputs": [],
   "source": [
    "#User Input\n",
    "sim = 'DR3_lsr012' #input(\"DR2 or DR3: \")\n",
    "dim = '5D' #input(\"Input how many dimensions are needed: \")\n",
    "galaxy = 'm12i' #input(\"Use m12i or m12f data: \")\n",
    "transfer = True #bool(input(\"Transfer learning (True or False): \"))\n",
    "if transfer == True:\n",
    "    transfer_galaxy = 'm12i' #input(\"Which galaxy parameters for transfer learning: \")\n",
    "\n",
    "# Training data\n",
    "if dim == '4D':\n",
    "    x_keys = ['ra', 'dec', 'pmra', 'pmdec']\n",
    "elif dim == '5D':\n",
    "    x_keys = ['ra', 'dec', 'pmra', 'pmdec', 'parallax']\n",
    "elif dim == '6D':\n",
    "    x_keys = ['ra', 'dec', 'pmra', 'pmdec', 'parallax', 'radial_velocity']\n",
    "elif dim == '7D':\n",
    "    x_keys = ['ra', 'dec', 'pmra', 'pmdec', 'parallax', 'radial_velocity', 'feh']\n",
    "elif dim == '9D':\n",
    "    x_keys = ['ra', 'dec', 'pmra', 'pmdec', 'parallax', 'radial_velocity', 'Jr', 'Jphi', 'Jz']\n",
    "elif dim == '10D':\n",
    "    x_keys = ['ra', 'dec', 'pmra', 'pmdec', 'parallax', 'radial_velocity', 'Jr', 'Jphi', 'Jz', 'feh']\n",
    "    \n",
    "y_key = 'is_accreted'\n",
    "\n",
    "# Directories\n",
    "path = '/ocean/projects/phy210068p/hsu1/Ananke_datasets_training/GaiaDR3_data_reduced.hdf5'\n",
    "out_dir = '/ocean/projects/phy210068p/hsu1/Training_results/' + sim + '/' + galaxy + '/' + dim\n",
    "roc_title = sim + '_' + galaxy + '_' + dim\n",
    "\n",
    "# Parameters\n",
    "learning_rate = 1e-3\n",
    "batch_size = 1024\n",
    "roc_path = '/ocean/projects/phy210068p/hsu1/Training_results/' + sim + '/' + galaxy + '/' + 'roc_parameters.hdf5'\n",
    "\n",
    "if transfer == True:\n",
    "    transfer_checkpoint = '/ocean/projects/phy210068p/hsu1/Training_results/' + sim +'/'+ transfer_galaxy +'/'+ dim + '/training_logs/version_0/checkpoints/last.ckpt'\n",
    "\n",
    "train_parameter_file = out_dir + '/training_parameters.hdf5'\n",
    "train_log = out_dir + '/training_logs'\n",
    "checkpoint = train_log + '/version_0/checkpoints/last.ckpt'"
   ]
  },
  {
   "cell_type": "code",
   "execution_count": 3,
   "id": "0a567bff",
   "metadata": {},
   "outputs": [],
   "source": [
    "data = []\n",
    "f = h5py.File(path, 'r')\n",
    "\n",
    "for i in x_keys:\n",
    "    data.append(f[i][:])\n",
    "y = f[y_key][:]\n",
    "\n",
    "# Getting rid of nan values\n",
    "x = []\n",
    "if 'Jr' in x_keys:\n",
    "    Jr = f['Jr'][:]\n",
    "    mask = (~np.isnan(Jr))\n",
    "    for i in range(len(x_keys)):\n",
    "        new = data[i][:][mask]\n",
    "        x.append(new)\n",
    "    y = y[mask]\n",
    "elif 'radial_velocity' in x_keys:\n",
    "    rv = f['radial_velocity'][:]\n",
    "    mask = (~np.isnan(rv))\n",
    "    for i in range(len(x_keys)):\n",
    "        new = data[i][:][mask]\n",
    "        x.append(new)\n",
    "    y = y[mask]\n",
    "else:\n",
    "    x = data\n",
    "\n",
    "x = np.vstack(x).T\n",
    "f.close()"
   ]
  },
  {
   "cell_type": "code",
   "execution_count": 4,
   "id": "64dc349f",
   "metadata": {},
   "outputs": [],
   "source": [
    "with h5py.File(train_parameter_file, 'r') as f:\n",
    "    shuffle = f['shuffle'][:]\n",
    "\n",
    "x = x[shuffle]\n",
    "y = y[shuffle]"
   ]
  },
  {
   "cell_type": "code",
   "execution_count": 5,
   "id": "3e4079bc",
   "metadata": {},
   "outputs": [],
   "source": [
    "n_train = int(0.9 *len(x))\n",
    "n_val = len(x)-n_train\n",
    "train_x, val_x = x[:n_train], x[n_train: n_train+n_val]\n",
    "train_y, val_y = y[:n_train], y[n_train: n_train+n_val]\n",
    "\n",
    "ny1 = np.sum(train_y==1)\n",
    "ny0 = np.sum(train_y==0)\n",
    "ny = ny1 + ny0\n",
    "w1 = ny/ny1\n",
    "w0 = ny/ny0\n",
    "weight = torch.tensor([w0, w1], dtype=torch.float32)\n",
    "mean_train_x = np.mean(train_x, axis = 0)\n",
    "stdv_train_x = np.std(train_x, axis = 0)\n",
    "train_x = (train_x - mean_train_x) / stdv_train_x\n",
    "val_x = (val_x - mean_train_x) / stdv_train_x\n",
    "train_x = torch.tensor(train_x, dtype=torch.float32)\n",
    "train_y = torch.tensor(train_y, dtype=torch.long)\n",
    "val_x = torch.tensor(val_x, dtype=torch.float32)\n",
    "val_y = torch.tensor(val_y, dtype=torch.long)\n",
    "\n",
    "train_dataset = TensorDataset(train_x, train_y)\n",
    "val_dataset = TensorDataset(val_x, val_y)\n",
    "train_loader = DataLoader(train_dataset, batch_size = batch_size)\n",
    "val_loader = DataLoader(val_dataset, batch_size = batch_size)"
   ]
  },
  {
   "cell_type": "code",
   "execution_count": 6,
   "id": "fcd78ddb",
   "metadata": {},
   "outputs": [],
   "source": [
    "class Model(LightningModule):\n",
    "    def __init__(self, transfer):\n",
    "        self.feature_extractor = FeatureExtractorModel()\n",
    "        self.classifier = Classifier\n",
    "        if transfer:\n",
    "             self.feature_extractor.freeze()\n",
    "                \n",
    "    def __init__(self, weight, mean_train_x, stdv_train_x):\n",
    "        super().__init__()\n",
    "        self.save_hyperparameters()\n",
    "        self.l1 = torch.nn.Linear(len(x_keys), 100) \n",
    "        self.l2 = torch.nn.Linear(100, 50)\n",
    "        self.l3 = torch.nn.Linear(50, 2)\n",
    "        self.train_acc = torchmetrics.Accuracy()\n",
    "        self.valid_acc = torchmetrics.Accuracy()\n",
    "        self.weight = weight\n",
    "        self.mean_train_x = mean_train_x\n",
    "        self.stdv_train_x = stdv_train_x\n",
    "\n",
    "    def forward(self, x):\n",
    "        x_out = self.l1(x)\n",
    "        x_out = torch.relu(x_out)\n",
    "        x_out = self.l2(x_out)\n",
    "        x_out = torch.relu(x_out)\n",
    "        x_out = self.l3(x_out)\n",
    "        return x_out\n",
    "    \n",
    "    def configure_optimizers(self):\n",
    "        return torch.optim.Adam(self.parameters(), lr=learning_rate)\n",
    "    \n",
    "    def training_step(self, batch, batch_nb):\n",
    "        train_x, train_y = batch \n",
    "        preds = self(train_x)\n",
    "        loss = F.cross_entropy(preds, train_y, weight = self.weight.to(self.device))\n",
    "        self.train_acc(preds, train_y)\n",
    "        self.log('train_loss', loss)\n",
    "        self.log('train_acc', self.train_acc, on_step=False, on_epoch=True, prog_bar=True)\n",
    "        return loss\n",
    "    \n",
    "    def validation_step(self, batch, batch_nb):\n",
    "        val_x, val_y = batch\n",
    "        preds = self(val_x)\n",
    "        loss = F.cross_entropy(preds, val_y, weight=self.weight.to(self.device))\n",
    "        self.valid_acc(preds, val_y)\n",
    "        self.log('val_loss', loss)\n",
    "        self.log('valid_acc', self.valid_acc, on_step=False, on_epoch=True, prog_bar=True)\n",
    "        return loss"
   ]
  },
  {
   "cell_type": "code",
   "execution_count": 12,
   "id": "6fdf1b46",
   "metadata": {},
   "outputs": [],
   "source": [
    "if transfer == True:\n",
    "    model = Model.load_from_checkpoint(transfer_checkpoint, transfer=True)\n",
    "else:\n",
    "    model = Model(transfer=False)\n",
    "mean = model.mean_train_x\n",
    "stdv = model.stdv_train_x\n",
    "weight = model.weight\n",
    "\n",
    "n_test = n_val\n",
    "test_x = x[n_train: n_train+n_test]\n",
    "test_y = y[n_train: n_train+n_test]\n",
    "\n",
    "test_x = (test_x - mean) / stdv\n",
    "\n",
    "test_x = torch.tensor(test_x, dtype=torch.float32)\n",
    "test_y = torch.tensor(test_y, dtype=torch.long)\n",
    "\n",
    "test_dataset = list(zip(test_x, test_y))\n",
    "test_loader = DataLoader(test_dataset, batch_size = batch_size)"
   ]
  },
  {
   "cell_type": "code",
   "execution_count": 13,
   "id": "e5282247",
   "metadata": {},
   "outputs": [
    {
     "data": {
      "text/plain": [
       "(8593425, 8593425, 8593425, 1139540)"
      ]
     },
     "execution_count": 13,
     "metadata": {},
     "output_type": "execute_result"
    }
   ],
   "source": [
    "len(y), len(x), len(shuffle), 1133904+5636"
   ]
  },
  {
   "cell_type": "code",
   "execution_count": 20,
   "id": "e209c7da",
   "metadata": {},
   "outputs": [
    {
     "name": "stderr",
     "output_type": "stream",
     "text": [
      "/tmp/ipykernel_15034/3071458566.py:14: RuntimeWarning: overflow encountered in exp\n",
      "  score = np.exp(predict[:,1])/(np.exp(predict[:,0])+np.exp(predict[:,1]))\n"
     ]
    }
   ],
   "source": [
    "predict = []\n",
    "target = []\n",
    "\n",
    "model.eval()\n",
    "with torch.no_grad():\n",
    "    for batch in test_loader:\n",
    "        x, y = batch\n",
    "        yhat = model(x)\n",
    "        predict.append(yhat.cpu().numpy())\n",
    "        target.append(y.cpu().numpy())\n",
    "predict = np.concatenate(predict)\n",
    "target = np.concatenate(target)\n",
    "\n",
    "score = np.exp(predict[:,1])/(np.exp(predict[:,0])+np.exp(predict[:,1]))\n",
    "target_true_mask = (target==True)\n",
    "target_false_mask = (target==False)\n",
    "\n",
    "thresholds = np.linspace(0.001, 1, 100)\n",
    "precision = []\n",
    "recall = []\n",
    "epsilon_a = []\n",
    "epsilon_i = []\n",
    "for thres in thresholds:\n",
    "    score_1 = score>thres\n",
    "    score_1_true_mask = (score_1==True)\n",
    "    score_1_false_mask = (score_1==False)\n",
    "    TP = np.sum(score_1[target_true_mask])\n",
    "    FP = np.sum(score_1[target_false_mask])\n",
    "    TN = np.sum(~score_1[target_false_mask])\n",
    "    FN = np.sum(~score_1[target_true_mask])\n",
    "    N_a = TP + FN\n",
    "    N_i = TN + FP\n",
    "    N_a_s = TP\n",
    "    N_i_s = FP\n",
    "    epsilon_a_thres = N_a_s / N_a\n",
    "    epsilon_i_thres = N_i_s / N_i\n",
    "    epsilon_a.append(epsilon_a_thres)\n",
    "    epsilon_i.append(epsilon_i_thres)"
   ]
  },
  {
   "cell_type": "code",
   "execution_count": 24,
   "id": "7308a351",
   "metadata": {},
   "outputs": [],
   "source": [
    "score_a = score[target==True]\n",
    "score_i = score[target==False]"
   ]
  },
  {
   "cell_type": "code",
   "execution_count": 22,
   "id": "f0292a97",
   "metadata": {},
   "outputs": [
    {
     "data": {
      "text/plain": [
       "(array([2.00000e+00, 0.00000e+00, 0.00000e+00, 1.00000e+00, 0.00000e+00,\n",
       "        1.00000e+00, 5.00000e+00, 8.00000e+00, 7.70000e+01, 8.59249e+05]),\n",
       " array([-197.86594 , -177.14122 , -156.4165  , -135.69177 , -114.96706 ,\n",
       "         -94.24234 ,  -73.517624,  -52.7929  ,  -32.06818 ,  -11.343462,\n",
       "           9.381257], dtype=float32),\n",
       " <BarContainer object of 10 artists>)"
      ]
     },
     "execution_count": 22,
     "metadata": {},
     "output_type": "execute_result"
    },
    {
     "data": {
      "image/png": "[encoded data removed]",
      "text/plain": [
       "<Figure size 432x288 with 1 Axes>"
      ]
     },
     "metadata": {
      "needs_background": "light"
     },
     "output_type": "display_data"
    }
   ],
   "source": [
    "plt.hist(predict[:,0])\n",
    "plt.hist(predict[:,1])"
   ]
  },
  {
   "cell_type": "code",
   "execution_count": 15,
   "id": "39a4a3ca",
   "metadata": {},
   "outputs": [
    {
     "data": {
      "text/plain": [
       "0"
      ]
     },
     "execution_count": 15,
     "metadata": {},
     "output_type": "execute_result"
    }
   ],
   "source": [
    "np.sum(np.isinf(score))"
   ]
  },
  {
   "cell_type": "code",
   "execution_count": 45,
   "id": "fb8971cd",
   "metadata": {},
   "outputs": [
    {
     "data": {
      "text/plain": [
       "(0,\n",
       " (array([1.123437e+06, 1.282000e+03, 8.820000e+02, 7.280000e+02,\n",
       "         6.630000e+02, 6.520000e+02, 7.270000e+02, 8.860000e+02,\n",
       "         1.459000e+03, 8.824000e+03]),\n",
       "  array([0. , 0.1, 0.2, 0.3, 0.4, 0.5, 0.6, 0.7, 0.8, 0.9, 1. ],\n",
       "        dtype=float128),\n",
       "  <BarContainer object of 10 artists>))"
      ]
     },
     "execution_count": 45,
     "metadata": {},
     "output_type": "execute_result"
    },
    {
     "data": {
      "image/png": "[encoded data removed]",
      "text/plain": [
       "<Figure size 432x288 with 1 Axes>"
      ]
     },
     "metadata": {
      "needs_background": "light"
     },
     "output_type": "display_data"
    }
   ],
   "source": [
    "np.sum(np.isnan(score)), plt.hist(score)"
   ]
  },
  {
   "cell_type": "code",
   "execution_count": 25,
   "id": "83e86d6d",
   "metadata": {},
   "outputs": [
    {
     "data": {
      "text/plain": [
       "<matplotlib.legend.Legend at 0x14f153d2f190>"
      ]
     },
     "execution_count": 25,
     "metadata": {},
     "output_type": "execute_result"
    },
    {
     "data": {
      "image/png": "[encoded data removed]",
      "text/plain": [
       "<Figure size 720x720 with 1 Axes>"
      ]
     },
     "metadata": {
      "needs_background": "light"
     },
     "output_type": "display_data"
    }
   ],
   "source": [
    "fig, ax = plt.subplots(1, figsize=(10, 10))\n",
    "\n",
    "ax.hist(score_a, bins=100, density=True, label='accreted')\n",
    "ax.hist(score_i, bins=100, density=True, label='in situ')\n",
    "ax.set_title(roc_title, fontsize=40)\n",
    "ax.set_xlabel('Scores', fontsize=25)\n",
    "ax.set_ylabel('Normalized Counts', fontsize=25)\n",
    "ax.tick_params(axis='both', labelsize=15)\n",
    "#plt.xlim([0,1])\n",
    "# plt.ylim([0,25])\n",
    "ax.legend(loc='upper right', fontsize=15)"
   ]
  },
  {
   "cell_type": "code",
   "execution_count": 71,
   "id": "105c1636",
   "metadata": {},
   "outputs": [
    {
     "data": {
      "text/plain": [
       "(5636, 1133904)"
      ]
     },
     "execution_count": 71,
     "metadata": {},
     "output_type": "execute_result"
    }
   ],
   "source": [
    "np.sum(target==True), np.sum(target==False)"
   ]
  },
  {
   "cell_type": "code",
   "execution_count": 21,
   "id": "18b93e1c",
   "metadata": {},
   "outputs": [],
   "source": [
    "thresholds = np.linspace(0.001, 1, 1000)\n",
    "precision = []\n",
    "recall = []\n",
    "epsilon_a = []\n",
    "epsilon_i = []\n",
    "for thres in thresholds:\n",
    "    score_1 = score>thres\n",
    "    score_1_true_mask = (score_1==True)\n",
    "    score_1_false_mask = (score_1==False)\n",
    "    TP = np.sum(score_1[target_true_mask])\n",
    "    FP = np.sum(score_1[target_false_mask])\n",
    "    TN = np.sum(~score_1[target_false_mask])\n",
    "    FN = np.sum(~score_1[target_true_mask])\n",
    "    N_a = TP + FN\n",
    "    N_i = TN + FP\n",
    "    N_a_s = TP\n",
    "    N_i_s = FP\n",
    "    epsilon_a_thres = N_a_s / N_a\n",
    "    epsilon_i_thres = N_i_s / N_i\n",
    "    epsilon_a.append(epsilon_a_thres)\n",
    "    epsilon_i.append(epsilon_i_thres)"
   ]
  },
  {
   "cell_type": "code",
   "execution_count": 68,
   "id": "b71928d3",
   "metadata": {},
   "outputs": [
    {
     "data": {
      "text/plain": [
       "(0, 0)"
      ]
     },
     "execution_count": 68,
     "metadata": {},
     "output_type": "execute_result"
    }
   ],
   "source": [
    "epsilon_a = np.array(epsilon_a)\n",
    "epsilon_i = np.array(epsilon_i)\n",
    "np.sum(epsilon_a > 0.6), np.sum(epsilon_i>0.0175)"
   ]
  },
  {
   "cell_type": "code",
   "execution_count": 79,
   "id": "2dfe726e",
   "metadata": {},
   "outputs": [
    {
     "data": {
      "text/plain": [
       "([<matplotlib.lines.Line2D at 0x145c00c28a30>], 23224)"
      ]
     },
     "execution_count": 79,
     "metadata": {},
     "output_type": "execute_result"
    },
    {
     "data": {
      "image/png": "[encoded data removed]",
      "text/plain": [
       "<Figure size 432x288 with 1 Axes>"
      ]
     },
     "metadata": {
      "needs_background": "light"
     },
     "output_type": "display_data"
    }
   ],
   "source": [
    "plt.plot(epsilon_i, epsilon_a), 3381+19843"
   ]
  },
  {
   "cell_type": "code",
   "execution_count": 26,
   "id": "b0a39687",
   "metadata": {},
   "outputs": [
    {
     "data": {
      "image/png": "[encoded data removed]",
      "text/plain": [
       "<Figure size 720x720 with 1 Axes>"
      ]
     },
     "metadata": {
      "needs_background": "light"
     },
     "output_type": "display_data"
    }
   ],
   "source": [
    "fig, ax = plt.subplots(1, figsize=(10, 10))\n",
    "\n",
    "ax.plot(epsilon_i, epsilon_a, linewidth=6)\n",
    "ax.plot(0.045, 0.86, markersize=10, marker='D', label='V Selection')\n",
    "ax.plot(0.011, 0.862, markersize=10, marker='s', label='VM Selection')\n",
    "#ax.plot(0.3, 0.1, markersize=20, marker=(5, 1))\n",
    "ax.set_title(roc_title, fontsize=40)\n",
    "ax.set_xlabel(r'$\\epsilon_I$', fontsize=35)\n",
    "ax.set_ylabel(r'$\\epsilon_A$', fontsize=35)\n",
    "ax.set_xscale('log')\n",
    "ax.tick_params(axis='both', labelsize=35)\n",
    "ax.legend(fontsize=15, loc='lower right')\n",
    "plt.xlim([0.001,1])\n",
    "plt.ylim([0,1])\n",
    "plt.show()\n",
    "\n"
   ]
  },
  {
   "cell_type": "code",
   "execution_count": 57,
   "id": "1f3e332e",
   "metadata": {},
   "outputs": [],
   "source": [
    "path = '/ocean/projects/phy210068p/hsu1/Training_results/DR2/DR2_m12f_on_m12i_roc_parameters.hdf5'\n",
    "with h5py.File(path, 'r') as f:\n",
    "    a4 = f['4D_ep_a'][:]\n",
    "    i4 = f['4D_ep_i'][:]    "
   ]
  },
  {
   "cell_type": "code",
   "execution_count": 58,
   "id": "37dfad54",
   "metadata": {},
   "outputs": [
    {
     "data": {
      "text/plain": [
       "array([1.00000000e+00, 9.95842699e-01, 9.88591594e-01, 9.81582191e-01,\n",
       "       9.75249559e-01, 9.69883741e-01, 9.64010345e-01, 9.59345467e-01,\n",
       "       9.54559737e-01, 9.49774007e-01, 9.44988277e-01, 9.40903488e-01,\n",
       "       9.36867039e-01, 9.32443864e-01, 9.28189882e-01, 9.24225944e-01,\n",
       "       9.20141155e-01, 9.15863002e-01, 9.11439828e-01, 9.06799120e-01,\n",
       "       9.02448457e-01, 8.98412008e-01, 8.93505426e-01, 8.89178933e-01,\n",
       "       8.84296522e-01, 8.79776666e-01, 8.75667706e-01, 8.70906147e-01,\n",
       "       8.65975395e-01, 8.61262176e-01, 8.55944698e-01, 8.50651391e-01,\n",
       "       8.46034854e-01, 8.40838228e-01, 8.35520750e-01, 8.29792377e-01,\n",
       "       8.24740773e-01, 8.19109081e-01, 8.13090663e-01, 8.06685520e-01,\n",
       "       8.01343872e-01, 7.95905542e-01, 7.89500399e-01, 7.83578662e-01,\n",
       "       7.77415222e-01, 7.71348464e-01, 7.65450898e-01, 7.58248133e-01,\n",
       "       7.51963841e-01, 7.44543543e-01, 7.36857371e-01, 7.28881154e-01,\n",
       "       7.20590723e-01, 7.12300292e-01, 7.03550625e-01, 6.95091001e-01,\n",
       "       6.85592053e-01, 6.76044763e-01, 6.66521645e-01, 6.55862519e-01,\n",
       "       6.45106712e-01, 6.33190728e-01, 6.21806492e-01, 6.09938849e-01,\n",
       "       5.96814348e-01, 5.83714016e-01, 5.68124139e-01, 5.53452735e-01,\n",
       "       5.38660479e-01, 5.23868223e-01, 5.07915790e-01, 4.89860537e-01,\n",
       "       4.72965461e-01, 4.53919223e-01, 4.35163029e-01, 4.16696880e-01,\n",
       "       3.97650642e-01, 3.79426196e-01, 3.60186595e-01, 3.39835158e-01,\n",
       "       3.19507892e-01, 2.98334663e-01, 2.75227806e-01, 2.52145119e-01,\n",
       "       2.28965751e-01, 2.04988761e-01, 1.80818408e-01, 1.58315810e-01,\n",
       "       1.34000435e-01, 1.10120127e-01, 8.47654267e-02, 6.00874967e-02,\n",
       "       3.77782612e-02, 1.90462379e-02, 9.45060788e-03, 5.41415899e-03,\n",
       "       3.09380514e-03, 1.37771010e-03, 3.38384937e-04, 0.00000000e+00])"
      ]
     },
     "execution_count": 58,
     "metadata": {},
     "output_type": "execute_result"
    }
   ],
   "source": [
    "a4"
   ]
  },
  {
   "cell_type": "code",
   "execution_count": null,
   "id": "64c3428a",
   "metadata": {},
   "outputs": [],
   "source": []
  }
 ],
 "metadata": {
  "kernelspec": {
   "display_name": "Python 3 (ipykernel)",
   "language": "python",
   "name": "python3"
  },
  "language_info": {
   "codemirror_mode": {
    "name": "ipython",
    "version": 3
   },
   "file_extension": ".py",
   "mimetype": "text/x-python",
   "name": "python",
   "nbconvert_exporter": "python",
   "pygments_lexer": "ipython3",
   "version": "3.8.13"
  }
 },
 "nbformat": 4,
 "nbformat_minor": 5
}
